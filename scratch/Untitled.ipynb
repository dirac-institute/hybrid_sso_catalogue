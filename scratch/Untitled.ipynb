{
 "cells": [
  {
   "cell_type": "code",
   "execution_count": 27,
   "id": "d89621d6",
   "metadata": {},
   "outputs": [],
   "source": [
    "import pandas as pd\n",
    "import numpy as np"
   ]
  },
  {
   "cell_type": "code",
   "execution_count": 2,
   "id": "380738a7",
   "metadata": {},
   "outputs": [],
   "source": [
    "hybrid = pd.read_hdf(\"../catalogues/hybrid.h5\")"
   ]
  },
  {
   "cell_type": "code",
   "execution_count": 24,
   "id": "233ff80b",
   "metadata": {},
   "outputs": [
    {
     "data": {
      "text/plain": [
       "13183122"
      ]
     },
     "execution_count": 24,
     "metadata": {},
     "output_type": "execute_result"
    }
   ],
   "source": [
    "len(hybrid) - 1252000 - 867"
   ]
  },
  {
   "cell_type": "code",
   "execution_count": 28,
   "id": "671884c0",
   "metadata": {},
   "outputs": [],
   "source": [
    "observed = np.repeat(False, len(hybrid))"
   ]
  },
  {
   "cell_type": "code",
   "execution_count": 32,
   "id": "1ad2b804",
   "metadata": {},
   "outputs": [],
   "source": [
    "observed[13183122:-1] = True\n",
    "observed[-1] = True"
   ]
  },
  {
   "cell_type": "code",
   "execution_count": 37,
   "id": "f5dbc059",
   "metadata": {},
   "outputs": [
    {
     "data": {
      "text/plain": [
       "1252867"
      ]
     },
     "execution_count": 37,
     "metadata": {},
     "output_type": "execute_result"
    }
   ],
   "source": [
    "(pd.read_hdf(\"../catalogues/mpcorb_initial.h5\")[\"H\"] < 35).sum()"
   ]
  },
  {
   "cell_type": "code",
   "execution_count": 36,
   "id": "3e9420d7",
   "metadata": {},
   "outputs": [
    {
     "data": {
      "text/plain": [
       "1252867"
      ]
     },
     "execution_count": 36,
     "metadata": {},
     "output_type": "execute_result"
    }
   ],
   "source": [
    "observed.sum()"
   ]
  },
  {
   "cell_type": "code",
   "execution_count": 25,
   "id": "a9e24888",
   "metadata": {},
   "outputs": [
    {
     "data": {
      "text/plain": [
       "id         0.000000\n",
       "x         -2.216779\n",
       "y          1.177057\n",
       "z          0.445557\n",
       "vx        -0.005123\n",
       "vy        -0.009929\n",
       "vz         0.000630\n",
       "t_0    59914.000000\n",
       "H          3.330000\n",
       "g          0.150000\n",
       "Name: A801 AA, dtype: float64"
      ]
     },
     "execution_count": 25,
     "metadata": {},
     "output_type": "execute_result"
    }
   ],
   "source": [
    "hybrid.iloc[13183122]"
   ]
  }
 ],
 "metadata": {
  "kernelspec": {
   "display_name": "Solar System Environment",
   "language": "python",
   "name": "solar_system"
  },
  "language_info": {
   "codemirror_mode": {
    "name": "ipython",
    "version": 3
   },
   "file_extension": ".py",
   "mimetype": "text/x-python",
   "name": "python",
   "nbconvert_exporter": "python",
   "pygments_lexer": "ipython3",
   "version": "3.9.6"
  }
 },
 "nbformat": 4,
 "nbformat_minor": 5
}
