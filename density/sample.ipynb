{
 "cells": [
  {
   "cell_type": "code",
   "execution_count": 1,
   "id": "b7297f63",
   "metadata": {},
   "outputs": [],
   "source": [
    "import h5py as h5\n",
    "import numpy as np\n",
    "import pandas as pd\n",
    "import matplotlib.pyplot as plt"
   ]
  },
  {
   "cell_type": "code",
   "execution_count": 2,
   "id": "255a06f6",
   "metadata": {},
   "outputs": [],
   "source": [
    "a = np.logspace(-0.5, 2.0, 50)\n",
    "e = np.linspace(0, 1, 51)\n",
    "i = np.linspace(0, 180, 52)\n",
    "\n",
    "grid_shape = (len(a), len(e), len(i))"
   ]
  },
  {
   "cell_type": "code",
   "execution_count": 3,
   "id": "71d40338",
   "metadata": {},
   "outputs": [],
   "source": [
    "densities = np.load(\"small_densities.npy\")"
   ]
  },
  {
   "cell_type": "code",
   "execution_count": 5,
   "id": "590e29f5",
   "metadata": {},
   "outputs": [],
   "source": [
    "normalised_density = densities / densities.sum()"
   ]
  },
  {
   "cell_type": "code",
   "execution_count": 112,
   "id": "bcb8ba26",
   "metadata": {},
   "outputs": [
    {
     "data": {
      "text/plain": [
       "array([0.00621046, 0.02244382, 0.05799355, 0.12572651, 0.18350645,\n",
       "       0.2540331 , 0.34451746, 0.42282857, 0.49205289, 0.57354883,\n",
       "       0.67764114, 0.76437937, 0.81996865, 0.86773183, 0.90253666,\n",
       "       0.92513128, 0.94092469, 0.95198468, 0.9603459 , 0.96824434,\n",
       "       0.97358179, 0.97737818, 0.98013052, 0.98249415, 0.98459027,\n",
       "       0.98646538, 0.98815058, 0.98968759, 0.991062  , 0.99226926,\n",
       "       0.9933425 , 0.99427463, 0.99507809, 0.99576195, 0.99634806,\n",
       "       0.99685459, 0.99729565, 0.99768098, 0.99802002, 0.99831887,\n",
       "       0.99858213, 0.99881367, 0.9990176 , 0.99919763, 0.99935689,\n",
       "       0.99949789, 0.99962282, 0.99973374, 0.99983251, 0.9999208 ,\n",
       "       1.        ])"
      ]
     },
     "execution_count": 112,
     "metadata": {},
     "output_type": "execute_result"
    }
   ],
   "source": [
    "e_dens = densities.reshape(grid_shape).sum(axis=0).sum(axis=1)\n",
    "np.cumsum(e_dens / e_dens.sum())"
   ]
  },
  {
   "cell_type": "code",
   "execution_count": 120,
   "id": "24dc7cdc",
   "metadata": {},
   "outputs": [
    {
     "data": {
      "text/plain": [
       "array([0.02, 0.04, 0.06, 0.08, 0.1 , 0.12, 0.14, 0.16, 0.18, 0.2 , 0.22,\n",
       "       0.24, 0.26, 0.28, 0.3 , 0.32, 0.34, 0.36, 0.38, 0.4 , 0.42, 0.44,\n",
       "       0.46, 0.48, 0.5 , 0.52, 0.54, 0.56, 0.58, 0.6 , 0.62, 0.64, 0.66,\n",
       "       0.68, 0.7 , 0.72, 0.74, 0.76, 0.78, 0.8 , 0.82, 0.84, 0.86, 0.88,\n",
       "       0.9 , 0.92, 0.94, 0.96, 0.98, 1.  ])"
      ]
     },
     "execution_count": 120,
     "metadata": {},
     "output_type": "execute_result"
    }
   ],
   "source": [
    "e[1:]"
   ]
  },
  {
   "cell_type": "code",
   "execution_count": 6,
   "id": "819d9009",
   "metadata": {},
   "outputs": [],
   "source": [
    "cumulative_density = normalised_density.cumsum()"
   ]
  },
  {
   "cell_type": "code",
   "execution_count": 98,
   "id": "b355b9e8",
   "metadata": {},
   "outputs": [
    {
     "data": {
      "text/plain": [
       "array([0.16124326, 0.5467947 , 0.31091852, ..., 0.75870669, 0.55954472,\n",
       "       0.30524412])"
      ]
     },
     "execution_count": 98,
     "metadata": {},
     "output_type": "execute_result"
    }
   ],
   "source": [
    "random_values"
   ]
  },
  {
   "cell_type": "code",
   "execution_count": 58,
   "id": "4714ad86",
   "metadata": {},
   "outputs": [],
   "source": [
    "pixels = np.searchsorted(cumulative_density, random_values)"
   ]
  },
  {
   "cell_type": "code",
   "execution_count": 61,
   "id": "16d10708",
   "metadata": {},
   "outputs": [],
   "source": [
    "unique_pixels, counts = np.unique(pixels, return_counts=True)"
   ]
  },
  {
   "cell_type": "code",
   "execution_count": 62,
   "id": "6d0e9d27",
   "metadata": {},
   "outputs": [
    {
     "data": {
      "text/plain": [
       "array([     0,      1,      2, ..., 130114, 130842, 131618])"
      ]
     },
     "execution_count": 62,
     "metadata": {},
     "output_type": "execute_result"
    }
   ],
   "source": [
    "unique_pixels"
   ]
  },
  {
   "cell_type": "code",
   "execution_count": 66,
   "id": "af5660db",
   "metadata": {},
   "outputs": [],
   "source": [
    "x = list(range(2))\n",
    "y = list(range(3))\n",
    "z = list(range(4))"
   ]
  },
  {
   "cell_type": "code",
   "execution_count": 69,
   "id": "23dda44c",
   "metadata": {},
   "outputs": [
    {
     "data": {
      "text/plain": [
       "array([[[ 0,  1,  2,  3],\n",
       "        [ 4,  5,  6,  7],\n",
       "        [ 8,  9, 10, 11]],\n",
       "\n",
       "       [[12, 13, 14, 15],\n",
       "        [16, 17, 18, 19],\n",
       "        [20, 21, 22, 23]]])"
      ]
     },
     "execution_count": 69,
     "metadata": {},
     "output_type": "execute_result"
    }
   ],
   "source": [
    "np.arange(2 * 3 * 4).astype(int).reshape(2, 3, 4)"
   ]
  },
  {
   "cell_type": "code",
   "execution_count": 85,
   "id": "7eebaf83",
   "metadata": {},
   "outputs": [],
   "source": [
    "a_ind, e_ind, i_ind = np.unravel_index(pixels, shape=grid_shape)"
   ]
  },
  {
   "cell_type": "code",
   "execution_count": 92,
   "id": "6ee1d4b1",
   "metadata": {},
   "outputs": [
    {
     "data": {
      "text/plain": [
       "array([ 6,  6, 10, ..., 11,  7, 10])"
      ]
     },
     "execution_count": 92,
     "metadata": {},
     "output_type": "execute_result"
    }
   ],
   "source": [
    "e_ind"
   ]
  },
  {
   "cell_type": "code",
   "execution_count": 97,
   "id": "309a1b2c",
   "metadata": {},
   "outputs": [
    {
     "data": {
      "text/plain": [
       "1.0"
      ]
     },
     "execution_count": 97,
     "metadata": {},
     "output_type": "execute_result"
    }
   ],
   "source": [
    "e[-1]"
   ]
  },
  {
   "cell_type": "code",
   "execution_count": 94,
   "id": "58a4aa33",
   "metadata": {},
   "outputs": [
    {
     "data": {
      "text/plain": [
       "0"
      ]
     },
     "execution_count": 94,
     "metadata": {},
     "output_type": "execute_result"
    }
   ],
   "source": [
    "e_ind.min()"
   ]
  },
  {
   "cell_type": "code",
   "execution_count": 89,
   "id": "bcdb027f",
   "metadata": {},
   "outputs": [
    {
     "data": {
      "text/plain": [
       "array([2.32995181, 2.62039853, 2.32995181, ..., 2.62039853, 2.62039853,\n",
       "       2.32995181])"
      ]
     },
     "execution_count": 89,
     "metadata": {},
     "output_type": "execute_result"
    }
   ],
   "source": [
    "a[a_ind]"
   ]
  },
  {
   "cell_type": "code",
   "execution_count": null,
   "id": "42c93c3f",
   "metadata": {},
   "outputs": [],
   "source": []
  },
  {
   "cell_type": "code",
   "execution_count": 84,
   "id": "8ba5612e",
   "metadata": {},
   "outputs": [
    {
     "data": {
      "text/plain": [
       "array([0.10639891, 0.90254725, 0.32836886, ..., 0.93144453, 0.88701595,\n",
       "       0.58697325])"
      ]
     },
     "execution_count": 84,
     "metadata": {},
     "output_type": "execute_result"
    }
   ],
   "source": [
    "np.random.rand(sum(counts))"
   ]
  },
  {
   "cell_type": "code",
   "execution_count": 82,
   "id": "73f721d9",
   "metadata": {},
   "outputs": [
    {
     "data": {
      "text/plain": [
       "array([  0.31622777,   0.31622777,   0.31622777, ..., 100.        ,\n",
       "       100.        , 100.        ])"
      ]
     },
     "execution_count": 82,
     "metadata": {},
     "output_type": "execute_result"
    }
   ],
   "source": [
    "a[a_ind]"
   ]
  },
  {
   "cell_type": "code",
   "execution_count": 77,
   "id": "06028a89",
   "metadata": {},
   "outputs": [
    {
     "data": {
      "text/plain": [
       "array([ 0,  0,  0, ..., 49, 49, 49])"
      ]
     },
     "execution_count": 77,
     "metadata": {},
     "output_type": "execute_result"
    }
   ],
   "source": [
    "a_ind"
   ]
  },
  {
   "cell_type": "code",
   "execution_count": 78,
   "id": "9c8aae43",
   "metadata": {},
   "outputs": [
    {
     "data": {
      "text/plain": [
       "array([  0.31622777,   0.35564803,   0.39998234,   0.44984327,\n",
       "         0.50591975,   0.5689866 ,   0.63991523,   0.71968567,\n",
       "         0.80940012,   0.91029818,   1.02377397,   1.1513954 ,\n",
       "         1.29492584,   1.45634848,   1.63789371,   1.84206997,\n",
       "         2.0716984 ,   2.32995181,   2.62039853,   2.9470517 ,\n",
       "         3.31442475,   3.72759372,   4.19226744,   4.71486636,\n",
       "         5.30261134,   5.96362332,   6.70703561,   7.54312006,\n",
       "         8.48342898,   9.54095476,  10.73030941,  12.06792641,\n",
       "        13.57228783,  15.26417967,  17.16697907,  19.30697729,\n",
       "        21.71374303,  24.42053095,  27.46474115,  30.88843596,\n",
       "        34.73892112,  39.06939937,  43.93970561,  49.41713361,\n",
       "        55.57736586,  62.50551925,  70.29732115,  79.06043211,\n",
       "        88.91593339, 100.        ])"
      ]
     },
     "execution_count": 78,
     "metadata": {},
     "output_type": "execute_result"
    }
   ],
   "source": [
    "a"
   ]
  },
  {
   "cell_type": "code",
   "execution_count": null,
   "id": "abd14e25",
   "metadata": {},
   "outputs": [],
   "source": [
    "def to_3d_index(index1d, shape=(50, 51, 52)):\n",
    "    z = index1d / (shape[0] * shape[1])\n",
    "    index1d -= (z * shape[0] * shape[1])"
   ]
  },
  {
   "cell_type": "code",
   "execution_count": null,
   "id": "751dd31d",
   "metadata": {},
   "outputs": [],
   "source": [
    "public int[] to3D( int idx ) {\n",
    "    final int z = idx / (xMax * yMax);\n",
    "    idx -= (z * xMax * yMax);\n",
    "    final int y = idx / xMax;\n",
    "    final int x = idx % xMax;\n",
    "    return new int[]{ x, y, z };\n",
    "}"
   ]
  },
  {
   "cell_type": "code",
   "execution_count": null,
   "id": "ef050c92",
   "metadata": {},
   "outputs": [],
   "source": [
    "131618"
   ]
  },
  {
   "cell_type": "code",
   "execution_count": 15,
   "id": "6ba3f39c",
   "metadata": {},
   "outputs": [
    {
     "data": {
      "text/plain": [
       "array([0.16089153, 0.17605004, 0.17790336])"
      ]
     },
     "execution_count": 15,
     "metadata": {},
     "output_type": "execute_result"
    }
   ],
   "source": [
    "cumulative_density[45397:45400]"
   ]
  },
  {
   "cell_type": "code",
   "execution_count": 22,
   "id": "d2d8f075",
   "metadata": {},
   "outputs": [],
   "source": [
    "indices = np.arange(len(densities)).astype(int)\n",
    "shaped_indices = indices.reshape((len(a), len(e), len(i)))"
   ]
  },
  {
   "cell_type": "code",
   "execution_count": null,
   "id": "564125e3",
   "metadata": {},
   "outputs": [],
   "source": []
  },
  {
   "cell_type": "code",
   "execution_count": 28,
   "id": "fa012730",
   "metadata": {},
   "outputs": [],
   "source": [
    "results = np.where(np.isin(shaped_indices, np.array([45398, 48052])))"
   ]
  },
  {
   "cell_type": "code",
   "execution_count": 34,
   "id": "9b421fa7",
   "metadata": {},
   "outputs": [],
   "source": [
    "aei = np.array([results[0], results[1], results[2]])"
   ]
  },
  {
   "cell_type": "code",
   "execution_count": 35,
   "id": "5cfa7594",
   "metadata": {},
   "outputs": [
    {
     "data": {
      "text/plain": [
       "array([[17,  6,  2],\n",
       "       [18,  6,  4]])"
      ]
     },
     "execution_count": 35,
     "metadata": {},
     "output_type": "execute_result"
    }
   ],
   "source": [
    "aei.T"
   ]
  },
  {
   "cell_type": "code",
   "execution_count": 38,
   "id": "38ab368b",
   "metadata": {},
   "outputs": [
    {
     "data": {
      "text/plain": [
       "array([[ 0,  1,  2,  3],\n",
       "       [ 4,  5,  6,  7],\n",
       "       [ 8,  9, 10, 11]])"
      ]
     },
     "execution_count": 38,
     "metadata": {},
     "output_type": "execute_result"
    }
   ],
   "source": [
    "indices = np.arange(12).astype(int)\n",
    "indices.reshape(3, 4)"
   ]
  },
  {
   "cell_type": "code",
   "execution_count": 56,
   "id": "48389410",
   "metadata": {
    "scrolled": true
   },
   "outputs": [
    {
     "data": {
      "text/plain": [
       "(1, 3)"
      ]
     },
     "execution_count": 56,
     "metadata": {},
     "output_type": "execute_result"
    }
   ],
   "source": [
    "ind = 7\n",
    "7 // 4, 7 % 4"
   ]
  },
  {
   "cell_type": "code",
   "execution_count": 57,
   "id": "002c104c",
   "metadata": {},
   "outputs": [],
   "source": [
    "np.searchsorted?"
   ]
  },
  {
   "cell_type": "code",
   "execution_count": 10,
   "id": "c90d2d15",
   "metadata": {},
   "outputs": [],
   "source": [
    "random_values = np.random.rand(int(1e7))"
   ]
  }
 ],
 "metadata": {
  "kernelspec": {
   "display_name": "Solar System Environment",
   "language": "python",
   "name": "solar_system"
  },
  "language_info": {
   "codemirror_mode": {
    "name": "ipython",
    "version": 3
   },
   "file_extension": ".py",
   "mimetype": "text/x-python",
   "name": "python",
   "nbconvert_exporter": "python",
   "pygments_lexer": "ipython3",
   "version": "3.9.7"
  }
 },
 "nbformat": 4,
 "nbformat_minor": 5
}
