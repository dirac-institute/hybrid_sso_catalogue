{
 "cells": [
  {
   "cell_type": "code",
   "execution_count": 11,
   "id": "2cd6e31f",
   "metadata": {},
   "outputs": [],
   "source": [
    "import h5py as h5\n",
    "import numpy as np\n",
    "import pandas as pd\n",
    "from astroML.density_estimation import KNeighborsDensity"
   ]
  },
  {
   "cell_type": "code",
   "execution_count": 6,
   "id": "aa09e855",
   "metadata": {},
   "outputs": [],
   "source": [
    "# read in mpcorb data and get (a, e, i)\n",
    "mpcorb = pd.read_hdf(\"../catalogues/mpcorb.h5\")\n",
    "mpc_aei = np.array([mpcorb.a, mpcorb.e, mpcorb.i]).T"
   ]
  },
  {
   "cell_type": "code",
   "execution_count": 242,
   "id": "f1b93b92",
   "metadata": {},
   "outputs": [
    {
     "data": {
      "text/plain": [
       "<astroML.density_estimation.density_estimation.KNeighborsDensity at 0x7f0cd641d100>"
      ]
     },
     "execution_count": 242,
     "metadata": {},
     "output_type": "execute_result"
    }
   ],
   "source": [
    "# instantiate an estimator and fit it to (a, e, i)\n",
    "estimator = KNeighborsDensity()\n",
    "estimator.fit(mpc_aei)"
   ]
  },
  {
   "cell_type": "code",
   "execution_count": 263,
   "id": "a4b9e9b8",
   "metadata": {},
   "outputs": [
    {
     "name": "stdout",
     "output_type": "stream",
     "text": [
      "CPU times: user 1.84 s, sys: 16 s, total: 17.8 s\n",
      "Wall time: 17.9 s\n"
     ]
    }
   ],
   "source": [
    "%%time\n",
    "\n",
    "# define a grid of (a, e, i)\n",
    "# use slightly different sizes so I can tell the difference :D\n",
    "a = np.logspace(-0.5, 2.0, 1000)\n",
    "e = np.linspace(0, 1, 1001)\n",
    "i = np.linspace(0, 180, 1002)\n",
    "\n",
    "A, E, I = np.meshgrid(a, e, i, indexing=\"ij\")"
   ]
  },
  {
   "cell_type": "code",
   "execution_count": 264,
   "id": "68d1f05c",
   "metadata": {},
   "outputs": [
    {
     "name": "stdout",
     "output_type": "stream",
     "text": [
      "CPU times: user 3.57 s, sys: 18.9 s, total: 22.4 s\n",
      "Wall time: 22.5 s\n"
     ]
    }
   ],
   "source": [
    "%%time\n",
    "\n",
    "# flatten out the grid into the right format\n",
    "grid = np.array([A.ravel(),E.ravel(),I.ravel()]).T"
   ]
  },
  {
   "cell_type": "code",
   "execution_count": null,
   "id": "43629765",
   "metadata": {
    "scrolled": true
   },
   "outputs": [],
   "source": [
    "%%time\n",
    "\n",
    "# perform the density estimation!\n",
    "densitites = estimator.eval(grid)"
   ]
  },
  {
   "cell_type": "code",
   "execution_count": null,
   "id": "a124ba68",
   "metadata": {},
   "outputs": [],
   "source": [
    "np.save(\"new_densities.npy\", densitites)"
   ]
  }
 ],
 "metadata": {
  "kernelspec": {
   "display_name": "Solar System Environment",
   "language": "python",
   "name": "solar_system"
  },
  "language_info": {
   "codemirror_mode": {
    "name": "ipython",
    "version": 3
   },
   "file_extension": ".py",
   "mimetype": "text/x-python",
   "name": "python",
   "nbconvert_exporter": "python",
   "pygments_lexer": "ipython3",
   "version": "3.9.7"
  }
 },
 "nbformat": 4,
 "nbformat_minor": 5
}
