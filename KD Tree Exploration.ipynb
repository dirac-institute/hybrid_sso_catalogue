{
 "cells": [
  {
   "cell_type": "markdown",
   "id": "c8aa6fd8",
   "metadata": {},
   "source": [
    "# The algorithm as it stands\n",
    "\n",
    "Take two catalogues as input:\n",
    "- S3M is a simulated catalogue that contains a representative population of the solar system\n",
    "- MPCOrb contains real data from actual detections\n",
    "\n",
    "The goal is to combine the two to make a hybrid catalogue.\n",
    "\n",
    "In order to do this we will:\n",
    "1. Split catalogues into bins of absolute magnitude and for each bin\n",
    "    1. Create a K-D Tree for the matching objects in the simulated catalogue (`tree`)\n",
    "    2. Create a set of all objects that have already been assigned (`assigned`)\n",
    "    3. For each object in the mpcorb catalogue with matching magnitudes:\n",
    "        1. Set `k=100`\n",
    "        2. Query the `tree` to find the nearest `k` objects in position within a distance `d_max`, save as `neighbours` and save length of `neighbours` as `count_nearby`\n",
    "        3. Remove any objects that are already in `assigned`\n",
    "        4. While `len(neighbours) < 1` and `count_nearby > 0` and `k < 500`\n",
    "            1. `k += 100`\n",
    "            2. Go back to step b\n",
    "        5. If `len(neighbours) >= 1` then\n",
    "            1. Find the object in `neighbours` with the closest velocity\n",
    "            2. Save the pairing and add the object to `assigned`\n",
    "        6. Otherwise\n",
    "            1. Make a note that the real object has no match (so we will add it directly)\n",
    "3. Output the list of pairings"
   ]
  },
  {
   "cell_type": "code",
   "execution_count": 362,
   "id": "c63b6dc0",
   "metadata": {},
   "outputs": [],
   "source": [
    "from scipy.spatial import KDTree, cKDTree\n",
    "import numpy as np\n",
    "import pandas as pd"
   ]
  },
  {
   "cell_type": "markdown",
   "id": "02405497",
   "metadata": {},
   "source": [
    "## Read in the data"
   ]
  },
  {
   "cell_type": "code",
   "execution_count": 9,
   "id": "b42bad51",
   "metadata": {},
   "outputs": [],
   "source": [
    "s3m = pd.read_hdf(\"catalogues/s3m_propagated.h5\", key=\"df\")"
   ]
  },
  {
   "cell_type": "code",
   "execution_count": 13,
   "id": "0bcb6eee",
   "metadata": {},
   "outputs": [],
   "source": [
    "mpcorb = pd.read_hdf(\"catalogues/mpcorb_propagated.h5\", key=\"df\")"
   ]
  },
  {
   "cell_type": "code",
   "execution_count": 97,
   "id": "82409004",
   "metadata": {},
   "outputs": [],
   "source": [
    "mpcorb_xyz = np.array([mpcorb[\"x\"].values, mpcorb[\"y\"].values, mpcorb[\"z\"].values]).T\n",
    "s3m_xyz = np.array([s3m[\"x\"].values, s3m[\"y\"].values, s3m[\"z\"].values]).T"
   ]
  },
  {
   "cell_type": "markdown",
   "id": "0bba0c31",
   "metadata": {},
   "source": [
    "## Split into absolute magnitude bins"
   ]
  },
  {
   "cell_type": "code",
   "execution_count": 191,
   "id": "d95dd6ac",
   "metadata": {},
   "outputs": [],
   "source": [
    "sorted_H = np.sort(s3m.H.values)"
   ]
  },
  {
   "cell_type": "code",
   "execution_count": 201,
   "id": "06e1747c",
   "metadata": {},
   "outputs": [],
   "source": [
    "block_size = 5000\n",
    "blocks = np.concatenate((np.arange(0, len(s3m.H.values), block_size), [len(s3m.H.values) - 1]))"
   ]
  },
  {
   "cell_type": "code",
   "execution_count": 327,
   "id": "6d13eef0",
   "metadata": {},
   "outputs": [
    {
     "data": {
      "text/plain": [
       "-1.757"
      ]
     },
     "execution_count": 327,
     "metadata": {},
     "output_type": "execute_result"
    }
   ],
   "source": [
    "s3m.H.values.min()"
   ]
  },
  {
   "cell_type": "code",
   "execution_count": 328,
   "id": "7d1c139b",
   "metadata": {},
   "outputs": [
    {
     "data": {
      "text/plain": [
       "26.69"
      ]
     },
     "execution_count": 328,
     "metadata": {},
     "output_type": "execute_result"
    }
   ],
   "source": [
    "s3m.H.values.max()"
   ]
  },
  {
   "cell_type": "code",
   "execution_count": 363,
   "id": "128cd99a",
   "metadata": {},
   "outputs": [
    {
     "name": "stdout",
     "output_type": "stream",
     "text": [
      "8404 5364\n",
      "1.8 s ± 0 ns per loop (mean ± std. dev. of 1 run, 1 loop each)\n"
     ]
    }
   ],
   "source": [
    "%%timeit -n 1 -r 1\n",
    "\n",
    "magnitudes = np.arange(-2, 28)\n",
    "for i in range(len(magnitudes) - 1):\n",
    "    i = 14\n",
    "    s3m_mag_mask = np.logical_and(s3m.H >= magnitudes[i], s3m.H < magnitudes[i + 1])\n",
    "    tree = cKDTree(s3m_xyz[s3m_mag_mask])\n",
    "    \n",
    "    mpcorb_mag_mask = np.logical_and(mpcorb.H >= magnitudes[i], mpcorb.H <= magnitudes[i + 1])\n",
    "    real_objects = mpcorb_xyz[mpcorb_mag_mask]\n",
    "    print(len(s3m.H[s3m_mag_mask]), len(real_objects))\n",
    "    \n",
    "    taken = []\n",
    "    x = 0\n",
    "    \n",
    "    for obj in real_objects:\n",
    "        k = 100\n",
    "        distances, inds = tree.query(obj, k=k, distance_upper_bound=0.1)\n",
    "        distances, inds = distances[np.isfinite(distances)], inds[np.isfinite(distances)]\n",
    "        unmatched_options = np.setdiff1d(inds, taken, assume_unique=True)\n",
    "        while len(unmatched_options) < 1 and len(distances) > 0 and k < 500:\n",
    "            k += 100\n",
    "            distances, inds = tree.query(obj, k=k, distance_upper_bound=0.1)\n",
    "            distances, inds = distances[np.isfinite(distances)], inds[np.isfinite(distances)]\n",
    "            unmatched_options = np.setdiff1d(inds, taken, assume_unique=True)\n",
    "\n",
    "        if len(unmatched_options) > 0:\n",
    "            match = unmatched_options[0]\n",
    "            taken.append(match)\n",
    "        else:\n",
    "            x += 1\n",
    "            \n",
    "    break"
   ]
  },
  {
   "cell_type": "code",
   "execution_count": 323,
   "id": "2a3845ef",
   "metadata": {},
   "outputs": [],
   "source": [
    "other_tree = KDTree(mpcorb_xyz[mpcorb_mag_mask])"
   ]
  },
  {
   "cell_type": "code",
   "execution_count": 282,
   "id": "4112e16b",
   "metadata": {},
   "outputs": [],
   "source": [
    "taken = []\n",
    "x = 0\n",
    "\n"
   ]
  },
  {
   "cell_type": "code",
   "execution_count": null,
   "id": "7d3aec6f",
   "metadata": {},
   "outputs": [],
   "source": []
  },
  {
   "cell_type": "code",
   "execution_count": 283,
   "id": "4b907a09",
   "metadata": {},
   "outputs": [
    {
     "data": {
      "text/plain": [
       "0          3.54\n",
       "1          4.22\n",
       "2          5.28\n",
       "3          3.40\n",
       "4          6.99\n",
       "           ... \n",
       "1123446    6.90\n",
       "1124470    6.70\n",
       "1126135    6.90\n",
       "1126837    6.10\n",
       "1126850    5.70\n",
       "Name: H, Length: 1402, dtype: float64"
      ]
     },
     "execution_count": 283,
     "metadata": {},
     "output_type": "execute_result"
    }
   ],
   "source": [
    "mpcorb.H[mpcorb_mag_mask]"
   ]
  },
  {
   "cell_type": "markdown",
   "id": "8ef5f958",
   "metadata": {},
   "source": [
    "## Get the positions"
   ]
  },
  {
   "cell_type": "code",
   "execution_count": 29,
   "id": "915af58f",
   "metadata": {},
   "outputs": [],
   "source": [
    "mpcorb_xyz = np.array([mpcorb[\"x\"].values, mpcorb[\"y\"].values, mpcorb[\"z\"].values]).T\n",
    "s3m_xyz = np.array([s3m[\"x\"].values, s3m[\"y\"].values, s3m[\"z\"].values]).T"
   ]
  },
  {
   "cell_type": "markdown",
   "id": "ca0b417d",
   "metadata": {},
   "source": [
    "## Build the K-D Tree for S3m"
   ]
  },
  {
   "cell_type": "code",
   "execution_count": 48,
   "id": "6c75f8b1",
   "metadata": {
    "scrolled": true
   },
   "outputs": [
    {
     "name": "stdout",
     "output_type": "stream",
     "text": [
      "CPU times: user 2min 4s, sys: 11.1 s, total: 2min 16s\n",
      "Wall time: 2min 16s\n"
     ]
    }
   ],
   "source": [
    "%time s3m_tree = KDTree(s3m_xyz)"
   ]
  },
  {
   "cell_type": "code",
   "execution_count": 81,
   "id": "6ae52ea9",
   "metadata": {},
   "outputs": [
    {
     "data": {
      "text/plain": [
       "(array([     10,     117,    6720,   43993,    7538,  153727, 1341057,\n",
       "        5911117, 6539988,  385541]),\n",
       " array([-1.757 ,  1.0877,  3.9324,  6.7771,  9.6218, 12.4665, 15.3112,\n",
       "        18.1559, 21.0006, 23.8453, 26.69  ]))"
      ]
     },
     "execution_count": 81,
     "metadata": {},
     "output_type": "execute_result"
    }
   ],
   "source": [
    "np.histogram(s3m.H, bins=10)"
   ]
  },
  {
   "cell_type": "code",
   "execution_count": 47,
   "id": "7b7cceb4",
   "metadata": {},
   "outputs": [
    {
     "name": "stdout",
     "output_type": "stream",
     "text": [
      "CPU times: user 4.14 s, sys: 142 ms, total: 4.29 s\n",
      "Wall time: 4.28 s\n"
     ]
    },
    {
     "data": {
      "text/plain": [
       "(array([1.64632104, 1.38976017, 2.62848638, ..., 1.31153415, 0.11273276,\n",
       "        0.86779311]),\n",
       " array([1019396,  874547,  584777, ...,  620807,  673756,  481031]))"
      ]
     },
     "execution_count": 47,
     "metadata": {},
     "output_type": "execute_result"
    }
   ],
   "source": [
    "%time mpcorb_tree.query(x=np.random.uniform(0, 10, size=(10000, 3)))"
   ]
  },
  {
   "cell_type": "code",
   "execution_count": 147,
   "id": "131993f7",
   "metadata": {},
   "outputs": [
    {
     "data": {
      "text/latex": [
       "$0.2509549 \\; \\mathrm{\\frac{eV}{cm^{3}}}$"
      ],
      "text/plain": [
       "<Quantity 0.2509549 eV / cm3>"
      ]
     },
     "execution_count": 147,
     "metadata": {},
     "output_type": "execute_result"
    }
   ],
   "source": [
    "import astropy.units as u\n",
    "import astropy.constants as const\n",
    "\n",
    "T = 2.7 * u.K\n",
    "\n",
    "a = const.sigma_sb * 4 / const.c\n",
    "ed = a * T**4\n",
    "ed.to(u.eV / u.cm**3)"
   ]
  },
  {
   "cell_type": "code",
   "execution_count": 170,
   "id": "398371c4",
   "metadata": {},
   "outputs": [
    {
     "data": {
      "text/latex": [
       "$\\mathrm{0.0001\\,\\frac{kg}{A\\,s^{2}}}$"
      ],
      "text/plain": [
       "Unit(\"0.0001 kg / (A s2)\")"
      ]
     },
     "execution_count": 170,
     "metadata": {},
     "output_type": "execute_result"
    }
   ],
   "source": [
    "u.G.decompose()"
   ]
  },
  {
   "cell_type": "code",
   "execution_count": 172,
   "id": "278ff101",
   "metadata": {
    "scrolled": false
   },
   "outputs": [
    {
     "data": {
      "text/latex": [
       "$2.4834176 \\; \\mathrm{\\frac{eV}{cm^{3}}}$"
      ],
      "text/plain": [
       "<Quantity 2.48341755 eV / cm3>"
      ]
     },
     "execution_count": 172,
     "metadata": {},
     "output_type": "execute_result"
    }
   ],
   "source": [
    "B = 10e-6 * u.cm**(-1/2) * u.g**(1/2) * u.s**(-1)\n",
    "ed = 1 / (8 * np.pi) * B**2\n",
    "ed.to(u.eV / u.cm**3)"
   ]
  }
 ],
 "metadata": {
  "kernelspec": {
   "display_name": "Python 3",
   "language": "python",
   "name": "python3"
  },
  "language_info": {
   "codemirror_mode": {
    "name": "ipython",
    "version": 3
   },
   "file_extension": ".py",
   "mimetype": "text/x-python",
   "name": "python",
   "nbconvert_exporter": "python",
   "pygments_lexer": "ipython3",
   "version": "3.7.6"
  }
 },
 "nbformat": 4,
 "nbformat_minor": 5
}
