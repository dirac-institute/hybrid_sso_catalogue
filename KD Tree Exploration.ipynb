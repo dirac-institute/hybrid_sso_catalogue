{
 "cells": [
  {
   "cell_type": "markdown",
   "id": "c8aa6fd8",
   "metadata": {},
   "source": [
    "# The algorithm as it stands\n",
    "\n",
    "Take two catalogues as input:\n",
    "- S3M is a simulated catalogue that contains a representative population of the solar system\n",
    "- MPCOrb contains real data from actual detections\n",
    "\n",
    "The goal is to combine the two to make a hybrid catalogue.\n",
    "\n",
    "In order to do this we will:\n",
    "1. Split catalogues into bins of absolute magnitude and for each bin\n",
    "    1. Create a K-D Tree for the matching objects in the simulated catalogue (`tree`)\n",
    "    2. Create a set of all objects that have already been assigned (`assigned`)\n",
    "    3. For each object in the mpcorb catalogue with matching magnitudes:\n",
    "        1. Set `k=100`\n",
    "        2. Query the `tree` to find the nearest `k` objects in position within a distance `d_max`, save as `neighbours` and save length of `neighbours` as `count_nearby`\n",
    "        3. Remove any objects that are already in `assigned`\n",
    "        4. While `len(neighbours) < 1` and `count_nearby > 0` and `k < 500`\n",
    "            1. `k += 100`\n",
    "            2. Go back to step b\n",
    "        5. If `len(neighbours) >= 1` then\n",
    "            1. Find the object in `neighbours` with the closest velocity\n",
    "            2. Save the pairing and add the object to `assigned`\n",
    "        6. Otherwise\n",
    "            1. Make a note that the real object has no match (so we will add it directly)\n",
    "3. Output the list of pairings"
   ]
  },
  {
   "cell_type": "code",
   "execution_count": 1,
   "id": "c63b6dc0",
   "metadata": {},
   "outputs": [],
   "source": [
    "from scipy.spatial import KDTree, cKDTree\n",
    "import numpy as np\n",
    "import pandas as pd"
   ]
  },
  {
   "cell_type": "markdown",
   "id": "02405497",
   "metadata": {},
   "source": [
    "## Read in the data"
   ]
  },
  {
   "cell_type": "code",
   "execution_count": 2,
   "id": "b42bad51",
   "metadata": {},
   "outputs": [],
   "source": [
    "s3m = pd.read_hdf(\"catalogues/s3m_propagated.h5\", key=\"df\")"
   ]
  },
  {
   "cell_type": "code",
   "execution_count": 3,
   "id": "0bcb6eee",
   "metadata": {},
   "outputs": [],
   "source": [
    "mpcorb = pd.read_hdf(\"catalogues/mpcorb_propagated.h5\", key=\"df\")"
   ]
  },
  {
   "cell_type": "code",
   "execution_count": 4,
   "id": "82409004",
   "metadata": {},
   "outputs": [],
   "source": [
    "mpcorb_xyz = np.array([mpcorb[\"x\"].values, mpcorb[\"y\"].values, mpcorb[\"z\"].values]).T\n",
    "s3m_xyz = np.array([s3m[\"x\"].values, s3m[\"y\"].values, s3m[\"z\"].values]).T"
   ]
  },
  {
   "cell_type": "markdown",
   "id": "0bba0c31",
   "metadata": {},
   "source": [
    "## Split into absolute magnitude bins"
   ]
  },
  {
   "cell_type": "code",
   "execution_count": 33,
   "id": "128cd99a",
   "metadata": {
    "scrolled": false
   },
   "outputs": [
    {
     "name": "stdout",
     "output_type": "stream",
     "text": [
      "8404 5364\n",
      "1910 3454\n",
      "1.6 s ± 0 ns per loop (mean ± std. dev. of 1 run, 1 loop each)\n"
     ]
    }
   ],
   "source": [
    "%%timeit -n 1 -r 1\n",
    "\n",
    "# loop every magnitude bin\n",
    "magnitudes = np.arange(-2, 28)\n",
    "for i in range(len(magnitudes) - 1):\n",
    "    i = 14\n",
    "    \n",
    "    # get the matching simulated data and build a K-D Tree\n",
    "    s3m_mag_mask = np.logical_and(s3m.H >= magnitudes[i], s3m.H < magnitudes[i + 1])\n",
    "    s3m_id = s3m.id[s3m_mag_mask].values\n",
    "    tree = cKDTree(s3m_xyz[s3m_mag_mask])\n",
    "    \n",
    "    # get the matching real data from MPCORB\n",
    "    mpcorb_mag_mask = np.logical_and(mpcorb.H >= magnitudes[i], mpcorb.H <= magnitudes[i + 1])\n",
    "    real_objects = mpcorb_xyz[mpcorb_mag_mask]\n",
    "    \n",
    "    print(len(s3m.H[s3m_mag_mask]), len(real_objects))\n",
    "    \n",
    "    # keep track of objects already assigned and a count of how many had no matches\n",
    "    taken = []\n",
    "    no_match_count = 0\n",
    "    \n",
    "    # iterate over every object in the real catalogue\n",
    "    for obj in real_objects:\n",
    "        \n",
    "        # find the nearest 100 neighbours within 0.1 AU and mask further neighbours\n",
    "        distances, inds = tree.query(obj, k=100, distance_upper_bound=0.1)\n",
    "        distances, inds = distances[np.isfinite(distances)], inds[np.isfinite(distances)]\n",
    "        \n",
    "        ids = s3m_id[inds]\n",
    "        \n",
    "        # get only the options which haven't yet been assigned\n",
    "        unassigned_options = np.setdiff1d(ids, taken, assume_unique=True)\n",
    "\n",
    "        # if there are any matching objects\n",
    "        if len(unassigned_options) > 0:\n",
    "            \n",
    "            # choose the one with the closest velocity\n",
    "            match = unassigned_options[0]\n",
    "            taken.append(match)\n",
    "        else:\n",
    "            no_match_count += 1\n",
    "    \n",
    "    print(len(taken), no_match_count)\n",
    "            \n",
    "    break"
   ]
  }
 ],
 "metadata": {
  "kernelspec": {
   "display_name": "Python 3",
   "language": "python",
   "name": "python3"
  },
  "language_info": {
   "codemirror_mode": {
    "name": "ipython",
    "version": 3
   },
   "file_extension": ".py",
   "mimetype": "text/x-python",
   "name": "python",
   "nbconvert_exporter": "python",
   "pygments_lexer": "ipython3",
   "version": "3.7.6"
  }
 },
 "nbformat": 4,
 "nbformat_minor": 5
}
