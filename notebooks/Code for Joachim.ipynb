{
 "cells": [
  {
   "cell_type": "markdown",
   "id": "41cc199d",
   "metadata": {},
   "source": [
    "# Example of the pyoorb error"
   ]
  },
  {
   "cell_type": "code",
   "execution_count": 1,
   "id": "15d637fd",
   "metadata": {},
   "outputs": [],
   "source": [
    "import pandas as pd\n",
    "import pyoorb as oo\n",
    "from astropy.time import Time \n",
    "\n",
    "import sys\n",
    "sys.path.append(\"../hybridcat\")\n",
    "\n",
    "import hybridcat"
   ]
  },
  {
   "cell_type": "code",
   "execution_count": 2,
   "id": "6332b97c",
   "metadata": {},
   "outputs": [
    {
     "data": {
      "text/plain": [
       "0"
      ]
     },
     "execution_count": 2,
     "metadata": {},
     "output_type": "execute_result"
    }
   ],
   "source": [
    "oo.pyoorb.oorb_init()"
   ]
  },
  {
   "cell_type": "code",
   "execution_count": 3,
   "id": "7abdbca3",
   "metadata": {},
   "outputs": [],
   "source": [
    "s3m = pd.read_hdf(\"../catalogues/s3m_initial.h5\", key=\"df\")"
   ]
  },
  {
   "cell_type": "code",
   "execution_count": 9,
   "id": "d68279c2",
   "metadata": {},
   "outputs": [],
   "source": [
    "short_s3m = s3m.iloc[:10000]"
   ]
  },
  {
   "cell_type": "code",
   "execution_count": 17,
   "id": "79a3d48a",
   "metadata": {},
   "outputs": [],
   "source": [
    "short_s3m_prop = hybridcat.transform.propagate_catalogues(df=short_s3m, until_when=Time(\"2022-03-01\").mjd,\n",
    "                                                          coords=\"COM\", initialise=False)"
   ]
  },
  {
   "cell_type": "code",
   "execution_count": 18,
   "id": "87684544",
   "metadata": {},
   "outputs": [
    {
     "data": {
      "text/plain": [
       "id\n",
       "S0000001a    54067.969964\n",
       "S0000002a    54670.088589\n",
       "S0000003a    54522.349738\n",
       "S0000004a    54973.510299\n",
       "S0000005a    54075.567352\n",
       "                 ...     \n",
       "S00002FIa    54434.247697\n",
       "S00002FJa    53812.100406\n",
       "S00002FKa    54328.603877\n",
       "S00002FLa    54469.559693\n",
       "S00002FMa    55022.512483\n",
       "Name: t_p, Length: 10000, dtype: float64"
      ]
     },
     "execution_count": 18,
     "metadata": {},
     "output_type": "execute_result"
    }
   ],
   "source": [
    "short_s3m[\"t_p\"]"
   ]
  },
  {
   "cell_type": "code",
   "execution_count": 19,
   "id": "7d184a77",
   "metadata": {},
   "outputs": [
    {
     "data": {
      "text/plain": [
       "S0000001a    3.399577e+06\n",
       "S0000002a    3.443786e+06\n",
       "S0000003a    3.412079e+06\n",
       "S0000004a    3.423601e+06\n",
       "S0000005a    3.428828e+06\n",
       "                 ...     \n",
       "S00002FIa    3.403888e+06\n",
       "S00002FJa    3.391284e+06\n",
       "S00002FKa    3.410479e+06\n",
       "S00002FLa    3.422250e+06\n",
       "S00002FMa    3.419668e+06\n",
       "Name: t_p, Length: 10000, dtype: float64"
      ]
     },
     "execution_count": 19,
     "metadata": {},
     "output_type": "execute_result"
    }
   ],
   "source": [
    "short_s3m_prop[\"t_p\"]"
   ]
  },
  {
   "cell_type": "markdown",
   "id": "48e2539d",
   "metadata": {},
   "source": [
    "# Example of CART->COM hanging"
   ]
  },
  {
   "cell_type": "code",
   "execution_count": 7,
   "id": "6b09e3cb",
   "metadata": {},
   "outputs": [],
   "source": [
    "mpcorb = pd.read_hdf(\"../catalogues/mpcorb_cart.h5\", key=\"df\")"
   ]
  },
  {
   "cell_type": "code",
   "execution_count": null,
   "id": "1d313f8f",
   "metadata": {},
   "outputs": [],
   "source": [
    "mpcorb_COM = hybridcat.transform.transform_catalogue(df=mpcorb, current_coords=\"CART\", transformed_coords=\"COM\",\n",
    "                                                     initialise=False)"
   ]
  },
  {
   "cell_type": "markdown",
   "id": "d28f5e9a",
   "metadata": {},
   "source": [
    "^This seems to run infinitely for me"
   ]
  }
 ],
 "metadata": {
  "kernelspec": {
   "display_name": "Solar System Environment",
   "language": "python",
   "name": "solar_system"
  },
  "language_info": {
   "codemirror_mode": {
    "name": "ipython",
    "version": 3
   },
   "file_extension": ".py",
   "mimetype": "text/x-python",
   "name": "python",
   "nbconvert_exporter": "python",
   "pygments_lexer": "ipython3",
   "version": "3.9.6"
  }
 },
 "nbformat": 4,
 "nbformat_minor": 5
}
