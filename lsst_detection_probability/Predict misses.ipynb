{
 "cells": [
  {
   "cell_type": "code",
   "execution_count": 178,
   "id": "6106029a",
   "metadata": {},
   "outputs": [
    {
     "data": {
      "text/html": [
       "<style>.container { width:100% !important; }</style>"
      ],
      "text/plain": [
       "<IPython.core.display.HTML object>"
      ]
     },
     "metadata": {},
     "output_type": "display_data"
    }
   ],
   "source": [
    "from IPython.display import display, HTML\n",
    "display(HTML(\"<style>.container { width:100% !important; }</style>\"))"
   ]
  },
  {
   "cell_type": "code",
   "execution_count": 2,
   "id": "353a44e3",
   "metadata": {},
   "outputs": [],
   "source": [
    "import astropy.units as u\n",
    "from astropy.time import Time\n",
    "from astropy.coordinates import SkyCoord\n",
    "import pandas as pd\n",
    "import numpy as np\n",
    "\n",
    "import matplotlib.pyplot as plt\n",
    "from ipywidgets import interact, fixed\n",
    "import ipywidgets as widgets\n",
    "\n",
    "import difi\n",
    "import thor\n",
    "\n",
    "import variant_orbits\n",
    "import scheduling\n",
    "import detection_probability\n",
    "import magnitudes"
   ]
  },
  {
   "cell_type": "code",
   "execution_count": 3,
   "id": "cb5a02d0",
   "metadata": {},
   "outputs": [],
   "source": [
    "plt.rc('font', family='serif')\n",
    "plt.rcParams['text.usetex'] = False\n",
    "fs = 24\n",
    "\n",
    "# update various fontsizes to match\n",
    "params = {'figure.figsize': (12, 8),\n",
    "          'legend.fontsize': fs,\n",
    "          'axes.labelsize': fs,\n",
    "          'xtick.labelsize': 0.6 * fs,\n",
    "          'ytick.labelsize': 0.6 * fs,\n",
    "          'axes.linewidth': 1.1,\n",
    "          'xtick.major.size': 7,\n",
    "          'xtick.minor.size': 4,\n",
    "          'ytick.major.size': 7,\n",
    "          'ytick.minor.size': 4}\n",
    "plt.rcParams.update(params)\n",
    "\n",
    "%config InlineBackend.figure_format = 'retina'"
   ]
  },
  {
   "cell_type": "markdown",
   "id": "c9a21da8",
   "metadata": {},
   "source": [
    "# Assess Algorithm Accuracy"
   ]
  },
  {
   "cell_type": "markdown",
   "id": "968c8564",
   "metadata": {},
   "source": [
    "### DIFI plus some small hacks"
   ]
  },
  {
   "cell_type": "code",
   "execution_count": 454,
   "id": "fdcb3c83",
   "metadata": {},
   "outputs": [
    {
     "name": "stdout",
     "output_type": "stream",
     "text": [
      "Obs file done\n",
      "CPU times: user 4.23 s, sys: 82.9 ms, total: 4.32 s\n",
      "Wall time: 4.31 s\n"
     ]
    }
   ],
   "source": [
    "%%time\n",
    "path=\"../neocp/neo/\"\n",
    "\n",
    "obs_dfs = [pd.read_hdf(path + f\"filtered_visit_scores_{i:03d}.h5\").sort_values(\"FieldMJD\")[[\"FieldMJD\", \"night\"]]\n",
    "               for i in range(24)]\n",
    "all_obs = pd.concat(obs_dfs)\n",
    "all_obs[\"obs_id\"] = np.arange(len(all_obs))\n",
    "all_obs.reset_index(inplace=True)\n",
    "\n",
    "print(\"Obs file done\")\n",
    "\n",
    "all_truths, findable_obs, summary = difi.analyzeObservations(\n",
    "    observations=all_obs,\n",
    "    classes=None,\n",
    "    metric=\"nightly_linkages\",\n",
    "    column_mapping={\"obs_id\": \"obs_id\", \"truth\": \"hex_id\", \"night\": \"night\", \"time\": \"FieldMJD\"}\n",
    ")"
   ]
  },
  {
   "cell_type": "code",
   "execution_count": 510,
   "id": "085e4693",
   "metadata": {},
   "outputs": [
    {
     "name": "stdout",
     "output_type": "stream",
     "text": [
      "CPU times: user 6.48 s, sys: 45.3 ms, total: 6.52 s\n",
      "Wall time: 6.42 s\n"
     ]
    }
   ],
   "source": [
    "%%time\n",
    "findable_obs[\"night_detected\"] = np.zeros(len(findable_obs)).astype(int)\n",
    "findable_obs[\"actually_findable\"] = np.repeat(True, len(findable_obs))\n",
    "\n",
    "for ind, row in findable_obs.iterrows():\n",
    "    obs_nights = np.unique(all_obs.loc[row[\"obs_ids\"]][\"night\"].values)\n",
    "    diff_nights = np.diff(obs_nights)\n",
    "    window_sizes = np.array([sum(diff_nights[i:i + min_nights - 1])\n",
    "                            for i in range(len(diff_nights) - min_nights + 2)])\n",
    "\n",
    "    # record whether any are short enough\n",
    "    if np.any(window_sizes <= detection_window):\n",
    "        detection_obs_ind = np.arange(len(window_sizes))[window_sizes <= detection_window][0] + min_nights - 1\n",
    "        findable_obs.loc[ind, \"night_detected\"] = obs_nights[detection_obs_ind]\n",
    "    else:\n",
    "        findable_obs.loc[ind, \"night_detected\"] = -1\n",
    "        findable_obs.loc[ind, \"actually_findable\"] = False"
   ]
  },
  {
   "cell_type": "code",
   "execution_count": 518,
   "id": "e4da1a9c",
   "metadata": {},
   "outputs": [],
   "source": [
    "test = pd.read_hdf(\"findable_obs_mba.h5\")"
   ]
  },
  {
   "cell_type": "code",
   "execution_count": 528,
   "id": "4c7c8839",
   "metadata": {},
   "outputs": [
    {
     "data": {
      "text/plain": [
       "array([False, False, False, False, False, False, False, False, False,\n",
       "       False, False, False])"
      ]
     },
     "execution_count": 528,
     "metadata": {},
     "output_type": "execute_result"
    }
   ],
   "source": [
    "np.isin(unique_objs, test.index)"
   ]
  },
  {
   "cell_type": "code",
   "execution_count": 526,
   "id": "9cc5a6a0",
   "metadata": {},
   "outputs": [
    {
     "data": {
      "text/plain": [
       "Index(['00418DF', '0041908', '0041951', '0041991', '00419A8', '00419D5',\n",
       "       '00419F3', '00419F5', '00419FB', '0041A07',\n",
       "       ...\n",
       "       '0C4A442', '0C52CBD', '0C563D4', '0C56E4E', '0C6D8D9', '0C77FF8',\n",
       "       '0C89343', '0CAFEA6', '0CB343E', '0CCB6B2'],\n",
       "      dtype='object', name='hex_id', length=51813)"
      ]
     },
     "execution_count": 526,
     "metadata": {},
     "output_type": "execute_result"
    }
   ],
   "source": [
    "test[test < 20].index"
   ]
  },
  {
   "cell_type": "code",
   "execution_count": 516,
   "id": "17739bc3",
   "metadata": {},
   "outputs": [
    {
     "data": {
      "text/plain": [
       "hex_id\n",
       "0000000     44\n",
       "0000001    323\n",
       "0000002    262\n",
       "0000004     47\n",
       "0000006    119\n",
       "          ... \n",
       "00412FD    322\n",
       "0041379    183\n",
       "00413A5    245\n",
       "004149E    295\n",
       "0041800     90\n",
       "Name: night_detected, Length: 7841, dtype: int64"
      ]
     },
     "execution_count": 516,
     "metadata": {},
     "output_type": "execute_result"
    }
   ],
   "source": [
    "findable_obs[findable_obs[\"actually_findable\"]].set_index(\"hex_id\")[\"night_detected\"]"
   ]
  },
  {
   "cell_type": "code",
   "execution_count": 517,
   "id": "1331ab14",
   "metadata": {},
   "outputs": [],
   "source": [
    "findable_obs[findable_obs[\"actually_findable\"]].set_index(\"hex_id\")[\"night_detected\"].to_hdf(\"neo_findable_obs_1yr.h5\", key=\"df\")"
   ]
  },
  {
   "cell_type": "code",
   "execution_count": 347,
   "id": "2aecd73f",
   "metadata": {},
   "outputs": [],
   "source": [
    "real_det_nights = findable_obs[findable_obs[\"actually_findable\"]].set_index(\"hex_id\")[\"night_detected\"]"
   ]
  },
  {
   "cell_type": "markdown",
   "id": "c209f6c0",
   "metadata": {},
   "source": [
    "### Get data"
   ]
  },
  {
   "cell_type": "code",
   "execution_count": 500,
   "id": "c7aa3772",
   "metadata": {},
   "outputs": [
    {
     "data": {
      "text/plain": [
       "array(['000011D', '0002328', '0003BEC', '0008048', '000A292', '0013ED6',\n",
       "       '001A197', '003B4E5'], dtype=object)"
      ]
     },
     "execution_count": 500,
     "metadata": {},
     "output_type": "execute_result"
    }
   ],
   "source": [
    "unique_objs[~np.isin(unique_objs, already_ids)]"
   ]
  },
  {
   "cell_type": "code",
   "execution_count": 497,
   "id": "52eba470",
   "metadata": {},
   "outputs": [
    {
     "data": {
      "text/plain": [
       "7795"
      ]
     },
     "execution_count": 497,
     "metadata": {},
     "output_type": "execute_result"
    }
   ],
   "source": [
    "len(already_ids)"
   ]
  },
  {
   "cell_type": "code",
   "execution_count": 505,
   "id": "8e959e7f",
   "metadata": {},
   "outputs": [],
   "source": [
    "concat_nights = range(360)\n",
    "\n",
    "neo_probs = [None for _ in concat_nights]\n",
    "neo_hexs = [None for _ in concat_nights]\n",
    "neo_det_window = [None for _ in concat_nights]\n",
    "neo_det_ever = [None for _ in concat_nights]\n",
    "for i, night in enumerate(concat_nights):\n",
    "    probs, unique_objs = np.load(f\"latest_runs/neo_night{night}_probs.npy\", allow_pickle=True)\n",
    "    \n",
    "    already_ids = real_det_nights[real_det_nights < night].index.values\n",
    "    window_ids = real_det_nights[(real_det_nights >= night) &\n",
    "                                 (real_det_nights < night + detection_window)].index.values\n",
    "    ever_ids = real_det_nights[(real_det_nights >= night + detection_window)].index.values\n",
    "    \n",
    "    yet_to_be_found = ~np.isin(unique_objs, already_ids)\n",
    "    unique_objs = unique_objs[yet_to_be_found]\n",
    "    probs = probs[yet_to_be_found]\n",
    "    \n",
    "    neo_probs[i] = probs\n",
    "    neo_hexs[i] = unique_objs\n",
    "    neo_det_window[i] = np.isin(unique_objs, window_ids)\n",
    "    neo_det_ever[i] = np.isin(unique_objs, ever_ids)\n",
    "neo_probs = np.concatenate(neo_probs)\n",
    "neo_hexs = np.concatenate(neo_hexs)\n",
    "neo_det_window = np.concatenate(neo_det_window)\n",
    "neo_det_ever = np.concatenate(neo_det_ever)"
   ]
  },
  {
   "cell_type": "code",
   "execution_count": 462,
   "id": "7bad2488",
   "metadata": {},
   "outputs": [
    {
     "data": {
      "text/html": [
       "<div>\n",
       "<style scoped>\n",
       "    .dataframe tbody tr th:only-of-type {\n",
       "        vertical-align: middle;\n",
       "    }\n",
       "\n",
       "    .dataframe tbody tr th {\n",
       "        vertical-align: top;\n",
       "    }\n",
       "\n",
       "    .dataframe thead th {\n",
       "        text-align: right;\n",
       "    }\n",
       "</style>\n",
       "<table border=\"1\" class=\"dataframe\">\n",
       "  <thead>\n",
       "    <tr style=\"text-align: right;\">\n",
       "      <th></th>\n",
       "      <th>hex_id</th>\n",
       "      <th>obs_ids</th>\n",
       "      <th>night_detected</th>\n",
       "      <th>actually_findable</th>\n",
       "      <th>obs_nights</th>\n",
       "    </tr>\n",
       "  </thead>\n",
       "  <tbody>\n",
       "    <tr>\n",
       "      <th>5278</th>\n",
       "      <td>0007526</td>\n",
       "      <td>[636, 690, 3629, 3754, 3784, 5710, 5736, 5743,...</td>\n",
       "      <td>15</td>\n",
       "      <td>True</td>\n",
       "      <td>[0, 11, 15, 18, 19, 21, 22, 24, 27, 30, 366]</td>\n",
       "    </tr>\n",
       "  </tbody>\n",
       "</table>\n",
       "</div>"
      ],
      "text/plain": [
       "       hex_id                                            obs_ids  \\\n",
       "5278  0007526  [636, 690, 3629, 3754, 3784, 5710, 5736, 5743,...   \n",
       "\n",
       "      night_detected  actually_findable  \\\n",
       "5278              15               True   \n",
       "\n",
       "                                        obs_nights  \n",
       "5278  [0, 11, 15, 18, 19, 21, 22, 24, 27, 30, 366]  "
      ]
     },
     "execution_count": 462,
     "metadata": {},
     "output_type": "execute_result"
    }
   ],
   "source": [
    "findable_obs[findable_obs[\"hex_id\"] == \"0007526\"]"
   ]
  },
  {
   "cell_type": "markdown",
   "id": "ae05ab33",
   "metadata": {},
   "source": [
    "### Calculate stats and plot"
   ]
  },
  {
   "cell_type": "code",
   "execution_count": 506,
   "id": "074d09fc",
   "metadata": {},
   "outputs": [
    {
     "data": {
      "text/plain": [
       "0.6060394658162248"
      ]
     },
     "execution_count": 506,
     "metadata": {},
     "output_type": "execute_result"
    }
   ],
   "source": [
    "neo_det_window.astype(int).sum() / len(neo_det_window)"
   ]
  },
  {
   "cell_type": "code",
   "execution_count": 507,
   "id": "e87183ab",
   "metadata": {},
   "outputs": [],
   "source": [
    "def assess_algorithm_results(probs, hex_ids, det_window, det_ever, threshold=0.5, include_absolutes=True):\n",
    "    correct_detectable = len(probs[(probs >= threshold) & det_window])\n",
    "    correct_undetectable = len(probs[(probs < threshold) & ~det_window])\n",
    "    incorrect_detectable = len(probs[(probs >= threshold) & ~det_window])\n",
    "    incorrect_undetectable = len(probs[(probs < threshold) & det_window])\n",
    "\n",
    "    c_u_eventually = len(probs[(probs < threshold) & ~det_window & det_ever])\n",
    "    i_d_eventually = len(probs[(probs >= threshold) & ~det_window & det_ever])\n",
    "\n",
    "#     c_u_days_until = np.median(findable_after_window[np.isin(findable_after_window[\"hex_id\"],\n",
    "#                                                              unique_objs[np.logical_and(probs < threshold, np.logical_not(will_be_detected))])][\"night_detected\"]).astype(int) - night_start - detection_window + 1\n",
    "#     i_d_days_until = np.median(findable_after_window[np.isin(findable_after_window[\"hex_id\"],\n",
    "#                                                              unique_objs[np.logical_and(probs >= threshold, np.logical_not(will_be_detected))])][\"night_detected\"]).astype(int) - night_start - detection_window + 1\n",
    "\n",
    "    print(f\"Of the {len(probs)} objects, we classified\")\n",
    "    print(f\"  {correct_detectable + correct_undetectable} correctly\")\n",
    "    print(f\"    {correct_detectable} were detectable\")\n",
    "    print(f\"    {correct_undetectable} were undetectable\")\n",
    "    print(f\"  {incorrect_detectable + incorrect_undetectable} incorrectly\")\n",
    "    print(f\"    {incorrect_detectable} were detectable\")\n",
    "    print(f\"    {incorrect_undetectable} were undetectable\")\n",
    "    print(f\"Overall success rate: {100 * (correct_detectable + correct_undetectable) / len(probs):1.2f}%\")\n",
    "    \n",
    "    \n",
    "    fig, axes = plt.subplots(1, 2, figsize=(18, 6), gridspec_kw={'width_ratios': [1, 2]})\n",
    "\n",
    "    axes[0].set_title(f\"NEOs\", fontsize=1.1*fs)\n",
    "\n",
    "    axes[0].axvline(0.5, color=\"white\", linestyle=\"dotted\")\n",
    "    axes[0].axhline(0.5, color=\"white\", linestyle=\"dotted\")\n",
    "\n",
    "    axes[0].annotate(\"Detectable\", xy=(0.25, -0.02), xycoords=\"axes fraction\", ha=\"center\", va=\"top\", fontsize=0.7*fs)\n",
    "    axes[0].annotate(\"Undetectable\", xy=(0.75, -0.02), xycoords=\"axes fraction\", ha=\"center\", va=\"top\", fontsize=0.7*fs)\n",
    "\n",
    "    axes[0].annotate(\"Undetectable\", xy=(-0.02, 0.25), xycoords=\"axes fraction\", ha=\"right\", va=\"center\", fontsize=0.7*fs, rotation=90)\n",
    "    axes[0].annotate(\"Detectable\", xy=(-0.02, 0.75), xycoords=\"axes fraction\", ha=\"right\", va=\"center\", fontsize=0.7*fs, rotation=90)\n",
    "\n",
    "    axes[0].annotate(incorrect_undetectable, xy=(0.25, 0.25), ha=\"center\", va=\"center\", fontsize=1.5*fs)\n",
    "    axes[0].annotate(\"Excess NEOCP\", xy=(0.25, 0.15), ha=\"center\", va=\"center\", fontsize=0.6*fs)\n",
    "    axes[0].annotate(correct_undetectable, xy=(0.75, 0.25), ha=\"center\", va=\"center\", fontsize=1.5*fs)\n",
    "    axes[0].annotate(f\"{c_u_eventually} found after window\", xy=(0.98, 0.02), ha=\"right\", va=\"bottom\", fontsize=0.4*fs)\n",
    "    axes[0].annotate(incorrect_detectable, xy=(0.75, 0.75), ha=\"center\", va=\"center\", fontsize=1.5*fs)\n",
    "    axes[0].annotate(\"Lost objects\", xy=(0.75, 0.65), ha=\"center\", va=\"center\", fontsize=0.6*fs)\n",
    "    axes[0].annotate(f\"{i_d_eventually} found after window\", xy=(0.98, 0.98), ha=\"right\", va=\"top\", fontsize=0.4*fs)\n",
    "    axes[0].annotate(correct_detectable, xy=(0.25, 0.75), ha=\"center\", va=\"center\", fontsize=1.5*fs)\n",
    "\n",
    "    axes[0].axvspan(0, 0.5, 0, 0.5, color=plt.cm.Reds(incorrect_undetectable / len(probs)))\n",
    "    axes[0].axvspan(0.5, 1, 0, 0.5, color=plt.cm.Greens(correct_undetectable / len(probs)))\n",
    "    axes[0].axvspan(0, 0.5, 0.5, 1, color=plt.cm.Greens(correct_detectable / len(probs)))\n",
    "    axes[0].axvspan(0.5, 1, 0.5, 1, color=plt.cm.Reds(incorrect_detectable / len(probs)))\n",
    "\n",
    "    axes[0].set_xlabel(\"\\nTruth\")\n",
    "    axes[0].set_ylabel(\"Prediction\\n\")\n",
    "\n",
    "    axes[0].set_xticks([])\n",
    "    axes[0].set_yticks([])\n",
    "\n",
    "    axes[0].set_xlim(0, 1)\n",
    "    axes[0].set_ylim(0, 1)\n",
    "\n",
    "    bins = np.linspace(0, 1, 50)\n",
    "    \n",
    "    if include_absolutes:\n",
    "        axes[1].hist(probs[det_window], label=\"Detected\", bins=bins)\n",
    "        axes[1].hist(probs[~det_window], alpha=0.6, label=\"Not be detected\", bins=bins)\n",
    "    else:\n",
    "        axes[1].hist(probs[det_window & (probs != 1.0) & (probs != 0.0)], label=\"Detected\", bins=bins)\n",
    "        axes[1].hist(probs[~det_window & (probs != 1.0) & (probs != 0.0)], alpha=0.6, label=\"Not be detected\", bins=bins)\n",
    "    axes[1].axvline(threshold, color=\"tab:red\", linestyle=\"--\", lw=3)\n",
    "\n",
    "    axes[1].set_xlabel(\"Probability of detection\")\n",
    "    axes[1].set_ylabel(\"Number of objects\")\n",
    "    axes[1].legend(fontsize=0.7*fs)\n",
    "\n",
    "    # plt.savefig(\"../scratch/fig.png\")\n",
    "\n",
    "    plt.show()"
   ]
  },
  {
   "cell_type": "code",
   "execution_count": 509,
   "id": "20be597f",
   "metadata": {},
   "outputs": [
    {
     "name": "stdout",
     "output_type": "stream",
     "text": [
      "Of the 10034 objects, we classified\n",
      "  7353 correctly\n",
      "    5424 were detectable\n",
      "    1929 were undetectable\n",
      "  2681 incorrectly\n",
      "    2024 were detectable\n",
      "    657 were undetectable\n",
      "Overall success rate: 73.28%\n"
     ]
    },
    {
     "data": {
      "image/png": "[encoded data removed]",
      "text/plain": [
       "<Figure size 1800x600 with 2 Axes>"
      ]
     },
     "metadata": {
      "image/png": {
       "height": 594,
       "width": 1490
      }
     },
     "output_type": "display_data"
    }
   ],
   "source": [
    "assess_algorithm_results(neo_probs, neo_hexs, neo_det_window, neo_det_ever, threshold=0.5)"
   ]
  },
  {
   "cell_type": "code",
   "execution_count": 277,
   "id": "902ce84e",
   "metadata": {},
   "outputs": [
    {
     "data": {
      "image/png": "[encoded data removed]",
      "text/plain": [
       "<Figure size 1296x432 with 2 Axes>"
      ]
     },
     "metadata": {
      "image/png": {
       "height": 421,
       "width": 1073
      },
      "needs_background": "light"
     },
     "output_type": "display_data"
    }
   ],
   "source": []
  },
  {
   "cell_type": "markdown",
   "id": "e9051f4a",
   "metadata": {},
   "source": [
    "# Investigate outliers"
   ]
  },
  {
   "cell_type": "code",
   "execution_count": 404,
   "id": "5aa5c612",
   "metadata": {},
   "outputs": [
    {
     "data": {
      "text/plain": [
       "<module 'magnitudes' from '/data/epyc/projects/hybrid-sso-catalogs/lsst_detection_probability/magnitudes.py'>"
      ]
     },
     "execution_count": 404,
     "metadata": {},
     "output_type": "execute_result"
    }
   ],
   "source": [
    "from importlib import reload\n",
    "reload(scheduling)\n",
    "reload(variant_orbits)\n",
    "reload(detection_probability)\n",
    "reload(magnitudes)"
   ]
  },
  {
   "cell_type": "code",
   "execution_count": 43,
   "id": "c1a6bcc9",
   "metadata": {},
   "outputs": [
    {
     "data": {
      "text/plain": [
       "Index(['00022F2', '0035981', '0009CC0', '000C2E2', '000F110', '0011372',\n",
       "       '0016AFE', '001850E'],\n",
       "      dtype='object', name='hex_id')"
      ]
     },
     "execution_count": 43,
     "metadata": {},
     "output_type": "execute_result"
    }
   ],
   "source": [
    "unique_objs[np.logical_and(probs < 0.3, will_be_detected)]"
   ]
  },
  {
   "cell_type": "code",
   "execution_count": 44,
   "id": "cda45ae6",
   "metadata": {},
   "outputs": [
    {
     "data": {
      "text/plain": [
       "Index(['00000A7', '0001841', '00015B6', '000506E', '002A649', '003382A',\n",
       "       '000A1EE', '0015C63'],\n",
       "      dtype='object', name='hex_id')"
      ]
     },
     "execution_count": 44,
     "metadata": {},
     "output_type": "execute_result"
    }
   ],
   "source": [
    "unique_objs[np.logical_and(probs >= 0.65, np.logical_not(will_be_detected))]"
   ]
  },
  {
   "cell_type": "code",
   "execution_count": 195,
   "id": "f6bdd69d",
   "metadata": {},
   "outputs": [
    {
     "data": {
      "text/plain": [
       "[-14, -13, -12, -11, -10, -9, -8, -7, -6, -5, -4, -3, -2, -1]"
      ]
     },
     "execution_count": 195,
     "metadata": {},
     "output_type": "execute_result"
    }
   ],
   "source": [
    "list(range(night_start - detection_window + 1, night_start))"
   ]
  },
  {
   "cell_type": "code",
   "execution_count": 193,
   "id": "f2736e78",
   "metadata": {},
   "outputs": [
    {
     "name": "stdout",
     "output_type": "stream",
     "text": [
      "None 0\n"
     ]
    }
   ],
   "source": [
    "night_start = 0\n",
    "start_file = find_first_file(list(range(night_start - detection_window + 1, night_start)))\n",
    "end_file = find_last_file(night_start)\n",
    "print(start_file, end_file)"
   ]
  },
  {
   "cell_type": "code",
   "execution_count": 290,
   "id": "676711a7",
   "metadata": {},
   "outputs": [],
   "source": [
    "obj_type= \"neo\""
   ]
  },
  {
   "cell_type": "code",
   "execution_count": 403,
   "id": "098d25ce",
   "metadata": {},
   "outputs": [
    {
     "data": {
      "text/plain": [
       "[1]"
      ]
     },
     "execution_count": 403,
     "metadata": {},
     "output_type": "execute_result"
    }
   ],
   "source": [
    "prior_obs_nights[\"0000220\"]"
   ]
  },
  {
   "cell_type": "code",
   "execution_count": 423,
   "id": "c1999bc4",
   "metadata": {},
   "outputs": [
    {
     "name": "stdout",
     "output_type": "stream",
     "text": [
      "Schedule is loaded in and ready!\n",
      "Observation files read in\n",
      "Masks applied to observation files\n",
      "Everything is prepped and ready for probability calculations - Time to create some offspring\n"
     ]
    }
   ],
   "source": [
    "night_start = 18\n",
    "\n",
    "obj_type= \"neo\"\n",
    "path = f\"/epyc/projects/hybrid-sso-catalogs/neocp/{obj_type}/\"\n",
    "\n",
    "# create a list of nights in the detection window and get schedule for them\n",
    "night_list = list(range(night_start, night_start + detection_window))\n",
    "\n",
    "if schedule_type == \"predicted\":\n",
    "    full_schedule = scheduling.get_LSST_schedule(night=night_start, schedule_type=schedule_type)\n",
    "else:\n",
    "    full_schedule = scheduling.get_LSST_schedule(night=(night_start, night_start + detection_window - 1),\n",
    "                                      schedule_type=schedule_type)\n",
    "\n",
    "# offset the schedule by one row and re-merge to get the previous night column\n",
    "shifted = full_schedule.shift()\n",
    "full_schedule[\"previousNight\"] = shifted[\"night\"]\n",
    "\n",
    "# calculate the length of each night in days\n",
    "night_lengths = np.zeros(detection_window)\n",
    "for i, night in enumerate(night_list):\n",
    "    mask = full_schedule[\"night\"] == night\n",
    "\n",
    "    # ignore nights that have no observations (bad weather/downtime)\n",
    "    if not full_schedule[mask].empty:\n",
    "        night_lengths[i] = full_schedule[mask].iloc[-1][\"observationStartMJD\"]\\\n",
    "            - full_schedule[mask].iloc[0][\"observationStartMJD\"]\n",
    "\n",
    "# get the first/last visit from each night\n",
    "night_transition = full_schedule[\"night\"] != full_schedule[\"previousNight\"]\n",
    "first_visit_times = full_schedule[night_transition][\"observationStartMJD\"].values\n",
    "\n",
    "last_times_ind = np.array(list(full_schedule[night_transition].index[1:]) + [len(full_schedule)]) - 1\n",
    "last_visit_times = full_schedule.loc[last_times_ind][\"observationStartMJD\"].values\n",
    "\n",
    "print(\"Schedule is loaded in and ready!\")\n",
    "\n",
    "# work out which visit files contain the observations\n",
    "start_file = find_first_file(list(range(night_start - detection_window + 1, night_start)))\n",
    "end_file = find_last_file(night_list)\n",
    "\n",
    "# either open one file or concatenate a bunch of them\n",
    "if start_file == end_file or start_file is None:\n",
    "    all_obs = pd.read_hdf(path + f\"filtered_visit_scores_{end_file:03d}.h5\").sort_values(\"FieldMJD\")\n",
    "else:\n",
    "    obs_dfs = [pd.read_hdf(path + f\"filtered_visit_scores_{i:03d}.h5\").sort_values(\"FieldMJD\")\n",
    "                for i in range(start_file, end_file + 1)]\n",
    "    all_obs = pd.concat(obs_dfs)\n",
    "\n",
    "print(\"Observation files read in\")\n",
    "\n",
    "# get the sorted observations for the start night (that have digest2 > 65 and at least 3 observations)\n",
    "sorted_obs = all_obs[(all_obs[\"night\"] == night_start)\n",
    "                     & (all_obs[\"scores\"] >= 65)\n",
    "                     & (all_obs[\"n_obs\"] >= 3)].sort_values([\"ObjID\", \"FieldMJD\"])\n",
    "unique_objs = sorted_obs.index.unique()\n",
    "\n",
    "# get the prior observations that occurred in the past detection window that could possibly contribute\n",
    "all_obs = all_obs[(all_obs[\"night\"] > night_start - detection_window) & (all_obs[\"night\"] < night_start)]\n",
    "prior_obs = all_obs[all_obs.index.isin(unique_objs)]\n",
    "\n",
    "print(\"Masks applied to observation files\")\n",
    "\n",
    "# create a (default)dict of the nights on which observations occurred\n",
    "if prior_obs.empty:\n",
    "    prior_obs_nights = defaultdict(list)\n",
    "else:\n",
    "    dd = defaultdict(list)\n",
    "    s = prior_obs.groupby(\"hex_id\").apply(lambda x: list(x[\"night\"].unique()))\n",
    "    prior_obs_nights = s.to_dict(into=dd)\n",
    "\n",
    "    # identify objects that would not already have been detected before this night\n",
    "    already_found_ids = s[s.apply(len) >= min_nights].index\n",
    "\n",
    "    # reduce the original observations to include only these\n",
    "    sorted_obs = sorted_obs[~sorted_obs.index.isin(already_found_ids)].sort_values([\"ObjID\", \"FieldMJD\"])\n",
    "    unique_objs = sorted_obs.index.unique()\n",
    "\n",
    "print(\"Everything is prepped and ready for probability calculations - Time to create some offspring\")"
   ]
  },
  {
   "cell_type": "code",
   "execution_count": null,
   "id": "a8b94d15",
   "metadata": {},
   "outputs": [],
   "source": [
    "reload(detection_probability)"
   ]
  },
  {
   "cell_type": "code",
   "execution_count": 426,
   "id": "6ca0c973",
   "metadata": {},
   "outputs": [
    {
     "data": {
      "text/html": [
       "<div>\n",
       "<style scoped>\n",
       "    .dataframe tbody tr th:only-of-type {\n",
       "        vertical-align: middle;\n",
       "    }\n",
       "\n",
       "    .dataframe tbody tr th {\n",
       "        vertical-align: top;\n",
       "    }\n",
       "\n",
       "    .dataframe thead th {\n",
       "        text-align: right;\n",
       "    }\n",
       "</style>\n",
       "<table border=\"1\" class=\"dataframe\">\n",
       "  <thead>\n",
       "    <tr style=\"text-align: right;\">\n",
       "      <th></th>\n",
       "      <th>hex_id</th>\n",
       "      <th>obs_ids</th>\n",
       "      <th>night_detected</th>\n",
       "      <th>actually_findable</th>\n",
       "      <th>obs_nights</th>\n",
       "    </tr>\n",
       "  </thead>\n",
       "  <tbody>\n",
       "    <tr>\n",
       "      <th>5278</th>\n",
       "      <td>0007526</td>\n",
       "      <td>[636, 690, 3629, 3754, 3784, 5710, 5736, 5743,...</td>\n",
       "      <td>15</td>\n",
       "      <td>True</td>\n",
       "      <td>[0, 11, 15, 18, 19, 21, 22, 24, 27, 30, 366]</td>\n",
       "    </tr>\n",
       "  </tbody>\n",
       "</table>\n",
       "</div>"
      ],
      "text/plain": [
       "       hex_id                                            obs_ids  \\\n",
       "5278  0007526  [636, 690, 3629, 3754, 3784, 5710, 5736, 5743,...   \n",
       "\n",
       "      night_detected  actually_findable  \\\n",
       "5278              15               True   \n",
       "\n",
       "                                        obs_nights  \n",
       "5278  [0, 11, 15, 18, 19, 21, 22, 24, 27, 30, 366]  "
      ]
     },
     "execution_count": 426,
     "metadata": {},
     "output_type": "execute_result"
    }
   ],
   "source": [
    "findable_obs[findable_obs[\"hex_id\"] == \"0007526\"]"
   ]
  },
  {
   "cell_type": "code",
   "execution_count": 424,
   "id": "a199c007",
   "metadata": {
    "scrolled": false
   },
   "outputs": [
    {
     "name": "stdout",
     "output_type": "stream",
     "text": [
      "[11, 15] [18]\n",
      "[11, 15] [18]\n",
      "[11, 15] [18]\n",
      "[11, 15] [18 22]\n",
      "[11, 15] [18 22]\n",
      "[11, 15] [18]\n",
      "[11, 15] [18]\n",
      "[11, 15] [18 22 23]\n",
      "[11, 15] [18 22 23]\n",
      "[11, 15] [18 21 22 23]\n",
      "[11, 15] [18 21 22 23]\n",
      "[11, 15] [18 21 22 23]\n",
      "[11, 15] [18 22 23]\n",
      "[11, 15] [18]\n",
      "[11, 15] [18 22 23]\n",
      "[11, 15] [18 22 23]\n",
      "[11, 15] [18 22 23]\n",
      "[11, 15] [18 22 23 27]\n",
      "[11, 15] [18 23 27]\n",
      "[11, 15] [18 22 23 27]\n",
      "[11, 15] [18 23 27]\n",
      "[11, 15] [18 21]\n",
      "[11, 15] [18 21]\n",
      "[11, 15] [18]\n",
      "[11, 15] [18]\n",
      "[11, 15] [18]\n",
      "[11, 15] [18 21]\n",
      "[11, 15] [18 22]\n",
      "[11, 15] [18]\n",
      "[11, 15] [18]\n",
      "[11, 15] [18]\n",
      "[11, 15] [18 22 23]\n",
      "[11, 15] [18 22 23]\n",
      "[11, 15] [18 21 22 23]\n",
      "[11, 15] [18 21 22 23]\n",
      "[11, 15] [18 22]\n",
      "[11, 15] [18 21 23]\n",
      "[11, 15] [18 22 23]\n",
      "[11, 15] [18 22 23]\n",
      "[11, 15] [18 22 23]\n",
      "[11, 15] [18 22 23]\n",
      "[11, 15] [18 22 23 27]\n",
      "[11, 15] [18 23 27]\n",
      "[11, 15] [18 22 27]\n",
      "[11, 15] [18 22 23 27]\n",
      "[11, 15] [18 21]\n",
      "[11, 15] [18 22]\n",
      "[11, 15] [18]\n",
      "[11, 15] [18]\n",
      "[11, 15] [18 21]\n",
      "[11, 15] [18]\n",
      "[11, 15] [18 22]\n",
      "[11, 15] [18]\n",
      "[11, 15] [18]\n",
      "[11, 15] [18 22 23]\n",
      "[11, 15] [18 22 23]\n",
      "[11, 15] [18 21 22 23]\n",
      "[11, 15] [18 21 23]\n",
      "[11, 15] [18 21 22 23]\n",
      "[11, 15] [18 21 22 23]\n",
      "[11, 15] [18 22 23]\n",
      "[11, 15] [18 22 23]\n",
      "[11, 15] [18 22 23]\n",
      "[11, 15] [18 22 23]\n",
      "[11, 15] [18 22 23 27]\n",
      "[11, 15] [18 23 27]\n",
      "[11, 15] [18 22 23 27]\n",
      "[11, 15] [18 22 23 27]\n",
      "[11, 15] [18 21 22 23]\n",
      "[11, 15] [18 27]\n",
      "[11, 15] [18]\n",
      "[11, 15] [18]\n",
      "[11, 15] [18 21]\n",
      "[11, 15] [18 22]\n",
      "[11, 15] [18 22]\n",
      "[11, 15] [18]\n",
      "[11, 15] [18]\n",
      "[11, 15] [18 22 23]\n",
      "[11, 15] [18 22 23]\n",
      "[11, 15] [18 21 22 23]\n",
      "[11, 15] [18 21 22 23]\n",
      "[11, 15] [18 21 22 23]\n",
      "[11, 15] [18 21 22 23]\n",
      "[11, 15] [18 22 23]\n",
      "[11, 15] [18 22]\n",
      "[11, 15] [18 22 23]\n",
      "[11, 15] [18 22 23]\n",
      "[11, 15] [18 22 23 27]\n",
      "[11, 15] [18 23 27]\n",
      "[11, 15] [18 22 23 27]\n",
      "[11, 15] [18 22 23]\n",
      "[11, 15] [18 22 23 27]\n",
      "[11, 15] [18 22 23 27]\n",
      "[11, 15] [18 22 23 27]\n",
      "[11, 15] [18]\n",
      "[11, 15] [18 21 22]\n",
      "[11, 15] [18 22]\n",
      "[11, 15] [18]\n",
      "[11, 15] [18]\n",
      "[11, 15] [18]\n",
      "[11, 15] [18 22 23]\n",
      "[11, 15] [18 22]\n",
      "[11, 15] [18]\n",
      "[11, 15] [18 21 22 23]\n",
      "[11, 15] [18 21 22 23]\n",
      "[11, 15] [18 21 22 23]\n",
      "[11, 15] [18 22 23]\n",
      "[11, 15] [18 22]\n",
      "[11, 15] [18 22 23]\n",
      "[11, 15] [18 22]\n",
      "[11, 15] [18 22 23 27]\n",
      "[11, 15] [18 22 27]\n",
      "[11, 15] [18]\n",
      "[11, 15] [18 22 23]\n",
      "[11, 15] [18 22 23 27]\n",
      "[11, 15] [18 23 27]\n",
      "[11, 15] [18 22 23 27]\n",
      "[11, 15] [18 22 23 27]\n",
      "[11, 15] [18 21 22]\n",
      "[11, 15] [18 22]\n",
      "[11, 15] [18]\n",
      "[11, 15] [18]\n",
      "[11, 15] [18 23]\n",
      "[11, 15] [18 22]\n",
      "[11, 15] [18 22 23]\n",
      "[11, 15] [18 23]\n",
      "[11, 15] [18 22]\n",
      "[11, 15] [18 21 22 23]\n",
      "[11, 15] [18 21 23]\n",
      "[11, 15] [18 22 23]\n",
      "[11, 15] [18 22 23]\n",
      "[11, 15] [18 22 23]\n",
      "[11, 15] [18 23]\n",
      "[11, 15] [18 22 23 27]\n",
      "[11, 15] [18 22 23 27]\n",
      "[11, 15] [18 22 23 27]\n",
      "[11, 15] [18 22 23 27]\n",
      "[11, 15] [18 22 23 27]\n",
      "[11, 15] [18 22 23 27]\n",
      "[11, 15] [18 22 23 27]\n",
      "[11, 15] [18 22 23 27]\n",
      "[11, 15] [18 22]\n",
      "[11, 15] [18]\n",
      "[11, 15] [18]\n",
      "[11, 15] [18 22 23]\n",
      "[11, 15] [18 22 23]\n",
      "[11, 15] [18 23 27]\n",
      "[11, 15] [18 21 22 23]\n",
      "[11, 15] [18 22 23]\n",
      "[11, 15] [18 21 22 23]\n",
      "[11, 15] [18 22 23]\n",
      "[11, 15] [18 22 23]\n",
      "[11, 15] [18 22 23]\n",
      "[11, 15] [18 23]\n",
      "[11, 15] [18 22 27]\n",
      "[11, 15] [18 22 23 27]\n",
      "[11, 15] [18 22 23 27]\n",
      "[11, 15] [18]\n",
      "[11, 15] [18 23 27]\n",
      "[11, 15] [18 22 23 27]\n",
      "[11, 15] [18 22 23 27]\n",
      "[11, 15] [18 23 27]\n",
      "[11, 15] [18 23 27]\n",
      "[11, 15] [18]\n",
      "[11, 15] [18 22 23]\n",
      "[11, 15] [18 22 23]\n",
      "[11, 15] [18 22 23]\n",
      "[11, 15] [18 21 22 23]\n",
      "[11, 15] [18]\n",
      "[11, 15] [18 21 22 23]\n",
      "[11, 15] [18 21 23]\n",
      "[11, 15] [18 22 23]\n",
      "[11, 15] [18 22]\n",
      "[11, 15] [18 22 23]\n",
      "[11, 15] [18 22 27]\n",
      "[11, 15] [18 23 27]\n",
      "[11, 15] [18 22 23]\n",
      "[11, 15] [18 22 23 27]\n",
      "[11, 15] [18 22 23 27]\n",
      "[11, 15] [18]\n",
      "[11, 15] [18 22 23 27]\n",
      "[11, 15] [18 22 23 27]\n",
      "[11, 15] [18 23 27]\n",
      "[11, 15] [18 22 23 27]\n",
      "[11, 15] [18 22 23 27]\n",
      "[11, 15] [18 23]\n",
      "[11, 15] [18 21 22 23]\n",
      "[11, 15] [18 21 22 23]\n",
      "[11, 15] [18 21 22 23]\n",
      "[11, 15] [18 21 22 23]\n",
      "[11, 15] [18]\n",
      "[11, 15] [18 22 23]\n",
      "[11, 15] [18 22 23]\n",
      "[11, 15] [18 22 23]\n",
      "[11, 15] [18 22 23 27]\n",
      "[11, 15] [18 22 23 27]\n",
      "[11, 15] [18 22 23 27]\n",
      "[11, 15] [18 23 27]\n",
      "[11, 15] [18 22 27]\n",
      "[11, 15] [18 22 23 27]\n",
      "[11, 15] [18 23 27]\n",
      "[11, 15] [18 21]\n",
      "[11, 15] [18 22 23 27]\n",
      "[11, 15] [18 22 23 27]\n",
      "[11, 15] [18 22 23 27]\n",
      "[11, 15] [18 22 23 27]\n",
      "[11, 15] [18 22 23]\n",
      "[11, 15] [18 22 23]\n",
      "[11, 15] [18 22 23]\n",
      "[11, 15] [18 22]\n",
      "[11, 15] [18 22]\n",
      "[11, 15] [18 22 23]\n",
      "[11, 15] [18 21]\n",
      "[11, 15] [18 22 23 27]\n",
      "[11, 15] [18 22 23 27]\n",
      "[11, 15] [18 22 27]\n",
      "[11, 15] [18 27]\n",
      "[11, 15] [18 22 23 27]\n",
      "[11, 15] [18 22 23 27]\n",
      "[11, 15] [18 23 27]\n",
      "[11, 15] [18 22 23 27]\n",
      "[11, 15] [18 22 23 27]\n",
      "[11, 15] [18 22 23 27]\n",
      "[11, 15] [18 21]\n",
      "[11, 15] [18]\n",
      "[11, 15] [18 23 27]\n",
      "[11, 15] [18 23 27]\n",
      "[11, 15] [18 22 23 27]\n",
      "[11, 15] [18 22 23]\n",
      "[11, 15] [18 22]\n",
      "[11, 15] [18 22 23 27]\n",
      "[11, 15] [18 22 23 27]\n",
      "[11, 15] [18 22 23 27]\n",
      "[11, 15] [18 23 27]\n",
      "[11, 15] [18 22 23 27]\n",
      "[11, 15] [18]\n",
      "[11, 15] [18 22 23 27]\n",
      "[11, 15] [18 23 27]\n",
      "[11, 15] [18 22 23 27]\n",
      "[11, 15] [18 22 23 27]\n",
      "[11, 15] [18 22 23 27]\n",
      "[11, 15] [18 23 27]\n",
      "[11, 15] [18 22 23 27]\n",
      "[11, 15] [18 22 23 27]\n",
      "[11, 15] [18 22 23 27]\n",
      "[11, 15] [18 22 23 27]\n",
      "[11, 15] [18 21 22]\n",
      "[11, 15] [18 22 23 27]\n",
      "[11, 15] [18 23 27]\n",
      "[11, 15] [18 22 23 27]\n",
      "[11, 15] [18 22 23 27]\n",
      "[11, 15] [18 22 23 27]\n",
      "[11, 15] [18 22 23 27]\n",
      "[11, 15] [18 22 23 27]\n",
      "[11, 15] [18 22 23 27]\n",
      "[11, 15] [18 22 23 27]\n",
      "[11, 15] [18 22 23 27]\n",
      "[11, 15] [18 22]\n",
      "[11, 15] [18 23 27]\n",
      "[11, 15] [18 22 23 27]\n",
      "[11, 15] [18 22 23 27]\n",
      "[11, 15] [18 22 23 27]\n",
      "[11, 15] [18 22 23 27 31]\n",
      "[11, 15] [18 22 23 27]\n",
      "[11, 15] [18 23 31]\n",
      "[11, 15] [18 23 27 31]\n",
      "[11, 15] [18 22 23 27]\n",
      "[11, 15] [18 22 23 27]\n",
      "[11, 15] [18]\n",
      "[11, 15] [18 22 23 27]\n",
      "[11, 15] [18 22 23 27]\n",
      "[11, 15] [18 22 23 27]\n",
      "[11, 15] [18 22 23]\n",
      "[11, 15] [18 23 27]\n",
      "[11, 15] [18 22 23 27 31]\n",
      "[11, 15] [18 23 27 31]\n",
      "[11, 15] [18 22 23 27 31]\n",
      "[11, 15] [18 22 23 27]\n",
      "[11, 15] [18 22 23 27 31]\n",
      "[11, 15] [18]\n",
      "[11, 15] [18 22 23 27 31]\n",
      "[11, 15] [18 22 23 27 31]\n",
      "[11, 15] [18 22 23 31]\n",
      "[11, 15] [18 22 23 31]\n",
      "[11, 15] [18 22 23 27 31]\n",
      "[11, 15] [18 19 22 23 27]\n",
      "[11, 15] [18 19 22 23 27 31]\n",
      "[11, 15] [18 19 22 23 27 31]\n",
      "[11, 15] [18 19 22 23 31]\n",
      "[11, 15] [18 19 22 23 31]\n",
      "[11, 15] [18]\n",
      "[11, 15] [18 19 22 23 31]\n",
      "[11, 15] [18 19 22 23 31]\n",
      "[11, 15] [18 19 22 23 31]\n",
      "[11, 15] [18 19 22 23]\n",
      "[11, 15] [18 19 22 23 31]\n",
      "[11, 15] [18 19 22 23 31]\n",
      "[11, 15] [18 19 22 23 31]\n",
      "[11, 15] [18 19 22 23 31]\n",
      "[11, 15] [18 19 22 23 31]\n",
      "[11, 15] [18 19 22 23 31]\n",
      "[11, 15] [18 22 23]\n",
      "[11, 15] [18 19 22 23 31]\n",
      "[11, 15] [18 19 22 23 29]\n",
      "[11, 15] [18 19 22 23 29 31]\n",
      "[11, 15] [18 19 22 23 29 31]\n",
      "[11, 15] [18 19 22 23 29]\n",
      "[11, 15] [18 19 22 23 29 31]\n",
      "[11, 15] [18 19 22 23 31]\n",
      "[11, 15] [18 19 22 23 31]\n",
      "[11, 15] [18 19 22 23 31]\n",
      "[11, 15] [18 19 22 23]\n",
      "[11, 15] [18 21 22 23]\n",
      "[11, 15] [18 19 22 23 31]\n",
      "[11, 15] [18 19 22 23]\n",
      "[11, 15] [18 19 22 23]\n",
      "[11, 15] [18 19 22 23 31]\n",
      "[11, 15] [18 19 22 23 27 31]\n",
      "[11, 15] [18 19 22 23 31]\n",
      "[11, 15] [18 19 22 23 31]\n",
      "[11, 15] [18 19 22 23 31]\n",
      "[11, 15] [18 19 22 23 29 30]\n",
      "[11, 15] [18 19 22 23 29 30 31]\n",
      "[11, 15] [18 21 22 23]\n",
      "[11, 15] [18 19 22 23 27 29 30 31]\n",
      "[11, 15] [18 19 22 23 29 30 31]\n",
      "[11, 15] [18 19 22 23 29 30 31]\n",
      "[11, 15] [18 19 22 23 31]\n",
      "[11, 15] [18 19 22 23 29 31]\n",
      "[11, 15] [18 19 22 23 29 31]\n",
      "[11, 15] [18 19 22 23 29 31]\n",
      "[11, 15] [18 19 22 23 29 31]\n",
      "[11, 15] [18 19 22 23 29 31]\n",
      "[11, 15] [18 19 23 31]\n",
      "[11, 15] [18 21]\n",
      "[11, 15] [18 21 22 23]\n",
      "[11, 15] [18 19 23 31]\n",
      "[11, 15] [18 19 23 31]\n",
      "[11, 15] [18 19 22 23]\n",
      "[11, 15] [18 19 22 23 31]\n",
      "[11, 15] [18 19 22 23]\n",
      "[11, 15] [18 19 23]\n",
      "[11, 15] [18 19 22 23 29]\n",
      "[11, 15] [18 19 22 23 29 30]\n",
      "[11, 15] [18 19 22 23 29 30]\n",
      "[11, 15] [18 19 22 29 31]\n",
      "[11, 15] [18 22 23]\n",
      "[11, 15] [18 19 22 23 29 31]\n",
      "[11, 15] [18 19 23 29 30 31]\n",
      "[11, 15] [18 19 22 23 27 29]\n",
      "[11, 15] [18 19 22 23 30 31]\n",
      "[11, 15] [18 19 22 23 29 30 31]\n",
      "[11, 15] [18 19 22 23 27 29]\n",
      "[11, 15] [18 19 22 23 29 31]\n",
      "[11, 15] [18 19 22 23]\n",
      "[11, 15] [18 19 22 23 31]\n",
      "[11, 15] [18 19 22 23 31]\n",
      "[11, 15] [18 22 23]\n",
      "[11, 15] [18 19 22 23 31]\n",
      "[11, 15] [18 19 22 23 31]\n",
      "[11, 15] [18 19 22 23 31]\n",
      "[11, 15] [18 22]\n",
      "[11, 15] [18 22]\n",
      "[11, 15] [18 22 23 27]\n",
      "[11, 15] [18 22 27]\n",
      "[11, 15] [18 22 23 27]\n",
      "[11, 15] [18]\n",
      "[11, 15] [18]\n",
      "[11, 15] [18]\n",
      "[11, 15] [18 21]\n",
      "[11, 15] [18]\n",
      "[11, 15] [18 21]\n",
      "[11, 15] [18]\n",
      "[11, 15] [18]\n",
      "[11, 15] [18 21 22]\n",
      "[11, 15] [18 22]\n",
      "[11, 15] [18]\n",
      "[11, 15] [18]\n",
      "[11, 15] [18 22]\n",
      "[11, 15] [18]\n",
      "[11, 15] [18 23]\n",
      "[11, 15] [18 22 23]\n",
      "[11, 15] [18 21 23]\n",
      "[11, 15] [18 23]\n",
      "[11, 15] [18 21 22 23]\n",
      "[11, 15] [18 22 23]\n",
      "[11, 15] [18 22 23]\n",
      "[11, 15] [18 22]\n",
      "[11, 15] [18 22 23]\n",
      "[11, 15] [18 22 23 27]\n",
      "[11, 15] [18]\n",
      "[11, 15] [18 22 23 27]\n",
      "[11, 15] [18]\n",
      "[11, 15] [18]\n",
      "[11, 15] [18 21]\n",
      "[11, 15] [18 21]\n",
      "[11, 15] [18]\n",
      "[11, 15] [18]\n",
      "[11, 15] [18 21 22]\n",
      "[11, 15] [18 22]\n",
      "[11, 15] [18]\n",
      "[11, 15] [18 21]\n",
      "[11, 15] [18]\n",
      "[11, 15] [18]\n",
      "[11, 15] [18 22]\n",
      "[11, 15] [18 22 23]\n",
      "[11, 15] [18 21 22 23]\n",
      "[11, 15] [18 21 22 23]\n",
      "[11, 15] [18 21 22 23]\n",
      "[11, 15] [18 22 23]\n",
      "[11, 15] [18 22]\n",
      "[11, 15] [18 22 23]\n",
      "[11, 15] [18]\n",
      "[11, 15] [18 23]\n",
      "[11, 15] [18 22]\n",
      "[11, 15] [18 22 23 27]\n",
      "[11, 15] [18 22 27]\n",
      "[11, 15] [18 21]\n",
      "[11, 15] [18 21]\n",
      "[11, 15] [18 21]\n",
      "[11, 15] [18]\n",
      "[11, 15] [18]\n",
      "[11, 15] [18 21]\n"
     ]
    },
    {
     "data": {
      "text/plain": [
       "1.0"
      ]
     },
     "execution_count": 424,
     "metadata": {},
     "output_type": "execute_result"
    }
   ],
   "source": [
    "detection_probability.probability_from_id(\"0007526\", sorted_obs,\n",
    "                                                 np.logspace(-1, 1, 51) * u.AU,\n",
    "                                                 np.linspace(-50, 10, 21) * u.km / u.s, prior_obs_nights,\n",
    "                                                 first_visit_times, full_schedule,\n",
    "                                                 night_lengths, night_list)"
   ]
  },
  {
   "cell_type": "code",
   "execution_count": 11,
   "id": "ea3a7487",
   "metadata": {},
   "outputs": [],
   "source": [
    "s3m_cart = pd.read_hdf(\"../catalogues/s3m_cart.h5\")\n",
    "s3m_cart[\"hex_id\"] = np.array(['{:07X}'.format(num) for num in np.arange(len(s3m_cart.index.values))])"
   ]
  },
  {
   "cell_type": "code",
   "execution_count": 141,
   "id": "0c391176",
   "metadata": {},
   "outputs": [],
   "source": [
    "hex_id = \"000D958\""
   ]
  },
  {
   "cell_type": "code",
   "execution_count": 296,
   "id": "f34a5f85",
   "metadata": {},
   "outputs": [
    {
     "data": {
      "text/plain": [
       "<module 'magnitudes' from '/data/epyc/projects/hybrid-sso-catalogs/lsst_detection_probability/magnitudes.py'>"
      ]
     },
     "execution_count": 296,
     "metadata": {},
     "output_type": "execute_result"
    }
   ],
   "source": [
    "from importlib import reload\n",
    "reload(scheduling)\n",
    "reload(variant_orbits)\n",
    "reload(detection_probability)\n",
    "reload(magnitudes)"
   ]
  },
  {
   "cell_type": "code",
   "execution_count": 155,
   "id": "9c7c21ec",
   "metadata": {},
   "outputs": [
    {
     "name": "stdout",
     "output_type": "stream",
     "text": [
      "59664.013807512965\n",
      "ecl.obstime.mjd 59664.013807512965\n",
      "lt [0.00577572] 59664.013807512965 [145.06992429] deg\n",
      "000D958 59664.013807512965\n"
     ]
    }
   ],
   "source": [
    "distances = np.logspace(-1, 1, 51) * u.AU\n",
    "radial_velocities = np.linspace(-50, 10, 21) * u.km / u.s\n",
    "\n",
    "rows = sorted_obs.loc[hex_id]\n",
    "reachable_schedule = detection_probability.get_reachable_schedule(rows, first_visit_times, night_list,\n",
    "                                            night_lengths, full_schedule)\n",
    "\n",
    "v_mags = [magnitudes.convert_colour_mags(r[\"MaginFilter\"],\n",
    "                              in_colour=r[\"filter\"], out_colour=\"V\") for _, r in rows.iterrows()]\n",
    "apparent_mag = np.mean(v_mags)\n",
    "\n",
    "print(hex_id, rows.iloc[0][\"FieldMJD\"])\n",
    "\n",
    "# get the orbits for the entire reachable schedule with the grid of distances and RVs\n",
    "ra=rows.iloc[0][\"AstRA(deg)\"] * u.deg\n",
    "dec=rows.iloc[0][\"AstDec(deg)\"] * u.deg\n",
    "ra_end=rows.iloc[-1][\"AstRA(deg)\"] * u.deg\n",
    "dec_end=rows.iloc[-1][\"AstDec(deg)\"] * u.deg\n",
    "delta_t=(rows.iloc[-1][\"FieldMJD\"] - rows.iloc[0][\"FieldMJD\"]) * u.day\n",
    "obstime=Time(rows.iloc[0][\"FieldMJD\"], format=\"mjd\")\n",
    "distances=distances\n",
    "radial_velocities=radial_velocities\n",
    "apparent_mag=apparent_mag\n",
    "eph_times=Time(reachable_schedule[\"observationStartMJD\"].values, format=\"mjd\")\n",
    "only_neos=True\n",
    "num_jobs=1"
   ]
  },
  {
   "cell_type": "code",
   "execution_count": 157,
   "id": "1a31bbe6",
   "metadata": {},
   "outputs": [],
   "source": [
    "\n",
    "from astropy.coordinates import SkyCoord, EarthLocation, get_sun"
   ]
  },
  {
   "cell_type": "code",
   "execution_count": null,
   "id": "4429b4b6",
   "metadata": {},
   "outputs": [],
   "source": []
  },
  {
   "cell_type": "code",
   "execution_count": 163,
   "id": "00885738",
   "metadata": {},
   "outputs": [],
   "source": [
    "\n",
    "from thor.constants import Constants"
   ]
  },
  {
   "cell_type": "code",
   "execution_count": 164,
   "id": "ca39469e",
   "metadata": {},
   "outputs": [
    {
     "name": "stdout",
     "output_type": "stream",
     "text": [
      "ecl.obstime.mjd 59664.013807512965\n",
      "lt [0.00057767 0.0006334  0.00069451 ...        nan        nan        nan] 59664.013807512965 [145.07000452 145.06989093 145.06987599 ... 145.06995633 145.06991065\n",
      " 145.06992333] deg\n"
     ]
    }
   ],
   "source": [
    "coords=\"heliocentriceclipticiau76\"\n",
    "location=\"Gemini South\"\n",
    "obs_code=\"I11\"\n",
    "sigma_ra=0.1 * u.arcsecond\n",
    "sigma_dec=0.1 * u.arcsecond\n",
    "\n",
    "# create a grid from the distances and radial velocities\n",
    "D, RV = np.meshgrid(distances, radial_velocities)\n",
    "size = len(distances) * len(radial_velocities)\n",
    "\n",
    "# use astropy to get information based on a site name\n",
    "obs_loc = EarthLocation.of_site(location)\n",
    "\n",
    "# need a list with units rather than list of things each with units\n",
    "obsgeoloc = [x.to(u.m).value for x in obs_loc.geocentric] * u.m\n",
    "\n",
    "# get the observer position in cartesian GCRS coordinates for THOR\n",
    "observer_position = SkyCoord(x=obsgeoloc[0],\n",
    "                             y=obsgeoloc[1],\n",
    "                             z=obsgeoloc[2],\n",
    "                             obstime=obstime,\n",
    "                             frame=\"gcrs\",\n",
    "                             representation_type=\"cartesian\").transform_to(coords).cartesian.xyz\n",
    "observer_positions = np.tile(observer_position.to(u.AU).value, (size, 1))\n",
    "\n",
    "# if proper motions are not provided\n",
    "# add some dispersion to the ra/dec's with the given sigmas (or just repeat if not are given)\n",
    "if sigma_ra.value == 0.0:\n",
    "    ra = np.repeat(ra.value, repeats=size) * ra.unit\n",
    "    ra_end = np.repeat(ra_end.value, repeats=size) * ra_end.unit\n",
    "else:\n",
    "    ra = np.random.normal(ra.value, scale=sigma_ra.to(ra.unit).value, size=size) * ra.unit\n",
    "    ra_end = np.random.normal(ra_end.value, scale=sigma_ra.to(ra_end.unit).value, size=size) * ra_end.unit\n",
    "\n",
    "if sigma_dec.value == 0.0:\n",
    "    dec = np.repeat(dec.value, repeats=size) * dec.unit\n",
    "    dec_end = np.repeat(dec_end.value, repeats=size) * dec_end.unit\n",
    "else:\n",
    "    dec = np.random.normal(dec.value, scale=sigma_dec.to(dec.unit).value, size=size) * dec.unit\n",
    "    dec_end = np.random.normal(dec_end.value, scale=sigma_dec.to(dec_end.unit).value, size=size) * dec_end.unit\n",
    "\n",
    "# convert them to Skycoords\n",
    "start = SkyCoord(ra=ra, dec=dec, frame=\"icrs\")\n",
    "end = SkyCoord(ra=ra_end, dec=dec_end, frame=\"icrs\")\n",
    "\n",
    "# calculate the offset in ra/dec and convert to a proper motion\n",
    "delta_ra_cosdec, delta_dec = start.spherical_offsets_to(end)\n",
    "pm_ra_cosdec, pm_dec = delta_ra_cosdec / delta_t, delta_dec / delta_t\n",
    "\n",
    "# put it all together into a single astropy SkyCoord in GCRS (using loc/time from above)\n",
    "coord = SkyCoord(ra=ra,\n",
    "                 dec=dec,\n",
    "                 pm_ra_cosdec=pm_ra_cosdec,\n",
    "                 pm_dec=pm_dec,\n",
    "                 distance=D.ravel(),\n",
    "                 radial_velocity=RV.ravel(),\n",
    "                 frame=\"gcrs\",\n",
    "                 obsgeoloc=obsgeoloc,\n",
    "                 obstime=obstime)\n",
    "\n",
    "# convert to ecliptic\n",
    "ecl = coord.transform_to(coords)\n",
    "\n",
    "print(\"ecl.obstime.mjd\", ecl.obstime.mjd)\n",
    "\n",
    "# translate astropy into what THOR wants\n",
    "orbits = np.atleast_2d(np.concatenate((ecl.cartesian.xyz.to(u.AU).value,\n",
    "                                       ecl.velocity.d_xyz.to(u.AU / u.day).value))).T\n",
    "t0 = np.repeat(ecl.obstime.mjd, size)\n",
    "\n",
    "# use THOR to account for light travel time\n",
    "corrected_orbits, lt = thor.addLightTime(orbits=orbits, t0=t0, observer_positions=observer_positions,\n",
    "                                         lt_tol=1e-10, mu=Constants.MU, max_iter=1000, tol=1e-15)\n",
    "corrected_t0 = t0 - lt\n",
    "\n",
    "print(\"lt\", lt, obstime, ra)"
   ]
  },
  {
   "cell_type": "code",
   "execution_count": 188,
   "id": "d0575cc5",
   "metadata": {},
   "outputs": [
    {
     "data": {
      "text/plain": [
       "array([[-1.07071293e+00, -5.12923814e-02, -5.23585555e-02,\n",
       "         3.34200501e-02, -6.05651632e-03,  1.53626155e-02],\n",
       "       [-1.07815947e+00, -4.78133207e-02, -5.74108403e-02,\n",
       "         3.43669782e-02, -3.98194522e-03,  1.53955160e-02],\n",
       "       [-1.08632463e+00, -4.39985488e-02, -6.29502331e-02,\n",
       "         3.54185029e-02, -1.69844843e-03,  1.54181082e-02],\n",
       "       ...,\n",
       "       [-5.43508410e+00,  1.98770069e+00, -3.01327122e+00,\n",
       "         5.66893089e-01,  1.22560155e+00,  1.10148265e-02],\n",
       "       [-5.86358907e+00,  2.18789134e+00, -3.30400381e+00,\n",
       "         6.21532682e-01,  1.34551187e+00,  1.30496936e-02],\n",
       "       [-6.33345375e+00,  2.40739914e+00, -3.62275662e+00,\n",
       "         6.82228905e-01,  1.47651119e+00,  1.37912515e-02]])"
      ]
     },
     "execution_count": 188,
     "metadata": {},
     "output_type": "execute_result"
    }
   ],
   "source": [
    "orbits[~np.isnan(lt)]"
   ]
  },
  {
   "cell_type": "code",
   "execution_count": 185,
   "id": "34ba1654",
   "metadata": {},
   "outputs": [
    {
     "data": {
      "text/plain": [
       "array([59664.01380751, 59664.01380751, 59664.01380751, 59664.01380751,\n",
       "       59664.01380751, 59664.01380751, 59664.01380751, 59664.01380751,\n",
       "       59664.01380751, 59664.01380751, 59664.01380751, 59664.01380751,\n",
       "       59664.01380751, 59664.01380751, 59664.01380751, 59664.01380751,\n",
       "       59664.01380751, 59664.01380751, 59664.01380751, 59664.01380751,\n",
       "       59664.01380751, 59664.01380751, 59664.01380751, 59664.01380751,\n",
       "       59664.01380751, 59664.01380751, 59664.01380751, 59664.01380751,\n",
       "       59664.01380751, 59664.01380751, 59664.01380751, 59664.01380751,\n",
       "       59664.01380751, 59664.01380751, 59664.01380751, 59664.01380751,\n",
       "       59664.01380751, 59664.01380751, 59664.01380751, 59664.01380751,\n",
       "       59664.01380751, 59664.01380751, 59664.01380751, 59664.01380751,\n",
       "       59664.01380751, 59664.01380751, 59664.01380751, 59664.01380751,\n",
       "       59664.01380751, 59664.01380751, 59664.01380751, 59664.01380751,\n",
       "       59664.01380751, 59664.01380751, 59664.01380751, 59664.01380751,\n",
       "       59664.01380751, 59664.01380751, 59664.01380751, 59664.01380751,\n",
       "       59664.01380751, 59664.01380751, 59664.01380751, 59664.01380751,\n",
       "       59664.01380751, 59664.01380751, 59664.01380751, 59664.01380751,\n",
       "       59664.01380751, 59664.01380751, 59664.01380751, 59664.01380751,\n",
       "       59664.01380751, 59664.01380751, 59664.01380751, 59664.01380751,\n",
       "       59664.01380751, 59664.01380751, 59664.01380751, 59664.01380751,\n",
       "       59664.01380751, 59664.01380751, 59664.01380751, 59664.01380751])"
      ]
     },
     "execution_count": 185,
     "metadata": {},
     "output_type": "execute_result"
    }
   ],
   "source": [
    "t0[np.isnan(lt)]"
   ]
  },
  {
   "cell_type": "code",
   "execution_count": 170,
   "id": "88eb6ee2",
   "metadata": {},
   "outputs": [
    {
     "data": {
      "text/latex": [
       "$[-50,~-47,~-44,~-41,~-38,~-35,~-32,~-29,~-26,~-23,~-20,~-17,~-14,~-11,~-8,~-5,~-2,~1,~4,~7,~10] \\; \\mathrm{\\frac{km}{s}}$"
      ],
      "text/plain": [
       "<Quantity [-50., -47., -44., -41., -38., -35., -32., -29., -26., -23.,\n",
       "           -20., -17., -14., -11.,  -8.,  -5.,  -2.,   1.,   4.,   7.,\n",
       "            10.] km / s>"
      ]
     },
     "execution_count": 170,
     "metadata": {},
     "output_type": "execute_result"
    }
   ],
   "source": [
    "radial_velocities"
   ]
  },
  {
   "cell_type": "code",
   "execution_count": 176,
   "id": "f1c8384c",
   "metadata": {},
   "outputs": [
    {
     "data": {
      "text/plain": [
       "0.8818181818181818"
      ]
     },
     "execution_count": 176,
     "metadata": {},
     "output_type": "execute_result"
    }
   ],
   "source": [
    "1 - (1.3 / 11)"
   ]
  },
  {
   "cell_type": "code",
   "execution_count": 174,
   "id": "842dd142",
   "metadata": {},
   "outputs": [
    {
     "data": {
      "text/latex": [
       "$[0.1,~0.10964782,~0.12022644,~0.13182567,~0.14454398,~0.15848932,~0.17378008,~0.19054607,~0.20892961,~0.22908677,~0.25118864,~0.27542287,~0.30199517,~0.33113112,~0.36307805,~0.39810717,~0.43651583,~0.47863009,~0.52480746,~0.57543994,~0.63095734,~0.69183097,~0.75857758,~0.83176377,~0.91201084,~1,~1.0964782,~1.2022644,~1.3182567,~1.4454398,~1.5848932,~1.7378008,~1.9054607,~2.0892961,~2.2908677,~2.5118864,~2.7542287,~3.0199517,~3.3113112,~3.6307805,~3.9810717,~4.3651583,~4.7863009,~5.2480746,~5.7543994,~6.3095734,~6.9183097,~7.5857758,~8.3176377,~9.1201084,~10] \\; \\mathrm{AU}$"
      ],
      "text/plain": [
       "<Quantity [ 0.1       ,  0.10964782,  0.12022644,  0.13182567,  0.14454398,\n",
       "            0.15848932,  0.17378008,  0.19054607,  0.20892961,  0.22908677,\n",
       "            0.25118864,  0.27542287,  0.30199517,  0.33113112,  0.36307805,\n",
       "            0.39810717,  0.43651583,  0.47863009,  0.52480746,  0.57543994,\n",
       "            0.63095734,  0.69183097,  0.75857758,  0.83176377,  0.91201084,\n",
       "            1.        ,  1.0964782 ,  1.20226443,  1.31825674,  1.44543977,\n",
       "            1.58489319,  1.73780083,  1.90546072,  2.08929613,  2.29086765,\n",
       "            2.51188643,  2.7542287 ,  3.01995172,  3.31131121,  3.63078055,\n",
       "            3.98107171,  4.36515832,  4.78630092,  5.2480746 ,  5.75439937,\n",
       "            6.30957344,  6.91830971,  7.58577575,  8.31763771,  9.12010839,\n",
       "           10.        ] AU>"
      ]
     },
     "execution_count": 174,
     "metadata": {},
     "output_type": "execute_result"
    }
   ],
   "source": [
    "distances"
   ]
  },
  {
   "cell_type": "code",
   "execution_count": 173,
   "id": "ea52df07",
   "metadata": {},
   "outputs": [
    {
     "data": {
      "text/latex": [
       "$[7.5857758,~8.3176377,~9.1201084,~10] \\; \\mathrm{AU}$"
      ],
      "text/plain": [
       "<Quantity [ 7.58577575,  8.31763771,  9.12010839, 10.        ] AU>"
      ]
     },
     "execution_count": 173,
     "metadata": {},
     "output_type": "execute_result"
    }
   ],
   "source": [
    "np.unique(D.ravel()[np.isnan(lt)])"
   ]
  },
  {
   "cell_type": "code",
   "execution_count": 293,
   "id": "0a8f3693",
   "metadata": {
    "scrolled": false
   },
   "outputs": [
    {
     "name": "stdout",
     "output_type": "stream",
     "text": [
      "59812.97165056028\n",
      "ecl.obstime.mjd 59812.97165056028\n",
      "lt [0.00577594] 59812.97165056028 [249.4704038] deg\n",
      "00337FE 59812.97165056028\n",
      "59812.97165056028\n",
      "ecl.obstime.mjd 59812.97165056028\n",
      "lt [0.00057769 0.00063343 0.00069454 ... 0.048041   0.05267592 0.05775802] 59812.97165056028 [249.47039808 249.47050128 249.47043141 ... 249.47041829 249.47043188\n",
      " 249.47042361] deg\n",
      "CPU times: user 6.75 s, sys: 103 ms, total: 6.85 s\n",
      "Wall time: 6.84 s\n"
     ]
    }
   ],
   "source": [
    "%%time\n",
    "prob, joined_table = detection_probability.probability_from_id(hex_id, sorted_obs,\n",
    "                                                 np.logspace(-1, 1, 51) * u.AU,\n",
    "                                                 np.linspace(-50, 10, 21) * u.km / u.s,\n",
    "                                                 first_visit_times, full_schedule,\n",
    "                                                 night_lengths, night_list)"
   ]
  },
  {
   "cell_type": "code",
   "execution_count": 92,
   "id": "27479c1d",
   "metadata": {},
   "outputs": [
    {
     "name": "stdout",
     "output_type": "stream",
     "text": [
      "CPU times: user 231 ms, sys: 4.94 s, total: 5.17 s\n",
      "Wall time: 6.02 s\n"
     ]
    }
   ],
   "source": [
    "%%time\n",
    "reachable_schedule = detection_probability.get_reachable_schedule(sorted_obs.loc[hex_id], first_visit_times,\n",
    "                                                                  night_list, night_lengths, full_schedule)"
   ]
  },
  {
   "cell_type": "code",
   "execution_count": 93,
   "id": "f2f1564e",
   "metadata": {},
   "outputs": [
    {
     "name": "stdout",
     "output_type": "stream",
     "text": [
      "CPU times: user 1.33 s, sys: 10.6 s, total: 12 s\n",
      "Wall time: 14.4 s\n"
     ]
    }
   ],
   "source": [
    "%%time\n",
    "ephemerides, truth = detection_probability.first_last_pos_from_id(hex_id, sorted_obs, s3m_cart,\n",
    "                                                             np.logspace(-1, 1, 51) * u.AU,\n",
    "                                                             np.linspace(-50, 10, 21) * u.km / u.s,\n",
    "                                                             first_visit_times, last_visit_times)"
   ]
  },
  {
   "cell_type": "code",
   "execution_count": 94,
   "id": "2dde3053",
   "metadata": {
    "scrolled": false
   },
   "outputs": [
    {
     "data": {
      "application/vnd.jupyter.widget-view+json": {
       "model_id": "1ab8d719d58646b5844acde98ffb1466",
       "version_major": 2,
       "version_minor": 0
      },
      "text/plain": [
       "interactive(children=(IntSlider(value=10, continuous_update=False, description='night', max=24, min=10), Dropd…"
      ]
     },
     "metadata": {},
     "output_type": "display_data"
    },
    {
     "data": {
      "text/plain": [
       "<function detection_probability.plot_LSST_schedule_with_orbits(schedule, reachable_schedule, ephemerides, joined_table, truth, night, hex_id, colour_by='distance', lims='full_schedule', field_radius=2.1, s=10, filter_mask='all', show_mag_labels=False, fig=None, ax=None, show=True, ax_labels=True, cbar=True)>"
      ]
     },
     "execution_count": 94,
     "metadata": {},
     "output_type": "execute_result"
    }
   ],
   "source": [
    "reload(detection_probability)\n",
    "interact(detection_probability.plot_LSST_schedule_with_orbits,\n",
    "         schedule=fixed(full_schedule), reachable_schedule=fixed(reachable_schedule),\n",
    "         ephemerides=fixed(ephemerides), truth=fixed(truth), joined_table=fixed(joined_table),\n",
    "         night=widgets.IntSlider(min=10, max=24, step=1, value=10, continuous_update=False),\n",
    "         hex_id=fixed(hex_id),\n",
    "         colour_by=widgets.Dropdown(\n",
    "            value='distance',\n",
    "            options=['distance', 'orbit'],\n",
    "            description='Colour by:',\n",
    "            ensure_option=True,\n",
    "            disabled=False),\n",
    "         lims=widgets.Dropdown(\n",
    "            value='full_schedule',\n",
    "            options=['orbits', 'full_schedule', 'schedule', 'reachable'],\n",
    "            description='Axes limits:',\n",
    "            ensure_option=True,\n",
    "            disabled=False),\n",
    "         filter_mask=widgets.Dropdown(\n",
    "            value='all',\n",
    "            options=['all', 'u', 'g', 'r', 'i', 'z', 'y'],\n",
    "            description='Filter:',\n",
    "            ensure_option=True,\n",
    "            disabled=False),\n",
    "         field_radius=fixed(2.1),\n",
    "         s=widgets.IntSlider(min=1, max=25, step=1, value=15, continuous_update=False),\n",
    "         show_mag_labels=widgets.ToggleButton(\n",
    "            value=False,\n",
    "            description='Show mag lims',\n",
    "            disabled=False,\n",
    "            button_style='success', # 'success', 'info', 'warning', 'danger' or ''\n",
    "            tooltip='Whether to show limiting magnitudes for each field',\n",
    "            icon='check'),\n",
    "         fig=fixed(None), ax=fixed(None),show=fixed(True), cbar=fixed(True), ax_labels=fixed(True)\n",
    "        )"
   ]
  },
  {
   "cell_type": "markdown",
   "id": "b2b9a101",
   "metadata": {},
   "source": [
    "# Are particular orbits harder to predict (I guess yes)\n",
    "\n",
    "Update: I guessed wrong"
   ]
  },
  {
   "cell_type": "code",
   "execution_count": 93,
   "id": "bb8e85eb",
   "metadata": {},
   "outputs": [],
   "source": [
    "true_params = s3m_cart[np.isin(s3m_cart[\"hex_id\"], unique_objs)]"
   ]
  },
  {
   "cell_type": "code",
   "execution_count": 94,
   "id": "d97b1dde",
   "metadata": {},
   "outputs": [],
   "source": [
    "orbits_class = thor.Orbits(orbits=np.atleast_2d(np.concatenate(([true_params[\"x\"], true_params[\"y\"], true_params[\"z\"]],\n",
    "                                                                [true_params[\"vx\"], true_params[\"vy\"], true_params[\"vz\"]]))).T,\n",
    "                           epochs=Time(true_params[\"t_0\"], format=\"mjd\"))"
   ]
  },
  {
   "cell_type": "code",
   "execution_count": 95,
   "id": "e112054b",
   "metadata": {},
   "outputs": [
    {
     "data": {
      "text/plain": [
       "array([[1.63591956e+00, 4.24185921e-01, 4.57895783e+01, 3.43777755e+02,\n",
       "        6.49956977e+01, 1.54872825e+02],\n",
       "       [2.01117210e+00, 6.40305581e-01, 5.27938423e+01, 3.54874150e+02,\n",
       "        2.33728656e+01, 2.21513638e+02],\n",
       "       [1.46604986e+00, 5.28881346e-01, 2.65098657e+01, 2.50039142e+02,\n",
       "        1.11672186e+02, 1.78288579e+02],\n",
       "       ...,\n",
       "       [1.60510044e+00, 2.95866783e-01, 2.45988084e+01, 1.92490199e+02,\n",
       "        9.37351683e-01, 3.56766083e+02],\n",
       "       [1.98769282e+00, 7.00609554e-01, 2.62840510e+01, 3.43548340e+02,\n",
       "        8.28409374e+01, 3.58931646e+02],\n",
       "       [1.96717633e+00, 7.80163838e-01, 1.65028245e+01, 1.76927663e+02,\n",
       "        1.08970240e+02, 2.87917001e+02]])"
      ]
     },
     "execution_count": 95,
     "metadata": {},
     "output_type": "execute_result"
    }
   ],
   "source": [
    "orbits_class.keplerian"
   ]
  },
  {
   "cell_type": "code",
   "execution_count": 96,
   "id": "55c64ee2",
   "metadata": {},
   "outputs": [],
   "source": [
    "q = orbits_class.keplerian[:, 0] * (1 - orbits_class.keplerian[:, 1])"
   ]
  },
  {
   "cell_type": "code",
   "execution_count": 97,
   "id": "4138bcac",
   "metadata": {},
   "outputs": [
    {
     "ename": "NameError",
     "evalue": "name 'probs' is not defined",
     "output_type": "error",
     "traceback": [
      "\u001b[0;31m---------------------------------------------------------------------------\u001b[0m",
      "\u001b[0;31mNameError\u001b[0m                                 Traceback (most recent call last)",
      "Input \u001b[0;32mIn [97]\u001b[0m, in \u001b[0;36m<cell line: 1>\u001b[0;34m()\u001b[0m\n\u001b[0;32m----> 1\u001b[0m got_it_right \u001b[38;5;241m=\u001b[39m (\u001b[43mprobs\u001b[49m \u001b[38;5;241m>\u001b[39m \u001b[38;5;241m0.5\u001b[39m) \u001b[38;5;241m==\u001b[39m will_be_detected\n",
      "\u001b[0;31mNameError\u001b[0m: name 'probs' is not defined"
     ]
    }
   ],
   "source": [
    "got_it_right = (probs > 0.5) == will_be_detected"
   ]
  },
  {
   "cell_type": "code",
   "execution_count": 291,
   "id": "7211cd94",
   "metadata": {},
   "outputs": [],
   "source": [
    "colours = [\"tab:green\" if yup else \"tab:red\" for yup in got_it_right]"
   ]
  },
  {
   "cell_type": "code",
   "execution_count": 292,
   "id": "204e75aa",
   "metadata": {},
   "outputs": [
    {
     "data": {
      "text/html": [
       "<div>\n",
       "<style scoped>\n",
       "    .dataframe tbody tr th:only-of-type {\n",
       "        vertical-align: middle;\n",
       "    }\n",
       "\n",
       "    .dataframe tbody tr th {\n",
       "        vertical-align: top;\n",
       "    }\n",
       "\n",
       "    .dataframe thead th {\n",
       "        text-align: right;\n",
       "    }\n",
       "</style>\n",
       "<table border=\"1\" class=\"dataframe\">\n",
       "  <thead>\n",
       "    <tr style=\"text-align: right;\">\n",
       "      <th></th>\n",
       "      <th>id</th>\n",
       "      <th>x</th>\n",
       "      <th>y</th>\n",
       "      <th>z</th>\n",
       "      <th>vx</th>\n",
       "      <th>vy</th>\n",
       "      <th>vz</th>\n",
       "      <th>coords</th>\n",
       "      <th>t_0</th>\n",
       "      <th>time_type</th>\n",
       "      <th>H</th>\n",
       "      <th>g</th>\n",
       "      <th>hex_id</th>\n",
       "    </tr>\n",
       "  </thead>\n",
       "  <tbody>\n",
       "    <tr>\n",
       "      <th>S000002Ma</th>\n",
       "      <td>167.0</td>\n",
       "      <td>-1.667047</td>\n",
       "      <td>-0.858776</td>\n",
       "      <td>-1.326359</td>\n",
       "      <td>0.004811</td>\n",
       "      <td>-0.005856</td>\n",
       "      <td>-0.004398</td>\n",
       "      <td>1.0</td>\n",
       "      <td>54466.0</td>\n",
       "      <td>3.0</td>\n",
       "      <td>15.849</td>\n",
       "      <td>0.15</td>\n",
       "      <td>00000A7</td>\n",
       "    </tr>\n",
       "    <tr>\n",
       "      <th>S000005Aa</th>\n",
       "      <td>335.0</td>\n",
       "      <td>-2.670562</td>\n",
       "      <td>-0.879820</td>\n",
       "      <td>-1.468497</td>\n",
       "      <td>0.004954</td>\n",
       "      <td>-0.002611</td>\n",
       "      <td>-0.002842</td>\n",
       "      <td>1.0</td>\n",
       "      <td>54466.0</td>\n",
       "      <td>3.0</td>\n",
       "      <td>16.713</td>\n",
       "      <td>0.15</td>\n",
       "      <td>000014F</td>\n",
       "    </tr>\n",
       "    <tr>\n",
       "      <th>S000009Ea</th>\n",
       "      <td>579.0</td>\n",
       "      <td>-2.034149</td>\n",
       "      <td>-0.117710</td>\n",
       "      <td>-0.933631</td>\n",
       "      <td>-0.000217</td>\n",
       "      <td>-0.007789</td>\n",
       "      <td>0.001225</td>\n",
       "      <td>1.0</td>\n",
       "      <td>54466.0</td>\n",
       "      <td>3.0</td>\n",
       "      <td>17.390</td>\n",
       "      <td>0.15</td>\n",
       "      <td>0000243</td>\n",
       "    </tr>\n",
       "    <tr>\n",
       "      <th>S00000fua</th>\n",
       "      <td>932.0</td>\n",
       "      <td>-0.816946</td>\n",
       "      <td>3.114705</td>\n",
       "      <td>-0.379257</td>\n",
       "      <td>-0.006347</td>\n",
       "      <td>0.001696</td>\n",
       "      <td>-0.000940</td>\n",
       "      <td>1.0</td>\n",
       "      <td>54466.0</td>\n",
       "      <td>3.0</td>\n",
       "      <td>17.977</td>\n",
       "      <td>0.15</td>\n",
       "      <td>00003A4</td>\n",
       "    </tr>\n",
       "    <tr>\n",
       "      <th>S00000jsa</th>\n",
       "      <td>1175.0</td>\n",
       "      <td>-1.428541</td>\n",
       "      <td>-0.739073</td>\n",
       "      <td>-1.059737</td>\n",
       "      <td>0.010892</td>\n",
       "      <td>-0.002073</td>\n",
       "      <td>0.003008</td>\n",
       "      <td>1.0</td>\n",
       "      <td>54466.0</td>\n",
       "      <td>3.0</td>\n",
       "      <td>18.259</td>\n",
       "      <td>0.15</td>\n",
       "      <td>0000497</td>\n",
       "    </tr>\n",
       "    <tr>\n",
       "      <th>...</th>\n",
       "      <td>...</td>\n",
       "      <td>...</td>\n",
       "      <td>...</td>\n",
       "      <td>...</td>\n",
       "      <td>...</td>\n",
       "      <td>...</td>\n",
       "      <td>...</td>\n",
       "      <td>...</td>\n",
       "      <td>...</td>\n",
       "      <td>...</td>\n",
       "      <td>...</td>\n",
       "      <td>...</td>\n",
       "      <td>...</td>\n",
       "    </tr>\n",
       "    <tr>\n",
       "      <th>S00015ySa</th>\n",
       "      <td>252642.0</td>\n",
       "      <td>-1.241447</td>\n",
       "      <td>0.363831</td>\n",
       "      <td>-0.070625</td>\n",
       "      <td>-0.000347</td>\n",
       "      <td>-0.015706</td>\n",
       "      <td>-0.002807</td>\n",
       "      <td>1.0</td>\n",
       "      <td>54466.0</td>\n",
       "      <td>3.0</td>\n",
       "      <td>24.924</td>\n",
       "      <td>0.15</td>\n",
       "      <td>003DAE2</td>\n",
       "    </tr>\n",
       "    <tr>\n",
       "      <th>S00015RKa</th>\n",
       "      <td>253781.0</td>\n",
       "      <td>2.664565</td>\n",
       "      <td>-1.647325</td>\n",
       "      <td>0.364562</td>\n",
       "      <td>0.003198</td>\n",
       "      <td>0.006329</td>\n",
       "      <td>-0.000184</td>\n",
       "      <td>1.0</td>\n",
       "      <td>54466.0</td>\n",
       "      <td>3.0</td>\n",
       "      <td>24.930</td>\n",
       "      <td>0.15</td>\n",
       "      <td>003DF55</td>\n",
       "    </tr>\n",
       "    <tr>\n",
       "      <th>S00017xaa</th>\n",
       "      <td>260048.0</td>\n",
       "      <td>-1.120751</td>\n",
       "      <td>-0.151135</td>\n",
       "      <td>-0.043414</td>\n",
       "      <td>0.002398</td>\n",
       "      <td>-0.016566</td>\n",
       "      <td>0.007642</td>\n",
       "      <td>1.0</td>\n",
       "      <td>54466.0</td>\n",
       "      <td>3.0</td>\n",
       "      <td>24.960</td>\n",
       "      <td>0.15</td>\n",
       "      <td>003F7D0</td>\n",
       "    </tr>\n",
       "    <tr>\n",
       "      <th>S0001805a</th>\n",
       "      <td>261795.0</td>\n",
       "      <td>0.300718</td>\n",
       "      <td>0.449375</td>\n",
       "      <td>0.254915</td>\n",
       "      <td>-0.025643</td>\n",
       "      <td>0.013277</td>\n",
       "      <td>0.002702</td>\n",
       "      <td>1.0</td>\n",
       "      <td>54466.0</td>\n",
       "      <td>3.0</td>\n",
       "      <td>24.968</td>\n",
       "      <td>0.15</td>\n",
       "      <td>003FEA3</td>\n",
       "    </tr>\n",
       "    <tr>\n",
       "      <th>S000181Da</th>\n",
       "      <td>261887.0</td>\n",
       "      <td>-1.724512</td>\n",
       "      <td>1.836015</td>\n",
       "      <td>-0.515786</td>\n",
       "      <td>0.000161</td>\n",
       "      <td>-0.008563</td>\n",
       "      <td>0.002531</td>\n",
       "      <td>1.0</td>\n",
       "      <td>54466.0</td>\n",
       "      <td>3.0</td>\n",
       "      <td>24.969</td>\n",
       "      <td>0.15</td>\n",
       "      <td>003FEFF</td>\n",
       "    </tr>\n",
       "  </tbody>\n",
       "</table>\n",
       "<p>196 rows × 13 columns</p>\n",
       "</div>"
      ],
      "text/plain": [
       "                 id         x         y         z        vx        vy  \\\n",
       "S000002Ma     167.0 -1.667047 -0.858776 -1.326359  0.004811 -0.005856   \n",
       "S000005Aa     335.0 -2.670562 -0.879820 -1.468497  0.004954 -0.002611   \n",
       "S000009Ea     579.0 -2.034149 -0.117710 -0.933631 -0.000217 -0.007789   \n",
       "S00000fua     932.0 -0.816946  3.114705 -0.379257 -0.006347  0.001696   \n",
       "S00000jsa    1175.0 -1.428541 -0.739073 -1.059737  0.010892 -0.002073   \n",
       "...             ...       ...       ...       ...       ...       ...   \n",
       "S00015ySa  252642.0 -1.241447  0.363831 -0.070625 -0.000347 -0.015706   \n",
       "S00015RKa  253781.0  2.664565 -1.647325  0.364562  0.003198  0.006329   \n",
       "S00017xaa  260048.0 -1.120751 -0.151135 -0.043414  0.002398 -0.016566   \n",
       "S0001805a  261795.0  0.300718  0.449375  0.254915 -0.025643  0.013277   \n",
       "S000181Da  261887.0 -1.724512  1.836015 -0.515786  0.000161 -0.008563   \n",
       "\n",
       "                 vz  coords      t_0  time_type       H     g   hex_id  \n",
       "S000002Ma -0.004398     1.0  54466.0        3.0  15.849  0.15  00000A7  \n",
       "S000005Aa -0.002842     1.0  54466.0        3.0  16.713  0.15  000014F  \n",
       "S000009Ea  0.001225     1.0  54466.0        3.0  17.390  0.15  0000243  \n",
       "S00000fua -0.000940     1.0  54466.0        3.0  17.977  0.15  00003A4  \n",
       "S00000jsa  0.003008     1.0  54466.0        3.0  18.259  0.15  0000497  \n",
       "...             ...     ...      ...        ...     ...   ...      ...  \n",
       "S00015ySa -0.002807     1.0  54466.0        3.0  24.924  0.15  003DAE2  \n",
       "S00015RKa -0.000184     1.0  54466.0        3.0  24.930  0.15  003DF55  \n",
       "S00017xaa  0.007642     1.0  54466.0        3.0  24.960  0.15  003F7D0  \n",
       "S0001805a  0.002702     1.0  54466.0        3.0  24.968  0.15  003FEA3  \n",
       "S000181Da  0.002531     1.0  54466.0        3.0  24.969  0.15  003FEFF  \n",
       "\n",
       "[196 rows x 13 columns]"
      ]
     },
     "execution_count": 292,
     "metadata": {},
     "output_type": "execute_result"
    }
   ],
   "source": [
    "true_params"
   ]
  },
  {
   "cell_type": "code",
   "execution_count": 294,
   "id": "a53a5d52",
   "metadata": {},
   "outputs": [
    {
     "data": {
      "image/png": "[encoded data removed]",
      "text/plain": [
       "<Figure size 864x576 with 1 Axes>"
      ]
     },
     "metadata": {
      "image/png": {
       "height": 500,
       "width": 717
      },
      "needs_background": "light"
     },
     "output_type": "display_data"
    }
   ],
   "source": [
    "plt.hist(q[got_it_right], bins=np.linspace(0, 1.3, 10), density=True, cumulative=False, color=\"tab:green\")\n",
    "plt.hist(q[np.logical_not(got_it_right)], bins=np.linspace(0, 1.3, 10), density=True, cumulative=False, alpha=0.5, color=\"tab:red\")\n",
    "plt.xlabel(\"Perihelion\")\n",
    "plt.show()"
   ]
  },
  {
   "cell_type": "code",
   "execution_count": 78,
   "id": "da904df6",
   "metadata": {},
   "outputs": [],
   "source": [
    "sc = SkyCoord(x=true_params[\"x\"] * u.AU, y=true_params[\"y\"] * u.AU, z=true_params[\"z\"] * u.AU,\n",
    "         v_x=true_params[\"vx\"] * u.AU / u.day, v_y=true_params[\"vy\"] * u.AU / u.day, v_z=true_params[\"vz\"] * u.AU / u.day,\n",
    "         frame=\"heliocentriceclipticiau76\", representation_type=\"cartesian\")"
   ]
  },
  {
   "cell_type": "code",
   "execution_count": 80,
   "id": "3e9e07f7",
   "metadata": {},
   "outputs": [
    {
     "data": {
      "text/latex": [
       "[$-42^\\circ37{}^\\prime10.55174378{}^{\\prime\\prime}$\n",
       " $-32^\\circ17{}^\\prime29.29664674{}^{\\prime\\prime}$\n",
       " $-23^\\circ43{}^\\prime23.42894663{}^{\\prime\\prime}$\n",
       " $15^\\circ56{}^\\prime16.21301915{}^{\\prime\\prime}$\n",
       " $-40^\\circ58{}^\\prime40.04398134{}^{\\prime\\prime}$\n",
       " $37^\\circ51{}^\\prime30.07619548{}^{\\prime\\prime}$\n",
       " $-10^\\circ41{}^\\prime01.12890463{}^{\\prime\\prime}$\n",
       " $-29^\\circ50{}^\\prime38.42622128{}^{\\prime\\prime}$\n",
       " $0^\\circ30{}^\\prime58.75110867{}^{\\prime\\prime}$\n",
       " $-38^\\circ46{}^\\prime09.0030733{}^{\\prime\\prime}$\n",
       " $-3^\\circ30{}^\\prime30.88008785{}^{\\prime\\prime}$\n",
       " $3^\\circ49{}^\\prime17.05224604{}^{\\prime\\prime}$\n",
       " $-5^\\circ12{}^\\prime24.983897{}^{\\prime\\prime}$\n",
       " $-39^\\circ32{}^\\prime26.44769538{}^{\\prime\\prime}$\n",
       " $43^\\circ23{}^\\prime35.2229464{}^{\\prime\\prime}$\n",
       " $-9^\\circ45{}^\\prime25.94803745{}^{\\prime\\prime}$\n",
       " $-52^\\circ10{}^\\prime19.58170754{}^{\\prime\\prime}$\n",
       " $-58^\\circ55{}^\\prime35.9801284{}^{\\prime\\prime}$\n",
       " $-22^\\circ24{}^\\prime09.384484{}^{\\prime\\prime}$\n",
       " $-48^\\circ05{}^\\prime46.67843083{}^{\\prime\\prime}$\n",
       " $-28^\\circ06{}^\\prime23.21977946{}^{\\prime\\prime}$\n",
       " $29^\\circ19{}^\\prime13.84655027{}^{\\prime\\prime}$\n",
       " $22^\\circ13{}^\\prime09.22290787{}^{\\prime\\prime}$\n",
       " $2^\\circ27{}^\\prime34.55673801{}^{\\prime\\prime}$\n",
       " $-13^\\circ56{}^\\prime19.68084881{}^{\\prime\\prime}$\n",
       " $37^\\circ48{}^\\prime07.6450824{}^{\\prime\\prime}$\n",
       " $-7^\\circ27{}^\\prime28.99311596{}^{\\prime\\prime}$\n",
       " $-1^\\circ07{}^\\prime02.76131479{}^{\\prime\\prime}$\n",
       " $-41^\\circ57{}^\\prime10.97499971{}^{\\prime\\prime}$\n",
       " $-49^\\circ12{}^\\prime27.31810293{}^{\\prime\\prime}$\n",
       " $-54^\\circ07{}^\\prime00.81995736{}^{\\prime\\prime}$\n",
       " $3^\\circ32{}^\\prime37.31837209{}^{\\prime\\prime}$\n",
       " $-19^\\circ43{}^\\prime06.01719868{}^{\\prime\\prime}$\n",
       " $27^\\circ50{}^\\prime44.2720182{}^{\\prime\\prime}$\n",
       " $-27^\\circ21{}^\\prime56.35097616{}^{\\prime\\prime}$\n",
       " $19^\\circ40{}^\\prime02.31904422{}^{\\prime\\prime}$\n",
       " $21^\\circ01{}^\\prime24.84908318{}^{\\prime\\prime}$\n",
       " $11^\\circ27{}^\\prime02.6347591{}^{\\prime\\prime}$\n",
       " $-31^\\circ53{}^\\prime49.49362141{}^{\\prime\\prime}$\n",
       " $-13^\\circ22{}^\\prime56.20447665{}^{\\prime\\prime}$\n",
       " $20^\\circ25{}^\\prime26.86480112{}^{\\prime\\prime}$\n",
       " $-24^\\circ52{}^\\prime43.26441059{}^{\\prime\\prime}$\n",
       " $-4^\\circ31{}^\\prime34.74168233{}^{\\prime\\prime}$\n",
       " $32^\\circ18{}^\\prime01.6675567{}^{\\prime\\prime}$\n",
       " $-20^\\circ56{}^\\prime59.71425716{}^{\\prime\\prime}$\n",
       " $-23^\\circ20{}^\\prime19.86753689{}^{\\prime\\prime}$\n",
       " $18^\\circ29{}^\\prime26.05407151{}^{\\prime\\prime}$\n",
       " $18^\\circ51{}^\\prime01.12799507{}^{\\prime\\prime}$\n",
       " $15^\\circ21{}^\\prime35.43259317{}^{\\prime\\prime}$\n",
       " $20^\\circ18{}^\\prime44.90734723{}^{\\prime\\prime}$\n",
       " $-37^\\circ25{}^\\prime59.13728144{}^{\\prime\\prime}$\n",
       " $12^\\circ06{}^\\prime02.44412381{}^{\\prime\\prime}$\n",
       " $-13^\\circ54{}^\\prime21.326726{}^{\\prime\\prime}$\n",
       " $-13^\\circ27{}^\\prime52.77676333{}^{\\prime\\prime}$\n",
       " $-24^\\circ34{}^\\prime36.96816926{}^{\\prime\\prime}$\n",
       " $-14^\\circ54{}^\\prime42.78530066{}^{\\prime\\prime}$\n",
       " $-6^\\circ35{}^\\prime38.69852085{}^{\\prime\\prime}$\n",
       " $-38^\\circ46{}^\\prime32.79423022{}^{\\prime\\prime}$\n",
       " $-16^\\circ49{}^\\prime44.07947685{}^{\\prime\\prime}$\n",
       " $8^\\circ16{}^\\prime01.55341239{}^{\\prime\\prime}$\n",
       " $-24^\\circ24{}^\\prime58.84845103{}^{\\prime\\prime}$\n",
       " $-35^\\circ18{}^\\prime14.4935408{}^{\\prime\\prime}$\n",
       " $-34^\\circ19{}^\\prime12.83516057{}^{\\prime\\prime}$\n",
       " $7^\\circ49{}^\\prime56.70876249{}^{\\prime\\prime}$\n",
       " $-38^\\circ52{}^\\prime51.77982782{}^{\\prime\\prime}$\n",
       " $1^\\circ25{}^\\prime06.38964524{}^{\\prime\\prime}$\n",
       " $-11^\\circ51{}^\\prime31.38338955{}^{\\prime\\prime}$\n",
       " $11^\\circ28{}^\\prime48.4784979{}^{\\prime\\prime}$\n",
       " $10^\\circ51{}^\\prime20.97581573{}^{\\prime\\prime}$\n",
       " $-6^\\circ14{}^\\prime23.09412295{}^{\\prime\\prime}$\n",
       " $-10^\\circ04{}^\\prime44.90261661{}^{\\prime\\prime}$\n",
       " $-6^\\circ22{}^\\prime44.05076246{}^{\\prime\\prime}$\n",
       " $-7^\\circ30{}^\\prime26.21463477{}^{\\prime\\prime}$\n",
       " $23^\\circ56{}^\\prime29.00405451{}^{\\prime\\prime}$\n",
       " $29^\\circ02{}^\\prime52.70629077{}^{\\prime\\prime}$\n",
       " $38^\\circ50{}^\\prime35.0624092{}^{\\prime\\prime}$\n",
       " $-29^\\circ14{}^\\prime00.51449516{}^{\\prime\\prime}$\n",
       " $-1^\\circ07{}^\\prime42.85784531{}^{\\prime\\prime}$\n",
       " $-7^\\circ35{}^\\prime54.74514641{}^{\\prime\\prime}$\n",
       " $-14^\\circ21{}^\\prime45.41607729{}^{\\prime\\prime}$\n",
       " $-15^\\circ51{}^\\prime35.7408875{}^{\\prime\\prime}$\n",
       " $-9^\\circ39{}^\\prime19.5776136{}^{\\prime\\prime}$\n",
       " $-5^\\circ20{}^\\prime18.05060833{}^{\\prime\\prime}$\n",
       " $5^\\circ51{}^\\prime14.38386654{}^{\\prime\\prime}$\n",
       " $3^\\circ24{}^\\prime01.63366111{}^{\\prime\\prime}$\n",
       " $44^\\circ03{}^\\prime49.47305607{}^{\\prime\\prime}$\n",
       " $23^\\circ16{}^\\prime43.53939279{}^{\\prime\\prime}$\n",
       " $-3^\\circ25{}^\\prime30.98584165{}^{\\prime\\prime}$\n",
       " $5^\\circ52{}^\\prime38.88825081{}^{\\prime\\prime}$\n",
       " $-11^\\circ17{}^\\prime58.42819531{}^{\\prime\\prime}$\n",
       " $1^\\circ21{}^\\prime49.56457283{}^{\\prime\\prime}$\n",
       " $-7^\\circ22{}^\\prime59.35439311{}^{\\prime\\prime}$\n",
       " $6^\\circ25{}^\\prime38.57286258{}^{\\prime\\prime}$\n",
       " $5^\\circ59{}^\\prime58.61453128{}^{\\prime\\prime}$\n",
       " $-4^\\circ05{}^\\prime52.63390298{}^{\\prime\\prime}$\n",
       " $-21^\\circ29{}^\\prime02.22656669{}^{\\prime\\prime}$\n",
       " $-6^\\circ47{}^\\prime06.42757333{}^{\\prime\\prime}$\n",
       " $-16^\\circ46{}^\\prime40.39539552{}^{\\prime\\prime}$\n",
       " $49^\\circ29{}^\\prime46.34092171{}^{\\prime\\prime}$\n",
       " $-3^\\circ18{}^\\prime53.57623136{}^{\\prime\\prime}$\n",
       " $-35^\\circ19{}^\\prime14.02643319{}^{\\prime\\prime}$\n",
       " $-8^\\circ39{}^\\prime17.32180326{}^{\\prime\\prime}$\n",
       " $9^\\circ13{}^\\prime56.19215568{}^{\\prime\\prime}$\n",
       " $16^\\circ36{}^\\prime31.99184604{}^{\\prime\\prime}$\n",
       " $-29^\\circ21{}^\\prime59.28256157{}^{\\prime\\prime}$\n",
       " $-17^\\circ04{}^\\prime17.88578462{}^{\\prime\\prime}$\n",
       " $19^\\circ08{}^\\prime25.50602993{}^{\\prime\\prime}$\n",
       " $-63^\\circ43{}^\\prime38.65084082{}^{\\prime\\prime}$\n",
       " $-32^\\circ57{}^\\prime05.6502599{}^{\\prime\\prime}$\n",
       " $-0^\\circ26{}^\\prime40.02581728{}^{\\prime\\prime}$\n",
       " $25^\\circ37{}^\\prime40.74227759{}^{\\prime\\prime}$\n",
       " $-18^\\circ36{}^\\prime05.41747597{}^{\\prime\\prime}$\n",
       " $-15^\\circ34{}^\\prime56.46671572{}^{\\prime\\prime}$\n",
       " $-16^\\circ24{}^\\prime58.41952809{}^{\\prime\\prime}$\n",
       " $16^\\circ40{}^\\prime27.89280787{}^{\\prime\\prime}$\n",
       " $10^\\circ19{}^\\prime14.76559627{}^{\\prime\\prime}$\n",
       " $-19^\\circ32{}^\\prime26.41366884{}^{\\prime\\prime}$\n",
       " $-17^\\circ27{}^\\prime36.82678758{}^{\\prime\\prime}$\n",
       " $24^\\circ06{}^\\prime05.51000764{}^{\\prime\\prime}$\n",
       " $-33^\\circ53{}^\\prime57.45748556{}^{\\prime\\prime}$\n",
       " $-6^\\circ19{}^\\prime08.59387507{}^{\\prime\\prime}$\n",
       " $3^\\circ22{}^\\prime03.32536773{}^{\\prime\\prime}$\n",
       " $21^\\circ55{}^\\prime01.511251{}^{\\prime\\prime}$\n",
       " $0^\\circ56{}^\\prime57.78814153{}^{\\prime\\prime}$\n",
       " $-6^\\circ24{}^\\prime07.88708656{}^{\\prime\\prime}$\n",
       " $-11^\\circ34{}^\\prime25.83865374{}^{\\prime\\prime}$\n",
       " $45^\\circ54{}^\\prime35.41448974{}^{\\prime\\prime}$\n",
       " $0^\\circ35{}^\\prime16.15733653{}^{\\prime\\prime}$\n",
       " $-8^\\circ20{}^\\prime28.42602041{}^{\\prime\\prime}$\n",
       " $-5^\\circ48{}^\\prime30.60921704{}^{\\prime\\prime}$\n",
       " $-43^\\circ15{}^\\prime14.56445699{}^{\\prime\\prime}$\n",
       " $31^\\circ10{}^\\prime13.54295615{}^{\\prime\\prime}$\n",
       " $-34^\\circ00{}^\\prime53.23729127{}^{\\prime\\prime}$\n",
       " $7^\\circ43{}^\\prime05.65321858{}^{\\prime\\prime}$\n",
       " $-38^\\circ57{}^\\prime52.45970951{}^{\\prime\\prime}$\n",
       " $11^\\circ38{}^\\prime56.93087356{}^{\\prime\\prime}$\n",
       " $-11^\\circ32{}^\\prime11.39499492{}^{\\prime\\prime}$\n",
       " $-27^\\circ36{}^\\prime15.56754{}^{\\prime\\prime}$\n",
       " $-2^\\circ09{}^\\prime53.55681102{}^{\\prime\\prime}$\n",
       " $-2^\\circ35{}^\\prime49.57282981{}^{\\prime\\prime}$\n",
       " $-0^\\circ20{}^\\prime28.9223591{}^{\\prime\\prime}$\n",
       " $26^\\circ40{}^\\prime33.25669917{}^{\\prime\\prime}$\n",
       " $-7^\\circ41{}^\\prime43.26038283{}^{\\prime\\prime}$\n",
       " $42^\\circ32{}^\\prime50.42363765{}^{\\prime\\prime}$\n",
       " $1^\\circ18{}^\\prime24.29400329{}^{\\prime\\prime}$\n",
       " $21^\\circ37{}^\\prime02.41626853{}^{\\prime\\prime}$\n",
       " $0^\\circ25{}^\\prime56.55842393{}^{\\prime\\prime}$\n",
       " $-9^\\circ51{}^\\prime29.44127891{}^{\\prime\\prime}$\n",
       " $5^\\circ31{}^\\prime10.30397702{}^{\\prime\\prime}$\n",
       " $16^\\circ06{}^\\prime58.40226097{}^{\\prime\\prime}$\n",
       " $15^\\circ42{}^\\prime59.66860212{}^{\\prime\\prime}$\n",
       " $19^\\circ29{}^\\prime54.90709616{}^{\\prime\\prime}$\n",
       " $14^\\circ56{}^\\prime09.84640931{}^{\\prime\\prime}$\n",
       " $-8^\\circ17{}^\\prime32.68996066{}^{\\prime\\prime}$\n",
       " $0^\\circ02{}^\\prime05.22750549{}^{\\prime\\prime}$\n",
       " $-13^\\circ12{}^\\prime44.61183883{}^{\\prime\\prime}$\n",
       " $-7^\\circ50{}^\\prime05.62704524{}^{\\prime\\prime}$\n",
       " $-25^\\circ25{}^\\prime40.09714285{}^{\\prime\\prime}$\n",
       " $-20^\\circ26{}^\\prime58.12651916{}^{\\prime\\prime}$\n",
       " $-1^\\circ02{}^\\prime59.66582842{}^{\\prime\\prime}$\n",
       " $27^\\circ31{}^\\prime55.71831829{}^{\\prime\\prime}$\n",
       " $-12^\\circ38{}^\\prime30.78983619{}^{\\prime\\prime}$\n",
       " $7^\\circ41{}^\\prime43.69296218{}^{\\prime\\prime}$\n",
       " $-25^\\circ36{}^\\prime13.60837569{}^{\\prime\\prime}$\n",
       " $-41^\\circ42{}^\\prime02.69835276{}^{\\prime\\prime}$\n",
       " $-10^\\circ14{}^\\prime02.80112922{}^{\\prime\\prime}$\n",
       " $27^\\circ40{}^\\prime49.57685047{}^{\\prime\\prime}$\n",
       " $8^\\circ02{}^\\prime09.85462997{}^{\\prime\\prime}$\n",
       " $-0^\\circ09{}^\\prime31.09835845{}^{\\prime\\prime}$\n",
       " $-27^\\circ28{}^\\prime35.00286015{}^{\\prime\\prime}$\n",
       " $15^\\circ37{}^\\prime24.44330782{}^{\\prime\\prime}$\n",
       " $-8^\\circ29{}^\\prime43.57213479{}^{\\prime\\prime}$\n",
       " $-10^\\circ28{}^\\prime08.44950251{}^{\\prime\\prime}$\n",
       " $18^\\circ01{}^\\prime27.95165257{}^{\\prime\\prime}$\n",
       " $-30^\\circ04{}^\\prime33.47447217{}^{\\prime\\prime}$\n",
       " $23^\\circ09{}^\\prime03.50000355{}^{\\prime\\prime}$\n",
       " $0^\\circ29{}^\\prime58.03836205{}^{\\prime\\prime}$\n",
       " $-14^\\circ54{}^\\prime25.90330305{}^{\\prime\\prime}$\n",
       " $-24^\\circ58{}^\\prime22.24778193{}^{\\prime\\prime}$\n",
       " $16^\\circ16{}^\\prime36.11235104{}^{\\prime\\prime}$\n",
       " $13^\\circ19{}^\\prime22.39588735{}^{\\prime\\prime}$\n",
       " $-2^\\circ09{}^\\prime03.65886535{}^{\\prime\\prime}$\n",
       " $18^\\circ41{}^\\prime58.23112382{}^{\\prime\\prime}$\n",
       " $-20^\\circ00{}^\\prime00.13430215{}^{\\prime\\prime}$\n",
       " $-23^\\circ23{}^\\prime40.64941706{}^{\\prime\\prime}$\n",
       " $12^\\circ43{}^\\prime35.4698517{}^{\\prime\\prime}$\n",
       " $-48^\\circ22{}^\\prime55.72470379{}^{\\prime\\prime}$\n",
       " $-21^\\circ10{}^\\prime33.59582271{}^{\\prime\\prime}$\n",
       " $14^\\circ18{}^\\prime25.53438698{}^{\\prime\\prime}$\n",
       " $-28^\\circ06{}^\\prime22.22301917{}^{\\prime\\prime}$\n",
       " $2^\\circ38{}^\\prime24.05825476{}^{\\prime\\prime}$\n",
       " $3^\\circ28{}^\\prime47.06540384{}^{\\prime\\prime}$\n",
       " $-5^\\circ51{}^\\prime47.7412214{}^{\\prime\\prime}$\n",
       " $-5^\\circ04{}^\\prime48.65269596{}^{\\prime\\prime}$\n",
       " $44^\\circ02{}^\\prime37.75195972{}^{\\prime\\prime}$\n",
       " $5^\\circ42{}^\\prime43.13808683{}^{\\prime\\prime}$]"
      ],
      "text/plain": [
       "<Latitude [-4.26195977e+01, -3.22914713e+01, -2.37231747e+01,\n",
       "            1.59378369e+01, -4.09777900e+01,  3.78583545e+01,\n",
       "           -1.06836469e+01, -2.98440073e+01,  5.16319752e-01,\n",
       "           -3.87691675e+01, -3.50857780e+00,  3.82140340e+00,\n",
       "           -5.20693997e+00, -3.95406799e+01,  4.33931175e+01,\n",
       "           -9.75720779e+00, -5.21721060e+01, -5.89266611e+01,\n",
       "           -2.24026068e+01, -4.80962996e+01, -2.81064499e+01,\n",
       "            2.93205129e+01,  2.22192286e+01,  2.45959909e+00,\n",
       "           -1.39388002e+01,  3.78021236e+01, -7.45805364e+00,\n",
       "           -1.11743370e+00, -4.19530486e+01, -4.92075884e+01,\n",
       "           -5.41168944e+01,  3.54369955e+00, -1.97183381e+01,\n",
       "            2.78456311e+01, -2.73656530e+01,  1.96673108e+01,\n",
       "            2.10235692e+01,  1.14507319e+01, -3.18970816e+01,\n",
       "           -1.33822790e+01,  2.04241291e+01, -2.48786846e+01,\n",
       "           -4.52631713e+00,  3.23004632e+01, -2.09499206e+01,\n",
       "           -2.33388521e+01,  1.84905706e+01,  1.88503133e+01,\n",
       "            1.53598424e+01,  2.03124743e+01, -3.74330937e+01,\n",
       "            1.21006789e+01, -1.39059241e+01, -1.34646602e+01,\n",
       "           -2.45769356e+01, -1.49118848e+01, -6.59408292e+00,\n",
       "           -3.87757762e+01, -1.68289110e+01,  8.26709817e+00,\n",
       "           -2.44163468e+01, -3.53040260e+01, -3.43202320e+01,\n",
       "            7.83241910e+00, -3.88810500e+01,  1.41844157e+00,\n",
       "           -1.18587176e+01,  1.14801329e+01,  1.08558266e+01,\n",
       "           -6.23974837e+00, -1.00791396e+01, -6.37890299e+00,\n",
       "           -7.50728184e+00,  2.39413900e+01,  2.90479740e+01,\n",
       "            3.88430729e+01, -2.92334762e+01, -1.12857162e+00,\n",
       "           -7.59854032e+00, -1.43626156e+01, -1.58599280e+01,\n",
       "           -9.65543823e+00, -5.33834739e+00,  5.85399552e+00,\n",
       "            3.40045379e+00,  4.40637425e+01,  2.32787609e+01,\n",
       "           -3.42527384e+00,  5.87746896e+00, -1.12995634e+01,\n",
       "            1.36376794e+00, -7.38315400e+00,  6.42738135e+00,\n",
       "            5.99961515e+00, -4.09795386e+00, -2.14839518e+01,\n",
       "           -6.78511877e+00, -1.67778876e+01,  4.94962058e+01,\n",
       "           -3.31488229e+00, -3.53205629e+01, -8.65481161e+00,\n",
       "            9.23227560e+00,  1.66088866e+01, -2.93664674e+01,\n",
       "           -1.70716349e+01,  1.91404183e+01, -6.37274030e+01,\n",
       "           -3.29515695e+01, -4.44451616e-01,  2.56279840e+01,\n",
       "           -1.86015049e+01, -1.55823519e+01, -1.64162276e+01,\n",
       "            1.66744147e+01,  1.03207682e+01, -1.95406705e+01,\n",
       "           -1.74602297e+01,  2.41015306e+01, -3.38992937e+01,\n",
       "           -6.31905385e+00,  3.36759038e+00,  2.19170865e+01,\n",
       "            9.49385595e-01, -6.40219086e+00, -1.15738441e+01,\n",
       "            4.59098374e+01,  5.87821482e-01, -8.34122945e+00,\n",
       "           -5.80850256e+00, -4.32540457e+01,  3.11704286e+01,\n",
       "           -3.40147881e+01,  7.71823701e+00, -3.89645721e+01,\n",
       "            1.16491475e+01, -1.15364986e+01, -2.76043243e+01,\n",
       "           -2.16487689e+00, -2.59710356e+00, -3.41367322e-01,\n",
       "            2.66759046e+01, -7.69535011e+00,  4.25473399e+01,\n",
       "            1.30674833e+00,  2.16173379e+01,  4.32377340e-01,\n",
       "           -9.85817813e+00,  5.51952888e+00,  1.61162229e+01,\n",
       "            1.57165746e+01,  1.94985853e+01,  1.49360684e+01,\n",
       "           -8.29241388e+00,  3.47854182e-02, -1.32123922e+01,\n",
       "           -7.83489640e+00, -2.54278048e+01, -2.04494796e+01,\n",
       "           -1.04990717e+00,  2.75321440e+01, -1.26418861e+01,\n",
       "            7.69547027e+00, -2.56037801e+01, -4.17007495e+01,\n",
       "           -1.02341114e+01,  2.76804380e+01,  8.03607073e+00,\n",
       "           -1.58638433e-01, -2.74763897e+01,  1.56234565e+01,\n",
       "           -8.49543670e+00, -1.04690138e+01,  1.80244310e+01,\n",
       "           -3.00759651e+01,  2.31509722e+01,  4.99455101e-01,\n",
       "           -1.49071954e+01, -2.49728466e+01,  1.62766979e+01,\n",
       "            1.33228877e+01, -2.15101635e+00,  1.86995086e+01,\n",
       "           -2.00000373e+01, -2.33946248e+01,  1.27265194e+01,\n",
       "           -4.83821458e+01, -2.11759988e+01,  1.43070929e+01,\n",
       "           -2.81061731e+01,  2.64001618e+00,  3.47974039e+00,\n",
       "           -5.86326145e+00, -5.08018130e+00,  4.40438200e+01,\n",
       "            5.71198280e+00] deg>"
      ]
     },
     "execution_count": 80,
     "metadata": {},
     "output_type": "execute_result"
    }
   ],
   "source": [
    "sc.transform_to(\"icrs\").dec"
   ]
  },
  {
   "cell_type": "code",
   "execution_count": 300,
   "id": "eb413a3b",
   "metadata": {},
   "outputs": [
    {
     "data": {
      "text/plain": [
       "22.271"
      ]
     },
     "execution_count": 300,
     "metadata": {},
     "output_type": "execute_result"
    }
   ],
   "source": [
    "np.median(true_params[\"H\"][got_it_right])"
   ]
  },
  {
   "cell_type": "code",
   "execution_count": 298,
   "id": "75bea427",
   "metadata": {},
   "outputs": [
    {
     "data": {
      "text/plain": [
       "22.8455"
      ]
     },
     "execution_count": 298,
     "metadata": {},
     "output_type": "execute_result"
    }
   ],
   "source": [
    "np.median(true_params[\"H\"][~got_it_right])"
   ]
  },
  {
   "cell_type": "code",
   "execution_count": 301,
   "id": "ea70b3f9",
   "metadata": {},
   "outputs": [
    {
     "data": {
      "text/html": [
       "<div>\n",
       "<style scoped>\n",
       "    .dataframe tbody tr th:only-of-type {\n",
       "        vertical-align: middle;\n",
       "    }\n",
       "\n",
       "    .dataframe tbody tr th {\n",
       "        vertical-align: top;\n",
       "    }\n",
       "\n",
       "    .dataframe thead th {\n",
       "        text-align: right;\n",
       "    }\n",
       "</style>\n",
       "<table border=\"1\" class=\"dataframe\">\n",
       "  <thead>\n",
       "    <tr style=\"text-align: right;\">\n",
       "      <th></th>\n",
       "      <th>id</th>\n",
       "      <th>x</th>\n",
       "      <th>y</th>\n",
       "      <th>z</th>\n",
       "      <th>vx</th>\n",
       "      <th>vy</th>\n",
       "      <th>vz</th>\n",
       "      <th>coords</th>\n",
       "      <th>t_0</th>\n",
       "      <th>time_type</th>\n",
       "      <th>H</th>\n",
       "      <th>g</th>\n",
       "      <th>hex_id</th>\n",
       "    </tr>\n",
       "  </thead>\n",
       "  <tbody>\n",
       "    <tr>\n",
       "      <th>S000002Ma</th>\n",
       "      <td>167.0</td>\n",
       "      <td>-1.667047</td>\n",
       "      <td>-0.858776</td>\n",
       "      <td>-1.326359</td>\n",
       "      <td>0.004811</td>\n",
       "      <td>-0.005856</td>\n",
       "      <td>-0.004398</td>\n",
       "      <td>1.0</td>\n",
       "      <td>54466.0</td>\n",
       "      <td>3.0</td>\n",
       "      <td>15.849</td>\n",
       "      <td>0.15</td>\n",
       "      <td>00000A7</td>\n",
       "    </tr>\n",
       "    <tr>\n",
       "      <th>S000005Aa</th>\n",
       "      <td>335.0</td>\n",
       "      <td>-2.670562</td>\n",
       "      <td>-0.879820</td>\n",
       "      <td>-1.468497</td>\n",
       "      <td>0.004954</td>\n",
       "      <td>-0.002611</td>\n",
       "      <td>-0.002842</td>\n",
       "      <td>1.0</td>\n",
       "      <td>54466.0</td>\n",
       "      <td>3.0</td>\n",
       "      <td>16.713</td>\n",
       "      <td>0.15</td>\n",
       "      <td>000014F</td>\n",
       "    </tr>\n",
       "    <tr>\n",
       "      <th>S000009Ea</th>\n",
       "      <td>579.0</td>\n",
       "      <td>-2.034149</td>\n",
       "      <td>-0.117710</td>\n",
       "      <td>-0.933631</td>\n",
       "      <td>-0.000217</td>\n",
       "      <td>-0.007789</td>\n",
       "      <td>0.001225</td>\n",
       "      <td>1.0</td>\n",
       "      <td>54466.0</td>\n",
       "      <td>3.0</td>\n",
       "      <td>17.390</td>\n",
       "      <td>0.15</td>\n",
       "      <td>0000243</td>\n",
       "    </tr>\n",
       "    <tr>\n",
       "      <th>S00000fua</th>\n",
       "      <td>932.0</td>\n",
       "      <td>-0.816946</td>\n",
       "      <td>3.114705</td>\n",
       "      <td>-0.379257</td>\n",
       "      <td>-0.006347</td>\n",
       "      <td>0.001696</td>\n",
       "      <td>-0.000940</td>\n",
       "      <td>1.0</td>\n",
       "      <td>54466.0</td>\n",
       "      <td>3.0</td>\n",
       "      <td>17.977</td>\n",
       "      <td>0.15</td>\n",
       "      <td>00003A4</td>\n",
       "    </tr>\n",
       "    <tr>\n",
       "      <th>S00000jsa</th>\n",
       "      <td>1175.0</td>\n",
       "      <td>-1.428541</td>\n",
       "      <td>-0.739073</td>\n",
       "      <td>-1.059737</td>\n",
       "      <td>0.010892</td>\n",
       "      <td>-0.002073</td>\n",
       "      <td>0.003008</td>\n",
       "      <td>1.0</td>\n",
       "      <td>54466.0</td>\n",
       "      <td>3.0</td>\n",
       "      <td>18.259</td>\n",
       "      <td>0.15</td>\n",
       "      <td>0000497</td>\n",
       "    </tr>\n",
       "    <tr>\n",
       "      <th>...</th>\n",
       "      <td>...</td>\n",
       "      <td>...</td>\n",
       "      <td>...</td>\n",
       "      <td>...</td>\n",
       "      <td>...</td>\n",
       "      <td>...</td>\n",
       "      <td>...</td>\n",
       "      <td>...</td>\n",
       "      <td>...</td>\n",
       "      <td>...</td>\n",
       "      <td>...</td>\n",
       "      <td>...</td>\n",
       "      <td>...</td>\n",
       "    </tr>\n",
       "    <tr>\n",
       "      <th>S00015ySa</th>\n",
       "      <td>252642.0</td>\n",
       "      <td>-1.241447</td>\n",
       "      <td>0.363831</td>\n",
       "      <td>-0.070625</td>\n",
       "      <td>-0.000347</td>\n",
       "      <td>-0.015706</td>\n",
       "      <td>-0.002807</td>\n",
       "      <td>1.0</td>\n",
       "      <td>54466.0</td>\n",
       "      <td>3.0</td>\n",
       "      <td>24.924</td>\n",
       "      <td>0.15</td>\n",
       "      <td>003DAE2</td>\n",
       "    </tr>\n",
       "    <tr>\n",
       "      <th>S00015RKa</th>\n",
       "      <td>253781.0</td>\n",
       "      <td>2.664565</td>\n",
       "      <td>-1.647325</td>\n",
       "      <td>0.364562</td>\n",
       "      <td>0.003198</td>\n",
       "      <td>0.006329</td>\n",
       "      <td>-0.000184</td>\n",
       "      <td>1.0</td>\n",
       "      <td>54466.0</td>\n",
       "      <td>3.0</td>\n",
       "      <td>24.930</td>\n",
       "      <td>0.15</td>\n",
       "      <td>003DF55</td>\n",
       "    </tr>\n",
       "    <tr>\n",
       "      <th>S00017xaa</th>\n",
       "      <td>260048.0</td>\n",
       "      <td>-1.120751</td>\n",
       "      <td>-0.151135</td>\n",
       "      <td>-0.043414</td>\n",
       "      <td>0.002398</td>\n",
       "      <td>-0.016566</td>\n",
       "      <td>0.007642</td>\n",
       "      <td>1.0</td>\n",
       "      <td>54466.0</td>\n",
       "      <td>3.0</td>\n",
       "      <td>24.960</td>\n",
       "      <td>0.15</td>\n",
       "      <td>003F7D0</td>\n",
       "    </tr>\n",
       "    <tr>\n",
       "      <th>S0001805a</th>\n",
       "      <td>261795.0</td>\n",
       "      <td>0.300718</td>\n",
       "      <td>0.449375</td>\n",
       "      <td>0.254915</td>\n",
       "      <td>-0.025643</td>\n",
       "      <td>0.013277</td>\n",
       "      <td>0.002702</td>\n",
       "      <td>1.0</td>\n",
       "      <td>54466.0</td>\n",
       "      <td>3.0</td>\n",
       "      <td>24.968</td>\n",
       "      <td>0.15</td>\n",
       "      <td>003FEA3</td>\n",
       "    </tr>\n",
       "    <tr>\n",
       "      <th>S000181Da</th>\n",
       "      <td>261887.0</td>\n",
       "      <td>-1.724512</td>\n",
       "      <td>1.836015</td>\n",
       "      <td>-0.515786</td>\n",
       "      <td>0.000161</td>\n",
       "      <td>-0.008563</td>\n",
       "      <td>0.002531</td>\n",
       "      <td>1.0</td>\n",
       "      <td>54466.0</td>\n",
       "      <td>3.0</td>\n",
       "      <td>24.969</td>\n",
       "      <td>0.15</td>\n",
       "      <td>003FEFF</td>\n",
       "    </tr>\n",
       "  </tbody>\n",
       "</table>\n",
       "<p>196 rows × 13 columns</p>\n",
       "</div>"
      ],
      "text/plain": [
       "                 id         x         y         z        vx        vy  \\\n",
       "S000002Ma     167.0 -1.667047 -0.858776 -1.326359  0.004811 -0.005856   \n",
       "S000005Aa     335.0 -2.670562 -0.879820 -1.468497  0.004954 -0.002611   \n",
       "S000009Ea     579.0 -2.034149 -0.117710 -0.933631 -0.000217 -0.007789   \n",
       "S00000fua     932.0 -0.816946  3.114705 -0.379257 -0.006347  0.001696   \n",
       "S00000jsa    1175.0 -1.428541 -0.739073 -1.059737  0.010892 -0.002073   \n",
       "...             ...       ...       ...       ...       ...       ...   \n",
       "S00015ySa  252642.0 -1.241447  0.363831 -0.070625 -0.000347 -0.015706   \n",
       "S00015RKa  253781.0  2.664565 -1.647325  0.364562  0.003198  0.006329   \n",
       "S00017xaa  260048.0 -1.120751 -0.151135 -0.043414  0.002398 -0.016566   \n",
       "S0001805a  261795.0  0.300718  0.449375  0.254915 -0.025643  0.013277   \n",
       "S000181Da  261887.0 -1.724512  1.836015 -0.515786  0.000161 -0.008563   \n",
       "\n",
       "                 vz  coords      t_0  time_type       H     g   hex_id  \n",
       "S000002Ma -0.004398     1.0  54466.0        3.0  15.849  0.15  00000A7  \n",
       "S000005Aa -0.002842     1.0  54466.0        3.0  16.713  0.15  000014F  \n",
       "S000009Ea  0.001225     1.0  54466.0        3.0  17.390  0.15  0000243  \n",
       "S00000fua -0.000940     1.0  54466.0        3.0  17.977  0.15  00003A4  \n",
       "S00000jsa  0.003008     1.0  54466.0        3.0  18.259  0.15  0000497  \n",
       "...             ...     ...      ...        ...     ...   ...      ...  \n",
       "S00015ySa -0.002807     1.0  54466.0        3.0  24.924  0.15  003DAE2  \n",
       "S00015RKa -0.000184     1.0  54466.0        3.0  24.930  0.15  003DF55  \n",
       "S00017xaa  0.007642     1.0  54466.0        3.0  24.960  0.15  003F7D0  \n",
       "S0001805a  0.002702     1.0  54466.0        3.0  24.968  0.15  003FEA3  \n",
       "S000181Da  0.002531     1.0  54466.0        3.0  24.969  0.15  003FEFF  \n",
       "\n",
       "[196 rows x 13 columns]"
      ]
     },
     "execution_count": 301,
     "metadata": {},
     "output_type": "execute_result"
    }
   ],
   "source": [
    "true_params"
   ]
  },
  {
   "cell_type": "code",
   "execution_count": 295,
   "id": "ca54821d",
   "metadata": {},
   "outputs": [
    {
     "data": {
      "image/png": "[encoded data removed]",
      "text/plain": [
       "<Figure size 864x576 with 1 Axes>"
      ]
     },
     "metadata": {
      "image/png": {
       "height": 473,
       "width": 726
      },
      "needs_background": "light"
     },
     "output_type": "display_data"
    }
   ],
   "source": [
    "plt.hist(true_params[\"H\"][got_it_right], density=True, cumulative=False, bins=np.linspace(15.5, 26, 10), color=\"tab:green\")\n",
    "plt.hist(true_params[\"H\"][np.logical_not(got_it_right)], alpha=0.5, density=True, cumulative=False, bins=np.linspace(15.5, 26, 10), color=\"tab:red\")\n",
    "plt.show()"
   ]
  },
  {
   "cell_type": "code",
   "execution_count": 89,
   "id": "6963ac3b",
   "metadata": {},
   "outputs": [
    {
     "data": {
      "image/png": "[encoded data removed]",
      "text/plain": [
       "<Figure size 864x576 with 1 Axes>"
      ]
     },
     "metadata": {
      "image/png": {
       "height": 501,
       "width": 717
      },
      "needs_background": "light"
     },
     "output_type": "display_data"
    }
   ],
   "source": [
    "bins = np.linspace(min(sc.transform_to(\"icrs\").dec), max(sc.transform_to(\"icrs\").dec), 13)\n",
    "\n",
    "plt.hist(sc.transform_to(\"icrs\").dec[got_it_right], density=True, cumulative=True, bins=bins, color=\"tab:green\", label=\"Correct prediction\")\n",
    "plt.hist(sc.transform_to(\"icrs\").dec[np.logical_not(got_it_right)], alpha=0.5, density=True, cumulative=True, bins=bins, color=\"tab:red\", label=\"Incorrect prediction\")\n",
    "\n",
    "plt.legend(fontsize=0.7*fs)\n",
    "\n",
    "plt.xlabel(\"Declination [deg]\")\n",
    "\n",
    "plt.show()"
   ]
  },
  {
   "cell_type": "markdown",
   "id": "4ece4791",
   "metadata": {},
   "source": [
    "# Probability of each predicted detection based on orbit fraction"
   ]
  },
  {
   "cell_type": "code",
   "execution_count": 229,
   "id": "50684133",
   "metadata": {},
   "outputs": [
    {
     "name": "stdout",
     "output_type": "stream",
     "text": [
      "10\n",
      "mjd_utc\n",
      "59649.295709    100.0\n",
      "59649.296156    100.0\n",
      "59649.320180    100.0\n",
      "59649.320627    100.0\n",
      "Name: orbit_id, dtype: float64\n",
      "\n",
      "11\n",
      "mjd_utc\n",
      "59650.330174    100.000000\n",
      "59650.351728     99.543379\n",
      "Name: orbit_id, dtype: float64\n",
      "\n",
      "12\n",
      "mjd_utc\n",
      "59651.250333    1.065449\n",
      "59651.274791    0.913242\n",
      "Name: orbit_id, dtype: float64\n",
      "\n",
      "13\n",
      "mjd_utc\n",
      "59652.367719    77.625571\n",
      "59652.376183     0.456621\n",
      "59652.377078     6.392694\n",
      "59652.378861    36.834094\n",
      "59652.387323     0.608828\n",
      "59652.388219     6.392694\n",
      "Name: orbit_id, dtype: float64\n",
      "\n",
      "14\n",
      "mjd_utc\n",
      "59653.244888    1.065449\n",
      "59653.247818    3.500761\n",
      "59653.268607    1.065449\n",
      "59653.271480    3.348554\n",
      "Name: orbit_id, dtype: float64\n",
      "\n",
      "15\n",
      "mjd_utc\n",
      "59654.240757    8.980213\n",
      "59654.241222    3.500761\n",
      "59654.241678    0.608828\n",
      "59654.242138    1.369863\n",
      "59654.264676    9.132420\n",
      "59654.265141    3.500761\n",
      "59654.265598    0.608828\n",
      "59654.266058    1.522070\n",
      "Name: orbit_id, dtype: float64\n",
      "\n",
      "16\n",
      "mjd_utc\n",
      "59655.262812     1.674277\n",
      "59655.263260     2.435312\n",
      "59655.263715    26.940639\n",
      "59655.282985    25.722983\n",
      "59655.285342     3.044140\n",
      "59655.285793     1.674277\n",
      "59655.286239     2.435312\n",
      "59655.286693    23.592085\n",
      "Name: orbit_id, dtype: float64\n",
      "\n",
      "17\n",
      "mjd_utc\n",
      "59656.252213    26.331811\n",
      "59656.253642     8.828006\n",
      "59656.273381     8.828006\n",
      "59656.273828     4.109589\n",
      "59656.274276     3.652968\n",
      "59656.275171     1.978691\n",
      "59656.297830     8.980213\n",
      "59656.298277    17.351598\n",
      "59656.298727     4.261796\n",
      "59656.314402     9.132420\n",
      "59656.314848    22.526636\n",
      "59656.315298     4.109589\n",
      "Name: orbit_id, dtype: float64\n",
      "\n",
      "18\n",
      "Series([], Name: orbit_id, dtype: float64)\n",
      "\n",
      "19\n",
      "Series([], Name: orbit_id, dtype: float64)\n",
      "\n",
      "20\n",
      "Series([], Name: orbit_id, dtype: float64)\n",
      "\n",
      "21\n",
      "mjd_utc\n",
      "59660.244140    10.045662\n",
      "59660.247448     7.610350\n",
      "59660.249254     0.913242\n",
      "59660.249701     7.001522\n",
      "59660.250147    18.264840\n",
      "59660.250594    24.657534\n",
      "59660.251057     3.348554\n",
      "59660.251504     1.826484\n",
      "59660.268392     2.130898\n",
      "59660.271667     0.152207\n",
      "59660.273465     0.913242\n",
      "59660.273910     7.001522\n",
      "59660.274356    18.112633\n",
      "59660.274801    16.286149\n",
      "59660.275263     3.196347\n",
      "59660.275709     1.826484\n",
      "Name: orbit_id, dtype: float64\n",
      "\n",
      "22\n",
      "mjd_utc\n",
      "59661.226692    13.850837\n",
      "59661.248001    15.829528\n",
      "59661.251137    21.156773\n",
      "Name: orbit_id, dtype: float64\n",
      "\n",
      "23\n",
      "mjd_utc\n",
      "59662.194898    3.805175\n",
      "59662.219057    3.805175\n",
      "Name: orbit_id, dtype: float64\n",
      "\n",
      "24\n",
      "Series([], Name: orbit_id, dtype: float64)\n",
      "\n"
     ]
    }
   ],
   "source": [
    "for i in range(10, 25):\n",
    "    x = joined_table[joined_table[\"observed\"] & (joined_table[\"night\"] == i)]\n",
    "    print(i)\n",
    "    print(x.groupby(\"mjd_utc\").count()[\"orbit_id\"] / len(joined_table[\"orbit_id\"].unique()) * 100)\n",
    "    print()"
   ]
  },
  {
   "cell_type": "code",
   "execution_count": 205,
   "id": "af84bca2",
   "metadata": {},
   "outputs": [
    {
     "data": {
      "text/plain": [
       "array([ 0.15384615,  0.76923077, 36.        , 26.30769231,  8.30769231,\n",
       "       19.38461538, 10.15384615,  2.61538462,  0.15384615,  0.76923077,\n",
       "       36.30769231, 26.30769231,  8.30769231, 19.53846154, 10.30769231,\n",
       "        2.46153846,  0.15384615,  0.76923077, 36.        , 26.30769231,\n",
       "        8.        , 19.53846154, 10.46153846,  2.46153846,  0.15384615,\n",
       "        0.76923077, 35.84615385, 26.30769231,  8.        , 19.38461538,\n",
       "       10.76923077,  2.46153846,  0.76923077, 26.30769231,  8.        ,\n",
       "       19.23076923, 35.84615385,  0.15384615,  0.76923077, 26.15384615,\n",
       "        8.        , 19.38461538, 35.69230769,  0.15384615,  0.15384615,\n",
       "        0.76923077, 35.69230769, 26.15384615,  0.15384615,  1.69230769,\n",
       "       19.69230769, 10.61538462,  2.30769231,  0.15384615,  0.76923077,\n",
       "       35.53846154, 26.15384615,  0.15384615,  1.84615385, 19.38461538,\n",
       "       10.61538462,  2.30769231])"
      ]
     },
     "execution_count": 205,
     "metadata": {},
     "output_type": "execute_result"
    }
   ],
   "source": [
    "x = joined_table[joined_table[\"observed\"] & (joined_table[\"night\"] == 18)]\n",
    "x.groupby(\"mjd_utc\").count()[\"orbit_id\"].values / len(joined_table[\"orbit_id\"].unique()) * 100"
   ]
  },
  {
   "cell_type": "code",
   "execution_count": 304,
   "id": "de6f22e1",
   "metadata": {},
   "outputs": [],
   "source": [
    "obs_dfs = [pd.read_hdf(path + f\"filtered_visit_scores_{i:03d}.h5\").sort_values(\"FieldMJD\")\n",
    "               for i in range(24)]\n",
    "all_obs = pd.concat(obs_dfs)\n",
    "\n",
    "time_mask = all_obs[\"night\"] >= night_start\n",
    "all_obs = all_obs[time_mask]\n",
    "\n",
    "all_obs[\"obs_id\"] = np.arange(len(all_obs))\n",
    "all_obs.reset_index(inplace=True)"
   ]
  },
  {
   "cell_type": "code",
   "execution_count": 305,
   "id": "6ad6a44c",
   "metadata": {},
   "outputs": [
    {
     "data": {
      "text/html": [
       "<div>\n",
       "<style scoped>\n",
       "    .dataframe tbody tr th:only-of-type {\n",
       "        vertical-align: middle;\n",
       "    }\n",
       "\n",
       "    .dataframe tbody tr th {\n",
       "        vertical-align: top;\n",
       "    }\n",
       "\n",
       "    .dataframe thead th {\n",
       "        text-align: right;\n",
       "    }\n",
       "</style>\n",
       "<table border=\"1\" class=\"dataframe\">\n",
       "  <thead>\n",
       "    <tr style=\"text-align: right;\">\n",
       "      <th></th>\n",
       "      <th>hex_id</th>\n",
       "      <th>ObjID</th>\n",
       "      <th>night</th>\n",
       "      <th>FieldMJD</th>\n",
       "      <th>AstRA(deg)</th>\n",
       "      <th>AstDec(deg)</th>\n",
       "      <th>filter</th>\n",
       "      <th>MaginFilter</th>\n",
       "      <th>AstrometricSigma(mas)</th>\n",
       "      <th>PhotometricSigma(mag)</th>\n",
       "      <th>n_obs</th>\n",
       "      <th>scores</th>\n",
       "      <th>obs_id</th>\n",
       "    </tr>\n",
       "  </thead>\n",
       "  <tbody>\n",
       "    <tr>\n",
       "      <th>0</th>\n",
       "      <td>0002D81</td>\n",
       "      <td>S0000375a</td>\n",
       "      <td>10</td>\n",
       "      <td>59649.208350</td>\n",
       "      <td>158.519607</td>\n",
       "      <td>-21.678267</td>\n",
       "      <td>i</td>\n",
       "      <td>22.695297</td>\n",
       "      <td>28.561714</td>\n",
       "      <td>0.069045</td>\n",
       "      <td>2</td>\n",
       "      <td>99.0</td>\n",
       "      <td>0</td>\n",
       "    </tr>\n",
       "    <tr>\n",
       "      <th>1</th>\n",
       "      <td>000756F</td>\n",
       "      <td>S000082pa</td>\n",
       "      <td>10</td>\n",
       "      <td>59649.208350</td>\n",
       "      <td>159.243530</td>\n",
       "      <td>-22.482021</td>\n",
       "      <td>i</td>\n",
       "      <td>23.191904</td>\n",
       "      <td>49.406436</td>\n",
       "      <td>0.121825</td>\n",
       "      <td>2</td>\n",
       "      <td>100.0</td>\n",
       "      <td>1</td>\n",
       "    </tr>\n",
       "    <tr>\n",
       "      <th>2</th>\n",
       "      <td>000979F</td>\n",
       "      <td>S0000anGa</td>\n",
       "      <td>10</td>\n",
       "      <td>59649.208350</td>\n",
       "      <td>156.766833</td>\n",
       "      <td>-21.072815</td>\n",
       "      <td>i</td>\n",
       "      <td>20.379974</td>\n",
       "      <td>10.765338</td>\n",
       "      <td>0.010571</td>\n",
       "      <td>4</td>\n",
       "      <td>100.0</td>\n",
       "      <td>2</td>\n",
       "    </tr>\n",
       "    <tr>\n",
       "      <th>3</th>\n",
       "      <td>003321F</td>\n",
       "      <td>S0000U1aa</td>\n",
       "      <td>10</td>\n",
       "      <td>59649.208829</td>\n",
       "      <td>155.845105</td>\n",
       "      <td>-26.065509</td>\n",
       "      <td>i</td>\n",
       "      <td>22.082711</td>\n",
       "      <td>18.883869</td>\n",
       "      <td>0.041834</td>\n",
       "      <td>2</td>\n",
       "      <td>100.0</td>\n",
       "      <td>3</td>\n",
       "    </tr>\n",
       "    <tr>\n",
       "      <th>4</th>\n",
       "      <td>0007FE1</td>\n",
       "      <td>S00008Kza</td>\n",
       "      <td>10</td>\n",
       "      <td>59649.208829</td>\n",
       "      <td>157.776514</td>\n",
       "      <td>-24.367675</td>\n",
       "      <td>i</td>\n",
       "      <td>23.515696</td>\n",
       "      <td>61.119239</td>\n",
       "      <td>0.149723</td>\n",
       "      <td>2</td>\n",
       "      <td>100.0</td>\n",
       "      <td>4</td>\n",
       "    </tr>\n",
       "    <tr>\n",
       "      <th>...</th>\n",
       "      <td>...</td>\n",
       "      <td>...</td>\n",
       "      <td>...</td>\n",
       "      <td>...</td>\n",
       "      <td>...</td>\n",
       "      <td>...</td>\n",
       "      <td>...</td>\n",
       "      <td>...</td>\n",
       "      <td>...</td>\n",
       "      <td>...</td>\n",
       "      <td>...</td>\n",
       "      <td>...</td>\n",
       "      <td>...</td>\n",
       "    </tr>\n",
       "    <tr>\n",
       "      <th>236035</th>\n",
       "      <td>00003A1</td>\n",
       "      <td>S00000fqa</td>\n",
       "      <td>377</td>\n",
       "      <td>60016.383717</td>\n",
       "      <td>219.053646</td>\n",
       "      <td>10.663359</td>\n",
       "      <td>y</td>\n",
       "      <td>21.051834</td>\n",
       "      <td>47.484220</td>\n",
       "      <td>0.099880</td>\n",
       "      <td>2</td>\n",
       "      <td>51.0</td>\n",
       "      <td>236035</td>\n",
       "    </tr>\n",
       "    <tr>\n",
       "      <th>236036</th>\n",
       "      <td>0000207</td>\n",
       "      <td>S000008Da</td>\n",
       "      <td>377</td>\n",
       "      <td>60016.383717</td>\n",
       "      <td>217.021350</td>\n",
       "      <td>11.143723</td>\n",
       "      <td>y</td>\n",
       "      <td>21.567851</td>\n",
       "      <td>62.038809</td>\n",
       "      <td>0.129902</td>\n",
       "      <td>2</td>\n",
       "      <td>69.0</td>\n",
       "      <td>236036</td>\n",
       "    </tr>\n",
       "    <tr>\n",
       "      <th>236037</th>\n",
       "      <td>000162E</td>\n",
       "      <td>S00001w5a</td>\n",
       "      <td>377</td>\n",
       "      <td>60016.385062</td>\n",
       "      <td>224.087428</td>\n",
       "      <td>5.934778</td>\n",
       "      <td>y</td>\n",
       "      <td>21.077982</td>\n",
       "      <td>55.793997</td>\n",
       "      <td>0.108452</td>\n",
       "      <td>6</td>\n",
       "      <td>86.0</td>\n",
       "      <td>236037</td>\n",
       "    </tr>\n",
       "    <tr>\n",
       "      <th>236038</th>\n",
       "      <td>000EF87</td>\n",
       "      <td>S0000gp7a</td>\n",
       "      <td>377</td>\n",
       "      <td>60016.385986</td>\n",
       "      <td>227.535324</td>\n",
       "      <td>6.440746</td>\n",
       "      <td>y</td>\n",
       "      <td>21.362047</td>\n",
       "      <td>51.847973</td>\n",
       "      <td>0.111037</td>\n",
       "      <td>2</td>\n",
       "      <td>95.0</td>\n",
       "      <td>236038</td>\n",
       "    </tr>\n",
       "    <tr>\n",
       "      <th>236039</th>\n",
       "      <td>000162E</td>\n",
       "      <td>S00001w5a</td>\n",
       "      <td>377</td>\n",
       "      <td>60016.386431</td>\n",
       "      <td>224.087256</td>\n",
       "      <td>5.935009</td>\n",
       "      <td>y</td>\n",
       "      <td>21.219806</td>\n",
       "      <td>56.944001</td>\n",
       "      <td>0.109499</td>\n",
       "      <td>6</td>\n",
       "      <td>86.0</td>\n",
       "      <td>236039</td>\n",
       "    </tr>\n",
       "  </tbody>\n",
       "</table>\n",
       "<p>236040 rows × 13 columns</p>\n",
       "</div>"
      ],
      "text/plain": [
       "         hex_id      ObjID  night      FieldMJD  AstRA(deg)  AstDec(deg)  \\\n",
       "0       0002D81  S0000375a     10  59649.208350  158.519607   -21.678267   \n",
       "1       000756F  S000082pa     10  59649.208350  159.243530   -22.482021   \n",
       "2       000979F  S0000anGa     10  59649.208350  156.766833   -21.072815   \n",
       "3       003321F  S0000U1aa     10  59649.208829  155.845105   -26.065509   \n",
       "4       0007FE1  S00008Kza     10  59649.208829  157.776514   -24.367675   \n",
       "...         ...        ...    ...           ...         ...          ...   \n",
       "236035  00003A1  S00000fqa    377  60016.383717  219.053646    10.663359   \n",
       "236036  0000207  S000008Da    377  60016.383717  217.021350    11.143723   \n",
       "236037  000162E  S00001w5a    377  60016.385062  224.087428     5.934778   \n",
       "236038  000EF87  S0000gp7a    377  60016.385986  227.535324     6.440746   \n",
       "236039  000162E  S00001w5a    377  60016.386431  224.087256     5.935009   \n",
       "\n",
       "       filter  MaginFilter  AstrometricSigma(mas)  PhotometricSigma(mag)  \\\n",
       "0           i    22.695297              28.561714               0.069045   \n",
       "1           i    23.191904              49.406436               0.121825   \n",
       "2           i    20.379974              10.765338               0.010571   \n",
       "3           i    22.082711              18.883869               0.041834   \n",
       "4           i    23.515696              61.119239               0.149723   \n",
       "...       ...          ...                    ...                    ...   \n",
       "236035      y    21.051834              47.484220               0.099880   \n",
       "236036      y    21.567851              62.038809               0.129902   \n",
       "236037      y    21.077982              55.793997               0.108452   \n",
       "236038      y    21.362047              51.847973               0.111037   \n",
       "236039      y    21.219806              56.944001               0.109499   \n",
       "\n",
       "        n_obs  scores  obs_id  \n",
       "0           2    99.0       0  \n",
       "1           2   100.0       1  \n",
       "2           4   100.0       2  \n",
       "3           2   100.0       3  \n",
       "4           2   100.0       4  \n",
       "...       ...     ...     ...  \n",
       "236035      2    51.0  236035  \n",
       "236036      2    69.0  236036  \n",
       "236037      6    86.0  236037  \n",
       "236038      2    95.0  236038  \n",
       "236039      6    86.0  236039  \n",
       "\n",
       "[236040 rows x 13 columns]"
      ]
     },
     "execution_count": 305,
     "metadata": {},
     "output_type": "execute_result"
    }
   ],
   "source": [
    "all_obs"
   ]
  }
 ],
 "metadata": {
  "kernelspec": {
   "display_name": "NEOCP",
   "language": "python",
   "name": "neocp"
  },
  "language_info": {
   "codemirror_mode": {
    "name": "ipython",
    "version": 3
   },
   "file_extension": ".py",
   "mimetype": "text/x-python",
   "name": "python",
   "nbconvert_exporter": "python",
   "pygments_lexer": "ipython3",
   "version": "3.9.12"
  }
 },
 "nbformat": 4,
 "nbformat_minor": 5
}
