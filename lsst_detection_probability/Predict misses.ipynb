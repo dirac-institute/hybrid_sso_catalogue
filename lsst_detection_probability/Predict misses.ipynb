{
 "cells": [
  {
   "cell_type": "code",
   "execution_count": 1,
   "id": "6106029a",
   "metadata": {},
   "outputs": [
    {
     "data": {
      "text/html": [
       "<style>.container { width:100% !important; }</style>"
      ],
      "text/plain": [
       "<IPython.core.display.HTML object>"
      ]
     },
     "metadata": {},
     "output_type": "display_data"
    }
   ],
   "source": [
    "from IPython.display import display, HTML\n",
    "display(HTML(\"<style>.container { width:100% !important; }</style>\"))"
   ]
  },
  {
   "cell_type": "code",
   "execution_count": 2,
   "id": "353a44e3",
   "metadata": {},
   "outputs": [],
   "source": [
    "import astropy.units as u\n",
    "from astropy.time import Time\n",
    "from astropy.coordinates import SkyCoord\n",
    "import pandas as pd\n",
    "import numpy as np"
   ]
  },
  {
   "cell_type": "code",
   "execution_count": 3,
   "id": "8ab9b566",
   "metadata": {},
   "outputs": [],
   "source": [
    "from ipywidgets import interact, fixed\n",
    "import ipywidgets as widgets"
   ]
  },
  {
   "cell_type": "code",
   "execution_count": 4,
   "id": "b12fad68",
   "metadata": {},
   "outputs": [],
   "source": [
    "import matplotlib.pyplot as plt"
   ]
  },
  {
   "cell_type": "code",
   "execution_count": 54,
   "id": "79040677",
   "metadata": {},
   "outputs": [
    {
     "data": {
      "text/plain": [
       "<module 'magnitudes' from '/data/epyc/projects/hybrid-sso-catalogs/lsst_detection_probability/magnitudes.py'>"
      ]
     },
     "execution_count": 54,
     "metadata": {},
     "output_type": "execute_result"
    }
   ],
   "source": [
    "import variant_orbits\n",
    "import scheduling\n",
    "import detection_probability\n",
    "import magnitudes\n",
    "from importlib import reload\n",
    "reload(scheduling)\n",
    "reload(variant_orbits)\n",
    "reload(detection_probability)\n",
    "reload(magnitudes)"
   ]
  },
  {
   "cell_type": "code",
   "execution_count": 6,
   "id": "cb5a02d0",
   "metadata": {},
   "outputs": [],
   "source": [
    "plt.rc('font', family='serif')\n",
    "plt.rcParams['text.usetex'] = False\n",
    "fs = 24\n",
    "\n",
    "# update various fontsizes to match\n",
    "params = {'figure.figsize': (12, 8),\n",
    "          'legend.fontsize': fs,\n",
    "          'axes.labelsize': fs,\n",
    "          'xtick.labelsize': 0.6 * fs,\n",
    "          'ytick.labelsize': 0.6 * fs,\n",
    "          'axes.linewidth': 1.1,\n",
    "          'xtick.major.size': 7,\n",
    "          'xtick.minor.size': 4,\n",
    "          'ytick.major.size': 7,\n",
    "          'ytick.minor.size': 4}\n",
    "plt.rcParams.update(params)\n",
    "\n",
    "%config InlineBackend.figure_format = 'retina'"
   ]
  },
  {
   "cell_type": "code",
   "execution_count": 55,
   "id": "91242d1b",
   "metadata": {},
   "outputs": [],
   "source": [
    "night_start = 0\n",
    "path = \"../neocp/neo/\"\n",
    "detection_window = 15\n",
    "min_nights = 3\n",
    "schedule_type = \"actual\"\n",
    "\n",
    "# create a list of nights in the detection window and get schedule for them\n",
    "night_list = list(range(night_start, night_start + detection_window))\n",
    "\n",
    "if schedule_type == \"predicted\":\n",
    "    full_schedule = scheduling.get_LSST_schedule(night=night_start, schedule_type=schedule_type)\n",
    "else:\n",
    "    full_schedule = scheduling.get_LSST_schedule(night=(night_start, night_start + detection_window - 1),\n",
    "                                                 schedule_type=schedule_type)\n",
    "\n",
    "# offset the schedule by one row and re-merge to get the previous night column\n",
    "shifted = full_schedule.shift()\n",
    "full_schedule[\"previousNight\"] = shifted[\"night\"]\n",
    "\n",
    "# calculate the length of each night in days\n",
    "night_lengths = np.zeros(detection_window)\n",
    "for i, night in enumerate(night_list):\n",
    "    mask = full_schedule[\"night\"] == night\n",
    "\n",
    "    # ignore nights that have no observations (bad weather/downtime)\n",
    "    if not full_schedule[mask].empty:\n",
    "        night_lengths[i] = full_schedule[mask].iloc[-1][\"observationStartMJD\"]\\\n",
    "            - full_schedule[mask].iloc[0][\"observationStartMJD\"]\n",
    "\n",
    "# get the first/last visit from each night\n",
    "night_transition = full_schedule[\"night\"] != full_schedule[\"previousNight\"]\n",
    "first_visit_times = full_schedule[night_transition][\"observationStartMJD\"].values\n",
    "\n",
    "last_times_ind = np.array(list(full_schedule[night_transition].index[1:]) + [len(full_schedule)]) - 1\n",
    "last_visit_times = full_schedule.loc[last_times_ind][\"observationStartMJD\"].values\n",
    "\n",
    "file = 0\n",
    "visit_file = pd.read_hdf(path + f\"filtered_visit_scores_{file:03d}.h5\")\n",
    "\n",
    "# get the objects from the night\n",
    "obs_mask = np.logical_and(visit_file[\"night\"] == night_start, visit_file[\"scores\"] >= 65)\n",
    "sorted_obs = visit_file[obs_mask].sort_values([\"ObjID\", \"FieldMJD\"])\n",
    "unique_objs = sorted_obs.index.unique()"
   ]
  },
  {
   "cell_type": "markdown",
   "id": "488cf077",
   "metadata": {},
   "source": [
    "# Main run"
   ]
  },
  {
   "cell_type": "code",
   "execution_count": null,
   "id": "1be5b701",
   "metadata": {
    "scrolled": false
   },
   "outputs": [
    {
     "name": "stdout",
     "output_type": "stream",
     "text": [
      "Everything is prepped and ready for probability calculations\n",
      "0/155: 30.67, 00000EE, 0.747\n",
      "1/155: 20.73, 00000CC, 0.000\n",
      "2/155: 27.09, 0000240, 0.327\n",
      "3/155: 30.46, 0000243, 0.734\n",
      "4/155: 29.01, 000022D, 0.340\n",
      "5/155: 31.34, 00008A3, 0.712\n",
      "6/155: 19.96, 000095E, 0.000\n",
      "7/155: 36.48, 0000966, 0.104\n",
      "8/155: 33.84, 00009E5, 0.788\n",
      "9/155: 35.01, 0000AE6, 0.811\n",
      "10/155: 26.37, 0000AE9, 0.542\n",
      "11/155: 27.37, 0000AFE, 0.460\n",
      "12/155: 27.57, 0000C78, 0.211\n",
      "13/155: 22.85, 0000D5E, 0.000\n",
      "14/155: 30.60, 0000DBE, 0.694\n",
      "15/155: 24.86, 0000E6C, 0.178\n",
      "16/155: 23.54, 000031A, 0.030\n",
      "17/155: 21.40, 000050F, 0.000\n",
      "18/155: 19.23, 0000686, 0.000\n",
      "19/155: 25.08, 000075D, 0.467\n",
      "20/155: 28.05, 0000791, 0.000\n",
      "21/155: 20.80, 0001796, 0.000\n",
      "22/155: 29.27, 0001855, 0.538\n",
      "23/155: 22.22, 00018A1, 0.000\n",
      "24/155: 27.55, 0001914, 0.240\n",
      "25/155: 28.24, 0001C31, 0.577\n",
      "26/155: 26.89, 000121A, 0.568\n",
      "27/155: 18.76, 0001270, 0.068\n",
      "28/155: 27.66, 00012DC, 0.654\n",
      "29/155: 35.27, 00013AB, 0.597\n",
      "30/155: 30.06, 00013B3, 0.588\n",
      "31/155: 26.13, 00014B6, 0.617\n",
      "36/155: 35.64, 0001F6F, 0.560\n",
      "37/155: 27.26, 0002604, 0.549\n",
      "38/155: 28.11, 000267A, 0.476\n",
      "39/155: 21.10, 0002774, 0.383\n",
      "40/155: 25.57, 0002844, 0.130\n",
      "41/155: 26.67, 000286D, 0.000\n",
      "42/155: 41.65, 000296A, 0.525\n",
      "43/155: 33.58, 00029AE, 0.039\n",
      "44/155: 27.86, 0001F98, 0.010\n",
      "45/155: 27.10, 0002069, 0.000\n",
      "46/155: 33.33, 00022F2, 0.607\n",
      "47/155: 24.23, 00035AA, 0.394\n",
      "48/155: 41.30, 0003427, 0.118\n",
      "49/155: 27.87, 000435B, 0.000\n",
      "50/155: 28.68, 00043CB, 0.134\n",
      "51/155: 29.96, 00044F6, 0.608\n",
      "52/155: 28.37, 00045CB, 0.173\n",
      "53/155: 23.07, 000465A, 0.086\n",
      "54/155: 29.95, 0004767, 0.202\n",
      "55/155: 29.70, 00047D5, 0.373\n",
      "56/155: 22.27, 000488B, 0.000\n",
      "57/155: 32.54, 00048D9, 0.587\n",
      "58/155: 24.02, 0003E54, 0.000\n",
      "59/155: 17.74, 0003F78, 0.000\n",
      "60/155: 26.25, 0003FDB, 0.000\n",
      "61/155: 35.36, 00040EB, 0.492\n",
      "62/155: 18.48, 00042A7, 0.000\n",
      "63/155: 27.14, 00049DD, 0.670\n",
      "64/155: 25.21, 0004A0F, 0.398\n",
      "65/155: 23.83, 000565A, 0.126\n",
      "66/155: 19.71, 0004BC2, 0.000\n",
      "67/155: 23.18, 0004D33, 0.305\n",
      "68/155: 32.14, 0004DC5, 0.000\n",
      "69/155: 29.09, 0004DFF, 0.336\n",
      "70/155: 30.61, 0004F11, 0.441\n",
      "71/155: 23.11, 00050B8, 0.136\n",
      "72/155: 26.30, 0005147, 0.088\n",
      "73/155: 29.96, 0005165, 0.249\n",
      "74/155: 25.45, 000605E, 0.228\n",
      "75/155: 24.63, 000607F, 0.098\n",
      "76/155: 26.91, 000630C, 0.075\n",
      "77/155: 27.55, 00063AD, 0.218\n",
      "78/155: 31.06, 0005DD6, 0.655\n",
      "79/155: 27.81, 0007028, 0.347\n",
      "80/155: 24.49, 0007165, 0.000\n",
      "81/155: 32.04, 0007274, 0.261\n",
      "82/155: 32.58, 0007302, 0.410\n",
      "83/155: 31.38, 0007526, 0.423\n",
      "84/155: 30.96, 0007594, 0.391\n",
      "85/155: 28.61, 00075BF, 0.069\n",
      "86/155: 33.19, 00080A1, 0.157\n",
      "87/155: 27.63, 0008280, 0.001\n",
      "88/155: 30.66, 00079BC, 0.000\n",
      "89/155: 36.31, 0007C4C, 0.638\n",
      "90/155: 34.39, 00083EC, 0.266\n",
      "91/155: 34.18, 00090F0, 0.241\n"
     ]
    }
   ],
   "source": [
    "%%time\n",
    "probs, unique_objs = detection_probability.get_detection_probabilities(night_start=0, schedule_type=\"actual\")"
   ]
  },
  {
   "cell_type": "code",
   "execution_count": 24,
   "id": "c4edecb0",
   "metadata": {},
   "outputs": [],
   "source": [
    "np.save(\"probs_night0_actual_schedule.npy\", probs)"
   ]
  },
  {
   "cell_type": "code",
   "execution_count": 11,
   "id": "cb5b5d5d",
   "metadata": {},
   "outputs": [],
   "source": [
    "findable_ids = np.load(\"neo_findable_first_10_25.npy\", allow_pickle=True)\n",
    "will_be_detected = np.isin(unique_objs, findable_ids)"
   ]
  },
  {
   "cell_type": "code",
   "execution_count": 12,
   "id": "3e53e69a",
   "metadata": {},
   "outputs": [
    {
     "name": "stdout",
     "output_type": "stream",
     "text": [
      "Of the 196 objects, we classified\n",
      "  152 correctly\n",
      "    65 were detectable\n",
      "    87 were undetectable\n",
      "  44 incorrectly\n",
      "    18 were detectable\n",
      "    26 were undetectable\n"
     ]
    }
   ],
   "source": [
    "threshold = 0.5\n",
    "correct_detectable = len(probs[np.logical_and(probs >= threshold, will_be_detected)])\n",
    "correct_undetectable = len(probs[np.logical_and(probs < threshold, np.logical_not(will_be_detected))])\n",
    "incorrect_detectable = len(probs[np.logical_and(probs >= threshold, np.logical_not(will_be_detected))])\n",
    "incorrect_undetectable = len(probs[np.logical_and(probs < threshold, will_be_detected)])\n",
    "\n",
    "\n",
    "print(f\"Of the {len(probs)} objects, we classified\")\n",
    "print(f\"  {correct_detectable + correct_undetectable} correctly\")\n",
    "print(f\"    {correct_detectable} were detectable\")\n",
    "print(f\"    {correct_undetectable} were undetectable\")\n",
    "print(f\"  {incorrect_detectable + incorrect_undetectable} incorrectly\")\n",
    "print(f\"    {incorrect_detectable} were detectable\")\n",
    "print(f\"    {incorrect_undetectable} were undetectable\")"
   ]
  },
  {
   "cell_type": "code",
   "execution_count": 13,
   "id": "902ce84e",
   "metadata": {},
   "outputs": [
    {
     "data": {
      "image/png": "[encoded data removed]",
      "text/plain": [
       "<Figure size 1296x432 with 2 Axes>"
      ]
     },
     "metadata": {
      "image/png": {
       "height": 421,
       "width": 1073
      },
      "needs_background": "light"
     },
     "output_type": "display_data"
    }
   ],
   "source": [
    "fig, axes = plt.subplots(1, 2, figsize=(18, 6), gridspec_kw={'width_ratios': [1, 2]})\n",
    "\n",
    "axes[0].set_title(f\"Night {night_start} NEOs\", fontsize=1.1*fs)\n",
    "\n",
    "axes[0].axvline(0.5, color=\"white\", linestyle=\"dotted\")\n",
    "axes[0].axhline(0.5, color=\"white\", linestyle=\"dotted\")\n",
    "\n",
    "axes[0].annotate(\"Detectable\", xy=(0.25, -0.02), xycoords=\"axes fraction\", ha=\"center\", va=\"top\", fontsize=0.7*fs)\n",
    "axes[0].annotate(\"Undetectable\", xy=(0.75, -0.02), xycoords=\"axes fraction\", ha=\"center\", va=\"top\", fontsize=0.7*fs)\n",
    "\n",
    "axes[0].annotate(\"Undetectable\", xy=(-0.02, 0.25), xycoords=\"axes fraction\", ha=\"right\", va=\"center\", fontsize=0.7*fs, rotation=90)\n",
    "axes[0].annotate(\"Detectable\", xy=(-0.02, 0.75), xycoords=\"axes fraction\", ha=\"right\", va=\"center\", fontsize=0.7*fs, rotation=90)\n",
    "\n",
    "axes[0].annotate(incorrect_undetectable, xy=(0.25, 0.25), ha=\"center\", va=\"center\", fontsize=1.5*fs)\n",
    "axes[0].annotate(\"Excess NEOCP\", xy=(0.25, 0.15), ha=\"center\", va=\"center\", fontsize=0.6*fs)\n",
    "axes[0].annotate(correct_undetectable, xy=(0.75, 0.25), ha=\"center\", va=\"center\", fontsize=1.5*fs)\n",
    "axes[0].annotate(incorrect_detectable, xy=(0.75, 0.75), ha=\"center\", va=\"center\", fontsize=1.5*fs)\n",
    "axes[0].annotate(\"Lost objects\", xy=(0.75, 0.65), ha=\"center\", va=\"center\", fontsize=0.6*fs)\n",
    "axes[0].annotate(correct_detectable, xy=(0.25, 0.75), ha=\"center\", va=\"center\", fontsize=1.5*fs)\n",
    "\n",
    "axes[0].axvspan(0, 0.5, 0, 0.5, color=plt.cm.Reds(incorrect_undetectable / len(probs)))\n",
    "axes[0].axvspan(0.5, 1, 0, 0.5, color=plt.cm.Greens(correct_undetectable / len(probs)))\n",
    "axes[0].axvspan(0, 0.5, 0.5, 1, color=plt.cm.Greens(correct_detectable / len(probs)))\n",
    "axes[0].axvspan(0.5, 1, 0.5, 1, color=plt.cm.Reds(incorrect_detectable / len(probs)))\n",
    "\n",
    "axes[0].set_xlabel(\"\\nTruth\")\n",
    "axes[0].set_ylabel(\"Prediction\\n\")\n",
    "\n",
    "axes[0].set_xticks([])\n",
    "axes[0].set_yticks([])\n",
    "\n",
    "axes[0].set_xlim(0, 1)\n",
    "axes[0].set_ylim(0, 1)\n",
    "\n",
    "bins = np.linspace(0, 1, 18)\n",
    "axes[1].hist(probs[will_be_detected], label=\"Detected\", bins=bins)\n",
    "axes[1].hist(probs[np.logical_not(will_be_detected)], alpha=0.6, label=\"Not be detected\", bins=bins)\n",
    "axes[1].axvline(threshold, color=\"tab:red\", linestyle=\"--\", lw=3)\n",
    "\n",
    "axes[1].set_xlabel(\"Probability of detection\")\n",
    "axes[1].legend(fontsize=0.7*fs)\n",
    "\n",
    "plt.show()"
   ]
  },
  {
   "cell_type": "markdown",
   "id": "e9051f4a",
   "metadata": {},
   "source": [
    "### okay let's investigate some wrong ones"
   ]
  },
  {
   "cell_type": "code",
   "execution_count": 23,
   "id": "c1a6bcc9",
   "metadata": {},
   "outputs": [
    {
     "data": {
      "text/plain": [
       "Index(['0006587', '0035981', '000F110'], dtype='object', name='hex_id')"
      ]
     },
     "execution_count": 23,
     "metadata": {},
     "output_type": "execute_result"
    }
   ],
   "source": [
    "unique_objs[np.logical_and(probs < 0.3, will_be_detected)]"
   ]
  },
  {
   "cell_type": "code",
   "execution_count": 223,
   "id": "d780c066",
   "metadata": {},
   "outputs": [
    {
     "data": {
      "text/plain": [
       "Index(['00000A7', '000296A', '0029679', '000D5F1'], dtype='object', name='hex_id')"
      ]
     },
     "execution_count": 223,
     "metadata": {},
     "output_type": "execute_result"
    }
   ],
   "source": [
    "unique_objs[np.logical_and(probs >= 0.65, np.logical_not(will_be_detected))]"
   ]
  },
  {
   "cell_type": "code",
   "execution_count": 217,
   "id": "08d6eac0",
   "metadata": {},
   "outputs": [],
   "source": [
    "visit_file = pd.read_hdf(path + f\"filtered_visit_scores_{file:03d}.h5\")"
   ]
  },
  {
   "cell_type": "code",
   "execution_count": 221,
   "id": "4318a9d7",
   "metadata": {},
   "outputs": [
    {
     "data": {
      "text/html": [
       "<div>\n",
       "<style scoped>\n",
       "    .dataframe tbody tr th:only-of-type {\n",
       "        vertical-align: middle;\n",
       "    }\n",
       "\n",
       "    .dataframe tbody tr th {\n",
       "        vertical-align: top;\n",
       "    }\n",
       "\n",
       "    .dataframe thead th {\n",
       "        text-align: right;\n",
       "    }\n",
       "</style>\n",
       "<table border=\"1\" class=\"dataframe\">\n",
       "  <thead>\n",
       "    <tr style=\"text-align: right;\">\n",
       "      <th></th>\n",
       "      <th>ObjID</th>\n",
       "      <th>night</th>\n",
       "      <th>FieldMJD</th>\n",
       "      <th>AstRA(deg)</th>\n",
       "      <th>AstDec(deg)</th>\n",
       "      <th>filter</th>\n",
       "      <th>MaginFilter</th>\n",
       "      <th>AstrometricSigma(mas)</th>\n",
       "      <th>PhotometricSigma(mag)</th>\n",
       "      <th>n_obs</th>\n",
       "      <th>scores</th>\n",
       "    </tr>\n",
       "    <tr>\n",
       "      <th>hex_id</th>\n",
       "      <th></th>\n",
       "      <th></th>\n",
       "      <th></th>\n",
       "      <th></th>\n",
       "      <th></th>\n",
       "      <th></th>\n",
       "      <th></th>\n",
       "      <th></th>\n",
       "      <th></th>\n",
       "      <th></th>\n",
       "      <th></th>\n",
       "    </tr>\n",
       "  </thead>\n",
       "  <tbody>\n",
       "    <tr>\n",
       "      <th>0029679</th>\n",
       "      <td>S0000Jmga</td>\n",
       "      <td>10</td>\n",
       "      <td>59649.313389</td>\n",
       "      <td>173.261612</td>\n",
       "      <td>-44.821613</td>\n",
       "      <td>i</td>\n",
       "      <td>22.641466</td>\n",
       "      <td>22.005904</td>\n",
       "      <td>0.061383</td>\n",
       "      <td>3</td>\n",
       "      <td>100</td>\n",
       "    </tr>\n",
       "    <tr>\n",
       "      <th>0029679</th>\n",
       "      <td>S0000Jmga</td>\n",
       "      <td>10</td>\n",
       "      <td>59649.337293</td>\n",
       "      <td>173.240954</td>\n",
       "      <td>-44.873352</td>\n",
       "      <td>r</td>\n",
       "      <td>22.830508</td>\n",
       "      <td>18.745213</td>\n",
       "      <td>0.047774</td>\n",
       "      <td>3</td>\n",
       "      <td>100</td>\n",
       "    </tr>\n",
       "    <tr>\n",
       "      <th>0029679</th>\n",
       "      <td>S0000Jmga</td>\n",
       "      <td>10</td>\n",
       "      <td>59649.359496</td>\n",
       "      <td>173.221895</td>\n",
       "      <td>-44.921449</td>\n",
       "      <td>r</td>\n",
       "      <td>22.793511</td>\n",
       "      <td>24.205098</td>\n",
       "      <td>0.057604</td>\n",
       "      <td>3</td>\n",
       "      <td>100</td>\n",
       "    </tr>\n",
       "  </tbody>\n",
       "</table>\n",
       "</div>"
      ],
      "text/plain": [
       "             ObjID  night      FieldMJD  AstRA(deg)  AstDec(deg) filter  \\\n",
       "hex_id                                                                    \n",
       "0029679  S0000Jmga     10  59649.313389  173.261612   -44.821613      i   \n",
       "0029679  S0000Jmga     10  59649.337293  173.240954   -44.873352      r   \n",
       "0029679  S0000Jmga     10  59649.359496  173.221895   -44.921449      r   \n",
       "\n",
       "         MaginFilter  AstrometricSigma(mas)  PhotometricSigma(mag)  n_obs  \\\n",
       "hex_id                                                                      \n",
       "0029679    22.641466              22.005904               0.061383      3   \n",
       "0029679    22.830508              18.745213               0.047774      3   \n",
       "0029679    22.793511              24.205098               0.057604      3   \n",
       "\n",
       "         scores  \n",
       "hex_id           \n",
       "0029679     100  \n",
       "0029679     100  \n",
       "0029679     100  "
      ]
     },
     "execution_count": 221,
     "metadata": {},
     "output_type": "execute_result"
    }
   ],
   "source": [
    "visit_file.loc[hex_id]"
   ]
  },
  {
   "cell_type": "code",
   "execution_count": 44,
   "id": "5e94f722",
   "metadata": {},
   "outputs": [
    {
     "data": {
      "text/plain": [
       "<module 'magnitudes' from '/data/epyc/projects/hybrid-sso-catalogs/lsst_detection_probability/magnitudes.py'>"
      ]
     },
     "execution_count": 44,
     "metadata": {},
     "output_type": "execute_result"
    }
   ],
   "source": [
    "import variant_orbits\n",
    "import scheduling\n",
    "import detection_probability\n",
    "import magnitudes\n",
    "from importlib import reload\n",
    "reload(scheduling)\n",
    "reload(variant_orbits)\n",
    "reload(detection_probability)\n",
    "reload(magnitudes)"
   ]
  },
  {
   "cell_type": "code",
   "execution_count": 50,
   "id": "ea3a7487",
   "metadata": {},
   "outputs": [],
   "source": [
    "s3m_cart = pd.read_hdf(\"../catalogues/s3m_cart.h5\")\n",
    "s3m_cart[\"hex_id\"] = np.array(['{:07X}'.format(num) for num in np.arange(len(s3m_cart.index.values))])"
   ]
  },
  {
   "cell_type": "code",
   "execution_count": 41,
   "id": "0c391176",
   "metadata": {},
   "outputs": [],
   "source": [
    "hex_id = \"0003F78\""
   ]
  },
  {
   "cell_type": "code",
   "execution_count": 45,
   "id": "0257e38e",
   "metadata": {
    "scrolled": true
   },
   "outputs": [
    {
     "name": "stdout",
     "output_type": "stream",
     "text": [
      "CPU times: user 692 ms, sys: 5.06 s, total: 5.76 s\n",
      "Wall time: 7.61 s\n"
     ]
    }
   ],
   "source": [
    "%%time\n",
    "prob, joined_table = detection_probability.probability_from_id(hex_id, sorted_obs,\n",
    "                                                 np.logspace(-1, 1, 51) * u.AU,\n",
    "                                                 np.linspace(-100, 100, 21) * u.km / u.s,\n",
    "                                                 first_visit_times, full_schedule,\n",
    "                                                 night_lengths, night_list)"
   ]
  },
  {
   "cell_type": "code",
   "execution_count": 30,
   "id": "d987f7bb",
   "metadata": {},
   "outputs": [],
   "source": [
    "def filter_tracklets(df, min_obs=2, min_arc=1, max_time=90):\n",
    "    init = SkyCoord(ra=df[\"RA_deg\"].iloc[0], dec=df[\"Dec_deg\"].iloc[0], unit=\"deg\")\n",
    "    final = SkyCoord(ra=df[\"RA_deg\"].iloc[-1], dec=df[\"Dec_deg\"].iloc[-1], unit=\"deg\")\n",
    "\n",
    "    return np.logical_and.reduce((len(df) >= min_obs,\n",
    "                                  init.separation(final).to(u.arcsecond).value > min_arc,\n",
    "                                  df[\"mjd_utc\"].diff().min() * 1440 < max_time))"
   ]
  },
  {
   "cell_type": "code",
   "execution_count": 33,
   "id": "9f8264d6",
   "metadata": {},
   "outputs": [],
   "source": [
    "df = joined_table[np.logical_and(joined_table[\"observed\"], np.logical_not(joined_table[\"observed\"]))]"
   ]
  },
  {
   "cell_type": "code",
   "execution_count": 48,
   "id": "e09dac4c",
   "metadata": {},
   "outputs": [
    {
     "name": "stdout",
     "output_type": "stream",
     "text": [
      "CPU times: user 190 ms, sys: 2.45 s, total: 2.64 s\n",
      "Wall time: 2.97 s\n"
     ]
    }
   ],
   "source": [
    "%%time\n",
    "reachable_schedule = detection_probability.get_reachable_schedule(sorted_obs.loc[hex_id], first_visit_times,\n",
    "                                                                  night_list, night_lengths, full_schedule)"
   ]
  },
  {
   "cell_type": "code",
   "execution_count": 51,
   "id": "f2f1564e",
   "metadata": {},
   "outputs": [
    {
     "name": "stdout",
     "output_type": "stream",
     "text": [
      "CPU times: user 1.31 s, sys: 10.9 s, total: 12.2 s\n",
      "Wall time: 14.6 s\n"
     ]
    }
   ],
   "source": [
    "%%time\n",
    "ephemerides, truth = detection_probability.first_last_pos_from_id(hex_id, sorted_obs, s3m_cart,\n",
    "                                                             np.logspace(-1, 1, 51) * u.AU,\n",
    "                                                             np.linspace(-100, 100, 21) * u.km / u.s,\n",
    "                                                             first_visit_times, last_visit_times)"
   ]
  },
  {
   "cell_type": "code",
   "execution_count": 53,
   "id": "2dde3053",
   "metadata": {
    "scrolled": false
   },
   "outputs": [
    {
     "data": {
      "application/vnd.jupyter.widget-view+json": {
       "model_id": "62ea2ba04d394741891cc231172e749c",
       "version_major": 2,
       "version_minor": 0
      },
      "text/plain": [
       "interactive(children=(IntSlider(value=0, continuous_update=False, description='night', max=14), Dropdown(descr…"
      ]
     },
     "metadata": {},
     "output_type": "display_data"
    },
    {
     "data": {
      "text/plain": [
       "<function detection_probability.plot_LSST_schedule_with_orbits(schedule, reachable_schedule, ephemerides, joined_table, truth, night, hex_id, colour_by='distance', lims='full_schedule', field_radius=2.1, s=10, filter_mask='all', show_mag_labels=False, fig=None, ax=None, show=True, ax_labels=True, cbar=True)>"
      ]
     },
     "execution_count": 53,
     "metadata": {},
     "output_type": "execute_result"
    }
   ],
   "source": [
    "reload(detection_probability)\n",
    "interact(detection_probability.plot_LSST_schedule_with_orbits,\n",
    "         schedule=fixed(full_schedule), reachable_schedule=fixed(reachable_schedule),\n",
    "         ephemerides=fixed(ephemerides), truth=fixed(truth), joined_table=fixed(joined_table),\n",
    "         night=widgets.IntSlider(min=0, max=14, step=1, value=0, continuous_update=False),\n",
    "         hex_id=fixed(hex_id),\n",
    "         colour_by=widgets.Dropdown(\n",
    "            value='distance',\n",
    "            options=['distance', 'orbit'],\n",
    "            description='Colour by:',\n",
    "            ensure_option=True,\n",
    "            disabled=False),\n",
    "         lims=widgets.Dropdown(\n",
    "            value='full_schedule',\n",
    "            options=['orbits', 'full_schedule', 'schedule', 'reachable'],\n",
    "            description='Axes limits:',\n",
    "            ensure_option=True,\n",
    "            disabled=False),\n",
    "         filter_mask=widgets.Dropdown(\n",
    "            value='all',\n",
    "            options=['all', 'u', 'g', 'r', 'i', 'z', 'y'],\n",
    "            description='Filter:',\n",
    "            ensure_option=True,\n",
    "            disabled=False),\n",
    "         field_radius=fixed(2.1),\n",
    "         s=widgets.IntSlider(min=1, max=25, step=1, value=15, continuous_update=False),\n",
    "         show_mag_labels=widgets.ToggleButton(\n",
    "            value=False,\n",
    "            description='Show mag lims',\n",
    "            disabled=False,\n",
    "            button_style='success', # 'success', 'info', 'warning', 'danger' or ''\n",
    "            tooltip='Whether to show limiting magnitudes for each field',\n",
    "            icon='check'),\n",
    "         fig=fixed(None), ax=fixed(None),show=fixed(True), cbar=fixed(True), ax_labels=fixed(True)\n",
    "        )"
   ]
  },
  {
   "cell_type": "markdown",
   "id": "c8bfb1b9",
   "metadata": {},
   "source": [
    "# Are particular orbits harder to predict (I guess yes)\n",
    "\n",
    "Update: I guessed wrong"
   ]
  },
  {
   "cell_type": "code",
   "execution_count": 69,
   "id": "0811a9ca",
   "metadata": {},
   "outputs": [],
   "source": [
    "import thor"
   ]
  },
  {
   "cell_type": "code",
   "execution_count": null,
   "id": "1c2b12b2",
   "metadata": {},
   "outputs": [],
   "source": [
    "true_params = s3m_cart[np.isin(s3m_cart[\"hex_id\"], unique_objs)]"
   ]
  },
  {
   "cell_type": "code",
   "execution_count": 103,
   "id": "eb974d1d",
   "metadata": {},
   "outputs": [],
   "source": [
    "orbits_class = thor.Orbits(orbits=np.atleast_2d(np.concatenate(([true_params[\"x\"], true_params[\"y\"], true_params[\"z\"]],\n",
    "                                                                [true_params[\"vx\"], true_params[\"vy\"], true_params[\"vz\"]]))).T,\n",
    "                           epochs=Time(true_params[\"t_0\"], format=\"mjd\"))"
   ]
  },
  {
   "cell_type": "code",
   "execution_count": 83,
   "id": "d2b47ae0",
   "metadata": {},
   "outputs": [],
   "source": [
    "orbits_class.keplerian = thor.kepler.convertOrbitalElements(orbits_class.cartesian,\n",
    "                                                            \"cartesian\", \"keplerian\")"
   ]
  },
  {
   "cell_type": "code",
   "execution_count": 91,
   "id": "3be14f82",
   "metadata": {},
   "outputs": [],
   "source": [
    "q = orbits_class.keplerian[:, 0] * (1 - orbits_class.keplerian[:, 1])"
   ]
  },
  {
   "cell_type": "code",
   "execution_count": 79,
   "id": "c168e27f",
   "metadata": {},
   "outputs": [],
   "source": [
    "got_it_right = (probs > 0.5) == will_be_detected"
   ]
  },
  {
   "cell_type": "code",
   "execution_count": 88,
   "id": "c6292560",
   "metadata": {},
   "outputs": [],
   "source": [
    "colours = [\"tab:green\" if yup else \"tab:red\" for yup in got_it_right]"
   ]
  },
  {
   "cell_type": "code",
   "execution_count": 102,
   "id": "8036c938",
   "metadata": {},
   "outputs": [
    {
     "data": {
      "text/html": [
       "<div>\n",
       "<style scoped>\n",
       "    .dataframe tbody tr th:only-of-type {\n",
       "        vertical-align: middle;\n",
       "    }\n",
       "\n",
       "    .dataframe tbody tr th {\n",
       "        vertical-align: top;\n",
       "    }\n",
       "\n",
       "    .dataframe thead th {\n",
       "        text-align: right;\n",
       "    }\n",
       "</style>\n",
       "<table border=\"1\" class=\"dataframe\">\n",
       "  <thead>\n",
       "    <tr style=\"text-align: right;\">\n",
       "      <th></th>\n",
       "      <th>id</th>\n",
       "      <th>x</th>\n",
       "      <th>y</th>\n",
       "      <th>z</th>\n",
       "      <th>vx</th>\n",
       "      <th>vy</th>\n",
       "      <th>vz</th>\n",
       "      <th>coords</th>\n",
       "      <th>t_0</th>\n",
       "      <th>time_type</th>\n",
       "      <th>H</th>\n",
       "      <th>g</th>\n",
       "      <th>hex_id</th>\n",
       "    </tr>\n",
       "  </thead>\n",
       "  <tbody>\n",
       "    <tr>\n",
       "      <th>S000002Ma</th>\n",
       "      <td>167.0</td>\n",
       "      <td>-1.667047</td>\n",
       "      <td>-0.858776</td>\n",
       "      <td>-1.326359</td>\n",
       "      <td>0.004811</td>\n",
       "      <td>-0.005856</td>\n",
       "      <td>-0.004398</td>\n",
       "      <td>1.0</td>\n",
       "      <td>54466.0</td>\n",
       "      <td>3.0</td>\n",
       "      <td>15.849</td>\n",
       "      <td>0.15</td>\n",
       "      <td>00000A7</td>\n",
       "    </tr>\n",
       "    <tr>\n",
       "      <th>S000005Aa</th>\n",
       "      <td>335.0</td>\n",
       "      <td>-2.670562</td>\n",
       "      <td>-0.879820</td>\n",
       "      <td>-1.468497</td>\n",
       "      <td>0.004954</td>\n",
       "      <td>-0.002611</td>\n",
       "      <td>-0.002842</td>\n",
       "      <td>1.0</td>\n",
       "      <td>54466.0</td>\n",
       "      <td>3.0</td>\n",
       "      <td>16.713</td>\n",
       "      <td>0.15</td>\n",
       "      <td>000014F</td>\n",
       "    </tr>\n",
       "    <tr>\n",
       "      <th>S000009Ea</th>\n",
       "      <td>579.0</td>\n",
       "      <td>-2.034149</td>\n",
       "      <td>-0.117710</td>\n",
       "      <td>-0.933631</td>\n",
       "      <td>-0.000217</td>\n",
       "      <td>-0.007789</td>\n",
       "      <td>0.001225</td>\n",
       "      <td>1.0</td>\n",
       "      <td>54466.0</td>\n",
       "      <td>3.0</td>\n",
       "      <td>17.390</td>\n",
       "      <td>0.15</td>\n",
       "      <td>0000243</td>\n",
       "    </tr>\n",
       "    <tr>\n",
       "      <th>S00000fua</th>\n",
       "      <td>932.0</td>\n",
       "      <td>-0.816946</td>\n",
       "      <td>3.114705</td>\n",
       "      <td>-0.379257</td>\n",
       "      <td>-0.006347</td>\n",
       "      <td>0.001696</td>\n",
       "      <td>-0.000940</td>\n",
       "      <td>1.0</td>\n",
       "      <td>54466.0</td>\n",
       "      <td>3.0</td>\n",
       "      <td>17.977</td>\n",
       "      <td>0.15</td>\n",
       "      <td>00003A4</td>\n",
       "    </tr>\n",
       "    <tr>\n",
       "      <th>S00000jsa</th>\n",
       "      <td>1175.0</td>\n",
       "      <td>-1.428541</td>\n",
       "      <td>-0.739073</td>\n",
       "      <td>-1.059737</td>\n",
       "      <td>0.010892</td>\n",
       "      <td>-0.002073</td>\n",
       "      <td>0.003008</td>\n",
       "      <td>1.0</td>\n",
       "      <td>54466.0</td>\n",
       "      <td>3.0</td>\n",
       "      <td>18.259</td>\n",
       "      <td>0.15</td>\n",
       "      <td>0000497</td>\n",
       "    </tr>\n",
       "    <tr>\n",
       "      <th>...</th>\n",
       "      <td>...</td>\n",
       "      <td>...</td>\n",
       "      <td>...</td>\n",
       "      <td>...</td>\n",
       "      <td>...</td>\n",
       "      <td>...</td>\n",
       "      <td>...</td>\n",
       "      <td>...</td>\n",
       "      <td>...</td>\n",
       "      <td>...</td>\n",
       "      <td>...</td>\n",
       "      <td>...</td>\n",
       "      <td>...</td>\n",
       "    </tr>\n",
       "    <tr>\n",
       "      <th>S00015ySa</th>\n",
       "      <td>252642.0</td>\n",
       "      <td>-1.241447</td>\n",
       "      <td>0.363831</td>\n",
       "      <td>-0.070625</td>\n",
       "      <td>-0.000347</td>\n",
       "      <td>-0.015706</td>\n",
       "      <td>-0.002807</td>\n",
       "      <td>1.0</td>\n",
       "      <td>54466.0</td>\n",
       "      <td>3.0</td>\n",
       "      <td>24.924</td>\n",
       "      <td>0.15</td>\n",
       "      <td>003DAE2</td>\n",
       "    </tr>\n",
       "    <tr>\n",
       "      <th>S00015RKa</th>\n",
       "      <td>253781.0</td>\n",
       "      <td>2.664565</td>\n",
       "      <td>-1.647325</td>\n",
       "      <td>0.364562</td>\n",
       "      <td>0.003198</td>\n",
       "      <td>0.006329</td>\n",
       "      <td>-0.000184</td>\n",
       "      <td>1.0</td>\n",
       "      <td>54466.0</td>\n",
       "      <td>3.0</td>\n",
       "      <td>24.930</td>\n",
       "      <td>0.15</td>\n",
       "      <td>003DF55</td>\n",
       "    </tr>\n",
       "    <tr>\n",
       "      <th>S00017xaa</th>\n",
       "      <td>260048.0</td>\n",
       "      <td>-1.120751</td>\n",
       "      <td>-0.151135</td>\n",
       "      <td>-0.043414</td>\n",
       "      <td>0.002398</td>\n",
       "      <td>-0.016566</td>\n",
       "      <td>0.007642</td>\n",
       "      <td>1.0</td>\n",
       "      <td>54466.0</td>\n",
       "      <td>3.0</td>\n",
       "      <td>24.960</td>\n",
       "      <td>0.15</td>\n",
       "      <td>003F7D0</td>\n",
       "    </tr>\n",
       "    <tr>\n",
       "      <th>S0001805a</th>\n",
       "      <td>261795.0</td>\n",
       "      <td>0.300718</td>\n",
       "      <td>0.449375</td>\n",
       "      <td>0.254915</td>\n",
       "      <td>-0.025643</td>\n",
       "      <td>0.013277</td>\n",
       "      <td>0.002702</td>\n",
       "      <td>1.0</td>\n",
       "      <td>54466.0</td>\n",
       "      <td>3.0</td>\n",
       "      <td>24.968</td>\n",
       "      <td>0.15</td>\n",
       "      <td>003FEA3</td>\n",
       "    </tr>\n",
       "    <tr>\n",
       "      <th>S000181Da</th>\n",
       "      <td>261887.0</td>\n",
       "      <td>-1.724512</td>\n",
       "      <td>1.836015</td>\n",
       "      <td>-0.515786</td>\n",
       "      <td>0.000161</td>\n",
       "      <td>-0.008563</td>\n",
       "      <td>0.002531</td>\n",
       "      <td>1.0</td>\n",
       "      <td>54466.0</td>\n",
       "      <td>3.0</td>\n",
       "      <td>24.969</td>\n",
       "      <td>0.15</td>\n",
       "      <td>003FEFF</td>\n",
       "    </tr>\n",
       "  </tbody>\n",
       "</table>\n",
       "<p>196 rows × 13 columns</p>\n",
       "</div>"
      ],
      "text/plain": [
       "                 id         x         y         z        vx        vy  \\\n",
       "S000002Ma     167.0 -1.667047 -0.858776 -1.326359  0.004811 -0.005856   \n",
       "S000005Aa     335.0 -2.670562 -0.879820 -1.468497  0.004954 -0.002611   \n",
       "S000009Ea     579.0 -2.034149 -0.117710 -0.933631 -0.000217 -0.007789   \n",
       "S00000fua     932.0 -0.816946  3.114705 -0.379257 -0.006347  0.001696   \n",
       "S00000jsa    1175.0 -1.428541 -0.739073 -1.059737  0.010892 -0.002073   \n",
       "...             ...       ...       ...       ...       ...       ...   \n",
       "S00015ySa  252642.0 -1.241447  0.363831 -0.070625 -0.000347 -0.015706   \n",
       "S00015RKa  253781.0  2.664565 -1.647325  0.364562  0.003198  0.006329   \n",
       "S00017xaa  260048.0 -1.120751 -0.151135 -0.043414  0.002398 -0.016566   \n",
       "S0001805a  261795.0  0.300718  0.449375  0.254915 -0.025643  0.013277   \n",
       "S000181Da  261887.0 -1.724512  1.836015 -0.515786  0.000161 -0.008563   \n",
       "\n",
       "                 vz  coords      t_0  time_type       H     g   hex_id  \n",
       "S000002Ma -0.004398     1.0  54466.0        3.0  15.849  0.15  00000A7  \n",
       "S000005Aa -0.002842     1.0  54466.0        3.0  16.713  0.15  000014F  \n",
       "S000009Ea  0.001225     1.0  54466.0        3.0  17.390  0.15  0000243  \n",
       "S00000fua -0.000940     1.0  54466.0        3.0  17.977  0.15  00003A4  \n",
       "S00000jsa  0.003008     1.0  54466.0        3.0  18.259  0.15  0000497  \n",
       "...             ...     ...      ...        ...     ...   ...      ...  \n",
       "S00015ySa -0.002807     1.0  54466.0        3.0  24.924  0.15  003DAE2  \n",
       "S00015RKa -0.000184     1.0  54466.0        3.0  24.930  0.15  003DF55  \n",
       "S00017xaa  0.007642     1.0  54466.0        3.0  24.960  0.15  003F7D0  \n",
       "S0001805a  0.002702     1.0  54466.0        3.0  24.968  0.15  003FEA3  \n",
       "S000181Da  0.002531     1.0  54466.0        3.0  24.969  0.15  003FEFF  \n",
       "\n",
       "[196 rows x 13 columns]"
      ]
     },
     "execution_count": 102,
     "metadata": {},
     "output_type": "execute_result"
    }
   ],
   "source": [
    "true_params"
   ]
  },
  {
   "cell_type": "code",
   "execution_count": 94,
   "id": "e931efa3",
   "metadata": {},
   "outputs": [
    {
     "data": {
      "image/png": "[encoded data removed]",
      "text/plain": [
       "<Figure size 864x576 with 1 Axes>"
      ]
     },
     "metadata": {
      "image/png": {
       "height": 473,
       "width": 712
      },
      "needs_background": "light"
     },
     "output_type": "display_data"
    }
   ],
   "source": [
    "plt.hist(q[got_it_right])\n",
    "plt.hist(q[np.logical_not(got_it_right)])\n",
    "plt.show()"
   ]
  },
  {
   "cell_type": "code",
   "execution_count": 105,
   "id": "70506492",
   "metadata": {},
   "outputs": [
    {
     "data": {
      "image/png": "[encoded data removed]",
      "text/plain": [
       "<Figure size 864x576 with 1 Axes>"
      ]
     },
     "metadata": {
      "image/png": {
       "height": 473,
       "width": 712
      },
      "needs_background": "light"
     },
     "output_type": "display_data"
    }
   ],
   "source": [
    "plt.hist(true_params[\"H\"][got_it_right])\n",
    "plt.hist(true_params[\"H\"][np.logical_not(got_it_right)], alpha=0.5)\n",
    "plt.show()"
   ]
  },
  {
   "cell_type": "markdown",
   "id": "ac24d2a8",
   "metadata": {},
   "source": [
    "# Probability of each predicted detection based on orbit fraction"
   ]
  },
  {
   "cell_type": "code",
   "execution_count": 229,
   "id": "a576f626",
   "metadata": {},
   "outputs": [
    {
     "name": "stdout",
     "output_type": "stream",
     "text": [
      "10\n",
      "mjd_utc\n",
      "59649.295709    100.0\n",
      "59649.296156    100.0\n",
      "59649.320180    100.0\n",
      "59649.320627    100.0\n",
      "Name: orbit_id, dtype: float64\n",
      "\n",
      "11\n",
      "mjd_utc\n",
      "59650.330174    100.000000\n",
      "59650.351728     99.543379\n",
      "Name: orbit_id, dtype: float64\n",
      "\n",
      "12\n",
      "mjd_utc\n",
      "59651.250333    1.065449\n",
      "59651.274791    0.913242\n",
      "Name: orbit_id, dtype: float64\n",
      "\n",
      "13\n",
      "mjd_utc\n",
      "59652.367719    77.625571\n",
      "59652.376183     0.456621\n",
      "59652.377078     6.392694\n",
      "59652.378861    36.834094\n",
      "59652.387323     0.608828\n",
      "59652.388219     6.392694\n",
      "Name: orbit_id, dtype: float64\n",
      "\n",
      "14\n",
      "mjd_utc\n",
      "59653.244888    1.065449\n",
      "59653.247818    3.500761\n",
      "59653.268607    1.065449\n",
      "59653.271480    3.348554\n",
      "Name: orbit_id, dtype: float64\n",
      "\n",
      "15\n",
      "mjd_utc\n",
      "59654.240757    8.980213\n",
      "59654.241222    3.500761\n",
      "59654.241678    0.608828\n",
      "59654.242138    1.369863\n",
      "59654.264676    9.132420\n",
      "59654.265141    3.500761\n",
      "59654.265598    0.608828\n",
      "59654.266058    1.522070\n",
      "Name: orbit_id, dtype: float64\n",
      "\n",
      "16\n",
      "mjd_utc\n",
      "59655.262812     1.674277\n",
      "59655.263260     2.435312\n",
      "59655.263715    26.940639\n",
      "59655.282985    25.722983\n",
      "59655.285342     3.044140\n",
      "59655.285793     1.674277\n",
      "59655.286239     2.435312\n",
      "59655.286693    23.592085\n",
      "Name: orbit_id, dtype: float64\n",
      "\n",
      "17\n",
      "mjd_utc\n",
      "59656.252213    26.331811\n",
      "59656.253642     8.828006\n",
      "59656.273381     8.828006\n",
      "59656.273828     4.109589\n",
      "59656.274276     3.652968\n",
      "59656.275171     1.978691\n",
      "59656.297830     8.980213\n",
      "59656.298277    17.351598\n",
      "59656.298727     4.261796\n",
      "59656.314402     9.132420\n",
      "59656.314848    22.526636\n",
      "59656.315298     4.109589\n",
      "Name: orbit_id, dtype: float64\n",
      "\n",
      "18\n",
      "Series([], Name: orbit_id, dtype: float64)\n",
      "\n",
      "19\n",
      "Series([], Name: orbit_id, dtype: float64)\n",
      "\n",
      "20\n",
      "Series([], Name: orbit_id, dtype: float64)\n",
      "\n",
      "21\n",
      "mjd_utc\n",
      "59660.244140    10.045662\n",
      "59660.247448     7.610350\n",
      "59660.249254     0.913242\n",
      "59660.249701     7.001522\n",
      "59660.250147    18.264840\n",
      "59660.250594    24.657534\n",
      "59660.251057     3.348554\n",
      "59660.251504     1.826484\n",
      "59660.268392     2.130898\n",
      "59660.271667     0.152207\n",
      "59660.273465     0.913242\n",
      "59660.273910     7.001522\n",
      "59660.274356    18.112633\n",
      "59660.274801    16.286149\n",
      "59660.275263     3.196347\n",
      "59660.275709     1.826484\n",
      "Name: orbit_id, dtype: float64\n",
      "\n",
      "22\n",
      "mjd_utc\n",
      "59661.226692    13.850837\n",
      "59661.248001    15.829528\n",
      "59661.251137    21.156773\n",
      "Name: orbit_id, dtype: float64\n",
      "\n",
      "23\n",
      "mjd_utc\n",
      "59662.194898    3.805175\n",
      "59662.219057    3.805175\n",
      "Name: orbit_id, dtype: float64\n",
      "\n",
      "24\n",
      "Series([], Name: orbit_id, dtype: float64)\n",
      "\n"
     ]
    }
   ],
   "source": [
    "for i in range(10, 25):\n",
    "    x = joined_table[joined_table[\"observed\"] & (joined_table[\"night\"] == i)]\n",
    "    print(i)\n",
    "    print(x.groupby(\"mjd_utc\").count()[\"orbit_id\"] / len(joined_table[\"orbit_id\"].unique()) * 100)\n",
    "    print()"
   ]
  },
  {
   "cell_type": "code",
   "execution_count": 205,
   "id": "5489d71d",
   "metadata": {},
   "outputs": [
    {
     "data": {
      "text/plain": [
       "array([ 0.15384615,  0.76923077, 36.        , 26.30769231,  8.30769231,\n",
       "       19.38461538, 10.15384615,  2.61538462,  0.15384615,  0.76923077,\n",
       "       36.30769231, 26.30769231,  8.30769231, 19.53846154, 10.30769231,\n",
       "        2.46153846,  0.15384615,  0.76923077, 36.        , 26.30769231,\n",
       "        8.        , 19.53846154, 10.46153846,  2.46153846,  0.15384615,\n",
       "        0.76923077, 35.84615385, 26.30769231,  8.        , 19.38461538,\n",
       "       10.76923077,  2.46153846,  0.76923077, 26.30769231,  8.        ,\n",
       "       19.23076923, 35.84615385,  0.15384615,  0.76923077, 26.15384615,\n",
       "        8.        , 19.38461538, 35.69230769,  0.15384615,  0.15384615,\n",
       "        0.76923077, 35.69230769, 26.15384615,  0.15384615,  1.69230769,\n",
       "       19.69230769, 10.61538462,  2.30769231,  0.15384615,  0.76923077,\n",
       "       35.53846154, 26.15384615,  0.15384615,  1.84615385, 19.38461538,\n",
       "       10.61538462,  2.30769231])"
      ]
     },
     "execution_count": 205,
     "metadata": {},
     "output_type": "execute_result"
    }
   ],
   "source": [
    "x = joined_table[joined_table[\"observed\"] & (joined_table[\"night\"] == 18)]\n",
    "x.groupby(\"mjd_utc\").count()[\"orbit_id\"].values / len(joined_table[\"orbit_id\"].unique()) * 100"
   ]
  },
  {
   "cell_type": "code",
   "execution_count": null,
   "id": "8259fbe3",
   "metadata": {},
   "outputs": [],
   "source": []
  }
 ],
 "metadata": {
  "kernelspec": {
   "display_name": "NEOCP",
   "language": "python",
   "name": "neocp"
  },
  "language_info": {
   "codemirror_mode": {
    "name": "ipython",
    "version": 3
   },
   "file_extension": ".py",
   "mimetype": "text/x-python",
   "name": "python",
   "nbconvert_exporter": "python",
   "pygments_lexer": "ipython3",
   "version": "3.9.12"
  }
 },
 "nbformat": 4,
 "nbformat_minor": 5
}
